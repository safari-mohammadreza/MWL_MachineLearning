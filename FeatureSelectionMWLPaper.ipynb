{
  "cells": [
    {
      "cell_type": "markdown",
      "metadata": {
        "id": "view-in-github",
        "colab_type": "text"
      },
      "source": [
        "<a href=\"https://colab.research.google.com/github/safari-mohammadreza/MWL_MachineLearning/blob/main/FeatureSelectionMWLPaper.ipynb\" target=\"_parent\"><img src=\"https://colab.research.google.com/assets/colab-badge.svg\" alt=\"Open In Colab\"/></a>"
      ]
    },
    {
      "cell_type": "markdown",
      "metadata": {
        "id": "V6pCR08bYmJb"
      },
      "source": [
        "# Initialize"
      ],
      "id": "V6pCR08bYmJb"
    },
    {
      "cell_type": "markdown",
      "metadata": {
        "id": "p1ad-Q5TrKt8"
      },
      "source": [
        "## Import section"
      ],
      "id": "p1ad-Q5TrKt8"
    },
    {
      "cell_type": "code",
      "execution_count": null,
      "metadata": {
        "id": "a856d6cd"
      },
      "outputs": [],
      "source": [
        "from scipy.stats import ttest_ind,ranksums\n",
        "import numpy as np\n",
        "import glob\n",
        "import seaborn as sns\n",
        "import pandas as pd\n",
        "import scipy.io\n",
        "from sklearn.model_selection import train_test_split\n",
        "from sklearn.svm import LinearSVC\n",
        "from sklearn.pipeline import make_pipeline\n",
        "from sklearn.preprocessing import StandardScaler, MinMaxScaler\n",
        "from sklearn.svm import SVC\n",
        "from sklearn.model_selection import GridSearchCV\n",
        "from sklearn.metrics import accuracy_score,roc_auc_score\n",
        "from sklearn.neighbors import KNeighborsClassifier\n",
        "from sklearn.ensemble import RandomForestClassifier\n",
        "from sklearn.linear_model import SGDClassifier\n",
        "# from catboost import CatBoostClassifier\n",
        "from sklearn.tree import DecisionTreeClassifier\n",
        "from sklearn.linear_model import LogisticRegression\n",
        "from sklearn.model_selection import LeaveOneOut,KFold\n",
        "from sklearn.gaussian_process import GaussianProcessClassifier\n",
        "from sklearn.gaussian_process.kernels import RBF\n",
        "from sklearn.neural_network import MLPClassifier\n",
        "from sklearn.decomposition import KernelPCA,PCA\n",
        "import matplotlib.pyplot as plt\n",
        "from sklearn.preprocessing import normalize\n",
        "from sklearn.preprocessing import Normalizer\n",
        "from sklearn.model_selection import train_test_split\n",
        "import networkx as nx\n",
        "from sklearn.model_selection import GridSearchCV\n",
        "from collections import OrderedDict\n",
        "from sklearn.naive_bayes import GaussianNB\n",
        "import math\n",
        "from sklearn.metrics import precision_recall_fscore_support\n",
        "import os\n",
        "from sklearn.discriminant_analysis import LinearDiscriminantAnalysis\n",
        "import pickle\n",
        "\n",
        "# !pip install numpy Cython\n",
        "# !pip install -U pymrmr\n",
        "# !pip install jupyternotify\n",
        "\n",
        "# %config Completer.use_jedi = False\n",
        "# pd.set_option('precision', 3)\n",
        "# np.set_printoptions(formatter={'float': lambda x: \"{0:0.3f}\".format(x)})"
      ],
      "id": "a856d6cd"
    },
    {
      "cell_type": "code",
      "execution_count": null,
      "metadata": {
        "colab": {
          "base_uri": "https://localhost:8080/"
        },
        "id": "1970ace7",
        "outputId": "a202d11a-ad4f-48dd-9074-15a00129a573"
      },
      "outputs": [
        {
          "output_type": "display_data",
          "data": {
            "text/plain": [
              "<IPython.core.display.Javascript object>"
            ],
            "application/javascript": [
              "if (!(\"Notification\" in window)) {\n",
              "    alert(\"This browser does not support desktop notifications, so the %%notify magic will not work.\");\n",
              "} else if (Notification.permission !== 'granted' && Notification.permission !== 'denied') {\n",
              "    Notification.requestPermission(function (permission) {\n",
              "        if(!('permission' in Notification)) {\n",
              "            Notification.permission = permission;\n",
              "        }\n",
              "    })\n",
              "}\n"
            ]
          },
          "metadata": {}
        }
      ],
      "source": [
        "import jupyternotify\n",
        "ip = get_ipython()\n",
        "ip.register_magics(jupyternotify.JupyterNotifyMagics)"
      ],
      "id": "1970ace7"
    },
    {
      "cell_type": "markdown",
      "metadata": {
        "id": "NyQ8kgmXrFPX"
      },
      "source": [
        "## Define some constants"
      ],
      "id": "NyQ8kgmXrFPX"
    },
    {
      "cell_type": "code",
      "execution_count": null,
      "metadata": {
        "id": "23606b53"
      },
      "outputs": [],
      "source": [
        "save_plot=True\n",
        "save_edge=False\n",
        "con_type='dDTF'\n",
        "n_top=30\n",
        "n_avg=2\n",
        "condition=''\n",
        "path='/content/gdrive/My Drive/your_path'\n",
        "save_path='/content/gdrive/My Drive/your_path/save/'\n",
        "save_fig='/content/gdrive/My Drive/your_path/figure/'\n",
        "\n",
        "models=['svm','lda','rf','dt']\n",
        "bands=['delta','theta','alpha','beta','gamma','top150']\n",
        "\n",
        "index_arr = [[\"delta\", \"theta\", \"alpha\", \"beta\", \"gamma\",'top150'], [\"svm\", \"lda\",\"rf\",\"dt\"]]\n",
        "\n",
        "# creating dataframe of 'results' for each model, each freq. band and two conditions: with FS(feature selection) and without FS\n",
        "index = pd.MultiIndex.from_product(index_arr, names=[\"Band\", \"Model\"])\n",
        "display(index)\n",
        "\n",
        "col_arr=[[\"Without FS\", \"With FS\"],[\"Accuracy\", \"Precision\",\"Recall\",\"F1-Measure\"]]\n",
        "col_index=pd.MultiIndex.from_product(col_arr, names=[\" \", \" \"])\n",
        "display(col_index)\n",
        "\n",
        "results=pd.DataFrame(np.nan,index=index,columns=col_index)\n",
        "results=results.astype(str)\n",
        "display(results)"
      ],
      "id": "23606b53"
    },
    {
      "cell_type": "markdown",
      "metadata": {
        "id": "e1d3H4VmQOmQ"
      },
      "source": [
        "## Define some functions"
      ],
      "id": "e1d3H4VmQOmQ"
    },
    {
      "cell_type": "markdown",
      "metadata": {
        "id": "8BfuzfoMYR_U"
      },
      "source": [
        "### Classifiers functions"
      ],
      "id": "8BfuzfoMYR_U"
    },
    {
      "cell_type": "code",
      "execution_count": null,
      "metadata": {
        "id": "1cb8bda6"
      },
      "outputs": [],
      "source": [
        "def lda(df,print_results=True):\n",
        "    data=df.to_numpy()\n",
        "    X=data[:,:-1]\n",
        "    y=data[:,-1] # extract last column of data as the 'label'\n",
        "    kf = KFold(n_splits=7,shuffle=True,random_state=0)\n",
        "    all_acc=[]\n",
        "    all_precision=[]\n",
        "    all_recall=[]\n",
        "    all_f1=[]\n",
        "    for train_index, test_index in kf.split(X):\n",
        "        X_train, X_test = X[train_index], X[test_index]\n",
        "        y_train, y_test = y[train_index], y[test_index]\n",
        "        scaler = StandardScaler()\n",
        "        X_train=scaler.fit_transform(X_train)\n",
        "        X_test=scaler.transform(X_test)\n",
        "        clf = LinearDiscriminantAnalysis(solver='lsqr')\n",
        "        clf.fit(X_train, y_train)\n",
        "        precision, recall, f1, _=precision_recall_fscore_support(y_test, clf.predict(X_test), average='binary')\n",
        "        all_acc.append(accuracy_score(y_test,clf.predict(X_test)))\n",
        "        all_precision.append(precision)\n",
        "        all_recall.append(recall)\n",
        "        all_f1.append(f1)\n",
        "    # results\n",
        "    all_acc=np.array(all_acc)\n",
        "    all_precision=np.array(all_precision)\n",
        "    all_recall=np.array(all_recall)\n",
        "    all_f1=np.array(all_f1)\n",
        "    if print_results:\n",
        "        print(\"Accuracy LDA: \",all_acc.mean())\n",
        "    return all_acc, all_precision, all_recall, all_f1"
      ],
      "id": "1cb8bda6"
    },
    {
      "cell_type": "code",
      "source": [
        "def svm_mean_kfold(df,print_results=True):\n",
        "    data=df.to_numpy()\n",
        "    X=data[:,:-1]\n",
        "    y=data[:,-1]\n",
        "    kf = KFold(n_splits=7,shuffle=True,random_state=0)\n",
        "    all_acc=[]\n",
        "    all_precision=[]\n",
        "    all_recall=[]\n",
        "    all_f1=[]\n",
        "    for train_index, test_index in kf.split(X):\n",
        "        X_train, X_test = X[train_index], X[test_index]\n",
        "        y_train, y_test = y[train_index], y[test_index]\n",
        "        scaler = StandardScaler()\n",
        "        X_train=scaler.fit_transform(X_train)\n",
        "        X_test=scaler.transform(X_test)\n",
        "        clf = SVC(random_state=0, probability=True)\n",
        "        clf.fit(X_train, y_train)\n",
        "        precision, recall, f1, _=precision_recall_fscore_support(y_test, clf.predict(X_test), average='binary')\n",
        "        all_acc.append(accuracy_score(y_test,clf.predict(X_test)))\n",
        "\n",
        "    # results\n",
        "    all_acc=np.array(all_acc)\n",
        "    return all_acc.mean()"
      ],
      "metadata": {
        "id": "7GlPifPVQXBC"
      },
      "id": "7GlPifPVQXBC",
      "execution_count": null,
      "outputs": []
    },
    {
      "cell_type": "code",
      "execution_count": null,
      "metadata": {
        "id": "300ae6d8"
      },
      "outputs": [],
      "source": [
        "def svm(df,print_results=True):\n",
        "    data=df.to_numpy()\n",
        "    X=data[:,:-1]\n",
        "    y=data[:,-1]\n",
        "    kf = KFold(n_splits=7,shuffle=True,random_state=0)\n",
        "    all_acc=[]\n",
        "    all_precision=[]\n",
        "    all_recall=[]\n",
        "    all_f1=[]\n",
        "    for train_index, test_index in kf.split(X):\n",
        "        X_train, X_test = X[train_index], X[test_index]\n",
        "        y_train, y_test = y[train_index], y[test_index]\n",
        "        scaler = StandardScaler()\n",
        "        X_train=scaler.fit_transform(X_train)\n",
        "        X_test=scaler.transform(X_test)\n",
        "        clf = SVC(random_state=0, probability=True)\n",
        "        clf.fit(X_train, y_train)\n",
        "        precision, recall, f1, _=precision_recall_fscore_support(y_test, clf.predict(X_test), average='binary')\n",
        "        all_acc.append(accuracy_score(y_test,clf.predict(X_test)))\n",
        "        all_precision.append(precision)\n",
        "        all_recall.append(recall)\n",
        "        all_f1.append(f1)\n",
        "    # results\n",
        "    all_acc=np.array(all_acc)\n",
        "    all_precision=np.array(all_precision)\n",
        "    all_recall=np.array(all_recall)\n",
        "    all_f1=np.array(all_f1)\n",
        "    if print_results:\n",
        "        print(\"Accuracy SVM: \",all_acc.mean())\n",
        "    return all_acc, all_precision, all_recall, all_f1"
      ],
      "id": "300ae6d8"
    },
    {
      "cell_type": "code",
      "execution_count": null,
      "metadata": {
        "id": "29af9d9b"
      },
      "outputs": [],
      "source": [
        "def rf(df,print_results=True): # random forest\n",
        "    data=df.to_numpy()\n",
        "    X=data[:,:-1]\n",
        "    y=data[:,-1]\n",
        "    kf = KFold(n_splits=7,shuffle=True,random_state=0)\n",
        "    all_acc=[]\n",
        "    all_precision=[]\n",
        "    all_recall=[]\n",
        "    all_f1=[]\n",
        "    for train_index, test_index in kf.split(X):\n",
        "        X_train, X_test = X[train_index], X[test_index]\n",
        "        y_train, y_test = y[train_index], y[test_index]\n",
        "        clf = RandomForestClassifier(random_state=0)\n",
        "        clf.fit(X_train, y_train)\n",
        "        precision, recall, f1, _=precision_recall_fscore_support(y_test, clf.predict(X_test), average='binary')\n",
        "        all_acc.append(accuracy_score(y_test,clf.predict(X_test)))\n",
        "        all_precision.append(precision)\n",
        "        all_recall.append(recall)\n",
        "        all_f1.append(f1)\n",
        "    # results\n",
        "    all_acc=np.array(all_acc)\n",
        "    all_precision=np.array(all_precision)\n",
        "    all_recall=np.array(all_recall)\n",
        "    all_f1=np.array(all_f1)\n",
        "    if print_results:\n",
        "        print(\"Accuracy RF: \",all_acc.mean())\n",
        "    return all_acc, all_precision, all_recall, all_f1"
      ],
      "id": "29af9d9b"
    },
    {
      "cell_type": "code",
      "execution_count": null,
      "metadata": {
        "id": "9855206c"
      },
      "outputs": [],
      "source": [
        "def dt(df,print_results=True): # decision tree\n",
        "    data=df.to_numpy()\n",
        "    X=data[:,:-1]\n",
        "    y=data[:,-1]\n",
        "    kf = KFold(n_splits=7,shuffle=True,random_state=0)\n",
        "    all_acc=[]\n",
        "    all_precision=[]\n",
        "    all_recall=[]\n",
        "    all_f1=[]\n",
        "    for train_index, test_index in kf.split(X):\n",
        "        X_train, X_test = X[train_index], X[test_index]\n",
        "        y_train, y_test = y[train_index], y[test_index]\n",
        "        clf = DecisionTreeClassifier(random_state=0,\n",
        "                                    criterion='entropy', max_depth=22, min_samples_leaf=8)\n",
        "        clf.fit(X_train, y_train)\n",
        "        precision, recall, f1, _=precision_recall_fscore_support(y_test, clf.predict(X_test), average='binary')\n",
        "        all_acc.append(accuracy_score(y_test,clf.predict(X_test)))\n",
        "        all_precision.append(precision)\n",
        "        all_recall.append(recall)\n",
        "        all_f1.append(f1)\n",
        "    # results\n",
        "    all_acc=np.array(all_acc)\n",
        "    all_precision=np.array(all_precision)\n",
        "    all_recall=np.array(all_recall)\n",
        "    all_f1=np.array(all_f1)\n",
        "    if print_results:\n",
        "        print(\"Accuracy DT: \",all_acc.mean())\n",
        "    return all_acc, all_precision, all_recall, all_f1"
      ],
      "id": "9855206c"
    },
    {
      "cell_type": "code",
      "execution_count": null,
      "metadata": {
        "id": "089814ba"
      },
      "outputs": [],
      "source": [
        "def lr(df):  #logestic regression\n",
        "    data=df.to_numpy()\n",
        "    X=data[:,:-1]\n",
        "    y=data[:,-1]\n",
        "    kf = KFold(n_splits=7,shuffle=True,random_state=0)\n",
        "    all_auc=[]\n",
        "    all_acc=[]\n",
        "    for train_index, test_index in kf.split(X):\n",
        "        X_train, X_test = X[train_index], X[test_index]\n",
        "        y_train, y_test = y[train_index], y[test_index]\n",
        "        scaler = StandardScaler()\n",
        "        X_train=scaler.fit_transform(X_train)\n",
        "        X_test=scaler.transform(X_test)\n",
        "        clf = LogisticRegression()\n",
        "        clf.fit(X_train, y_train)\n",
        "        all_acc.append(accuracy_score(y_test,clf.predict(X_test)))\n",
        "        all_auc.append(roc_auc_score(y_test,clf.predict_proba(X_test)[:,1]))\n",
        "    # results\n",
        "    all_auc=np.array(all_auc).mean()\n",
        "    all_acc=np.array(all_acc).mean()\n",
        "#     print(\"Accuracy LR: \",all_acc)\n",
        "#     print(\"AUC LR: \",all_auc)\n",
        "    return all_acc, all_auc"
      ],
      "id": "089814ba"
    },
    {
      "cell_type": "code",
      "execution_count": null,
      "metadata": {
        "id": "84e32b28",
        "scrolled": true
      },
      "outputs": [],
      "source": [
        "def rf_with_fs(df): #random forest with feature selection (top n features (n=30))\n",
        "    ls_feature=list(df.columns[:-1])\n",
        "    best_acc=-np.inf\n",
        "    selected_features=[]\n",
        "    best_feature=None\n",
        "    df_results=pd.DataFrame([])\n",
        "    c=0\n",
        "    for n_comb in range(len(ls_feature)):\n",
        "        best_current=0\n",
        "        acc_current=None\n",
        "        feature_current=None\n",
        "        to_be_selected=None\n",
        "        for feature in ls_feature:\n",
        "            selected_features.append(feature)\n",
        "            acc_current, _, _, _=rf(df[selected_features+['label']],print_results=False)\n",
        "            acc_current=acc_current.mean()\n",
        "            df_results=df_results.append({'Features':n_comb,'Accouracy':acc_current},ignore_index=True)\n",
        "#             print(selected_features)\n",
        "            if best_current<acc_current:\n",
        "                best_current=acc_current\n",
        "                to_be_selected=feature\n",
        "            selected_features.remove(feature)\n",
        "        selected_features.append(to_be_selected)\n",
        "        ls_feature.remove(to_be_selected)\n",
        "        if best_acc<best_current:\n",
        "            best_acc=best_current\n",
        "            best_feature=selected_features[:]\n",
        "            c+=1\n",
        "            print(f\"feature{c}: {to_be_selected}\")\n",
        "            print(\"ACC Updated:\",best_acc)\n",
        "    return best_feature,df_results"
      ],
      "id": "84e32b28"
    },
    {
      "cell_type": "code",
      "execution_count": null,
      "metadata": {
        "id": "d4583eed"
      },
      "outputs": [],
      "source": [
        "def lda_with_fs(df):\n",
        "    ls_feature=list(df.columns[:-1])\n",
        "    best_acc=-np.inf\n",
        "    selected_features=[]\n",
        "    best_feature=None\n",
        "    df_results=pd.DataFrame([])\n",
        "    for n_comb in range(len(ls_feature)):\n",
        "        best_current=0\n",
        "        acc_current=None\n",
        "        feature_current=None\n",
        "        to_be_selected=None\n",
        "        for feature in ls_feature:\n",
        "            selected_features.append(feature)\n",
        "            acc_current, _, _, _=lda(df[selected_features+['label']],print_results=False)\n",
        "            acc_current=acc_current.mean()\n",
        "            df_results=df_results.append({'Features':n_comb,'Accouracy':acc_current},ignore_index=True)\n",
        "#             print(selected_features)\n",
        "            if best_current<acc_current:\n",
        "                best_current=acc_current\n",
        "                to_be_selected=feature\n",
        "            selected_features.remove(feature)\n",
        "        selected_features.append(to_be_selected)\n",
        "        ls_feature.remove(to_be_selected)\n",
        "        if best_acc<best_current:\n",
        "            best_acc=best_current\n",
        "            best_feature=selected_features[:]\n",
        "            print(\"ACC Updated:\",best_acc)\n",
        "    return best_feature,df_results"
      ],
      "id": "d4583eed"
    },
    {
      "cell_type": "code",
      "execution_count": null,
      "metadata": {
        "id": "622bdf26"
      },
      "outputs": [],
      "source": [
        "def dt_with_fs(df):\n",
        "    ls_feature=list(df.columns[:-1])\n",
        "    best_acc=-np.inf\n",
        "    selected_features=[]\n",
        "    best_feature=None\n",
        "    df_results=pd.DataFrame([])\n",
        "    for n_comb in range(len(ls_feature)):\n",
        "        best_current=0\n",
        "        acc_current=None\n",
        "        feature_current=None\n",
        "        to_be_selected=None\n",
        "        for feature in ls_feature:\n",
        "            selected_features.append(feature)\n",
        "            acc_current, _, _, _=dt(df[selected_features+['label']],print_results=False)\n",
        "            acc_current=acc_current.mean()\n",
        "            df_results=df_results.append({'Features':n_comb,'Accouracy':acc_current},ignore_index=True)\n",
        "#             print(selected_features)\n",
        "            if best_current<acc_current:\n",
        "                best_current=acc_current\n",
        "                to_be_selected=feature\n",
        "            selected_features.remove(feature)\n",
        "        selected_features.append(to_be_selected)\n",
        "        ls_feature.remove(to_be_selected)\n",
        "        if best_acc<best_current:\n",
        "            best_acc=best_current\n",
        "            best_feature=selected_features[:]\n",
        "            print(\"ACC Updated:\",best_acc)\n",
        "    return best_feature,df_results"
      ],
      "id": "622bdf26"
    },
    {
      "cell_type": "code",
      "execution_count": null,
      "metadata": {
        "id": "84e8903d"
      },
      "outputs": [],
      "source": [
        "def svm_with_fs(df):\n",
        "    ls_feature=list(df.columns[:-1])\n",
        "    best_acc=-np.inf\n",
        "    selected_features=[]\n",
        "    best_feature=None\n",
        "    df_results=pd.DataFrame([])\n",
        "    c=0\n",
        "    for n_comb in range(len(ls_feature)):\n",
        "        best_current=0\n",
        "        acc_current=None\n",
        "        feature_current=None\n",
        "        to_be_selected=None\n",
        "        for feature in ls_feature:\n",
        "            selected_features.append(feature)\n",
        "            acc_current, _, _, _=svm(df[selected_features+['label']],print_results=False)\n",
        "            acc_current=acc_current.mean()\n",
        "            df_results=df_results.append({'Features':n_comb,'Accouracy':acc_current},ignore_index=True)\n",
        "#             print(selected_features)\n",
        "            if best_current<acc_current:\n",
        "                best_current=acc_current\n",
        "                to_be_selected=feature\n",
        "            selected_features.remove(feature)\n",
        "        selected_features.append(to_be_selected)\n",
        "        ls_feature.remove(to_be_selected)\n",
        "        if best_acc<best_current:\n",
        "            best_acc=best_current\n",
        "            best_feature=selected_features[:]\n",
        "            c+=1\n",
        "            print(f\"feature{c}: {to_be_selected}\")\n",
        "            print(\"ACC Updated:\",best_acc)\n",
        "    return best_feature,df_results"
      ],
      "id": "84e8903d"
    },
    {
      "cell_type": "markdown",
      "metadata": {
        "id": "2kyZqHvUIySr"
      },
      "source": [
        "### Other functions"
      ],
      "id": "2kyZqHvUIySr"
    },
    {
      "cell_type": "code",
      "execution_count": null,
      "metadata": {
        "id": "2e36af88"
      },
      "outputs": [],
      "source": [
        "def read_mat(path, freq_band='alpha'):\n",
        "    number_of_segments=37\n",
        "    number_of_users=48\n",
        "    hi_counter=0\n",
        "    lo_counter=0\n",
        "    hi_data=np.zeros((number_of_users*number_of_segments,14,14)) # sub=48, win_num=37\n",
        "    lo_data=np.zeros((number_of_users*number_of_segments,14,14))\n",
        "    for subject_number in range(number_of_users):\n",
        "      for segment in range(number_of_segments):\n",
        "        path_subejct = path + \"dDTF_s\" + str(subject_number+1) + \"_hi_\" + freq_band + str(segment+1) + \".mat\"\n",
        "        ddtf=scipy.io.loadmat(path_subejct)['needToSave']\n",
        "        hi_data[hi_counter,:,:]=ddtf\n",
        "        hi_counter+=1\n",
        "      for segment in range(number_of_segments):\n",
        "        path_subejct = path + \"dDTF_s\" + str(subject_number+1) + \"_lo_\" + freq_band + str(segment+1) + \".mat\"\n",
        "        ddtf=scipy.io.loadmat(path_subejct)['needToSave']\n",
        "        lo_data[lo_counter,:,:]=ddtf\n",
        "        lo_counter+=1\n",
        "    return hi_data, lo_data"
      ],
      "id": "2e36af88"
    },
    {
      "cell_type": "code",
      "execution_count": null,
      "metadata": {
        "id": "f474b0dd"
      },
      "outputs": [],
      "source": [
        "def plot_mean_index(mean_index, label, vmin, vmax, save_path, save_plot=False,cmap='jet'):\n",
        "    df_p_value = pd.DataFrame(mean_index, columns=label, index=label)\n",
        "    f = sns.heatmap(df_p_value, cmap=cmap, vmin=vmin, vmax=vmax)\n",
        "    # cbar = f.collections[0].colorbar\n",
        "    # cbar.set_ticks([1, 30])\n",
        "    # cbar.set_ticklabels(['Rank 30', 'Rank1'])\n",
        "    if save_plot:\n",
        "        f.figure.savefig(save_path + \".png\", dpi=600)\n",
        "    plt.show()"
      ],
      "id": "f474b0dd"
    },
    {
      "cell_type": "code",
      "source": [
        "def plot_connectivity(auc_mat,label,save_path,ntop_features=30,save_edge=False,save_plot=False): # auc_mat=auc_mat_delta.flatten it's shape: (14*14,)=(196,)\n",
        "    df_con=pd.DataFrame(auc_mat,columns=['auc']) # result's shape: (196,1) - the column got label: 'auc'\n",
        "    df_con.reset_index(inplace=True) # result's shape: (196,2) - a column added named: index from 0to195\n",
        "    df_con.rename(columns={'index':'position'},inplace=True) # index column renamed to: position\n",
        "    df_con['x']=df_con['position']//14 # result's shape: (196,3) - a column added named: x from 0to13 that is quotient of 14\n",
        "    df_con['y']=df_con['position']%14 # result's shape: (196,4) - a column added named: y from 0to13 that is reminder of 14\n",
        "    df_con=df_con.sort_values('auc',ascending=False,ignore_index=True).reset_index() # result's shape: (196,5) - a column added named: index from 0to195 - rows are sorted desc by 'auc' column\n",
        "    df_con.rename(columns={'index':'rank'},inplace=True) # index column renamed to: rank\n",
        "    # df_con=df_con.iloc[:ntop_features] # select top 30 rows (features) - result's shape: (30, 5)\n",
        "    conn_mat=np.zeros((14*14))\n",
        "    conn_mat[df_con['position']]=df_con['auc'] # based on position's value, set value of auc to conn_mat and then reshape conn_mat to: (14, 14)\n",
        "    conn_mat=conn_mat.reshape(14,14)\n",
        "    conn_mat[conn_mat==0]=np.nan\n",
        "    plot_mean_index(conn_mat,label,np.nanmin(conn_mat),np.nanmax(conn_mat),save_path,save_plot)\n",
        "    if save_edge:\n",
        "        conn_mat=np.where(np.isnan(conn_mat),int(0),conn_mat)\n",
        "        np.savetxt(r''+ save_path + '.edge', conn_mat.T, delimiter='\\t')\n",
        "    return np.where(np.isnan(conn_mat),0,conn_mat) # result's shape: (14,14) - result is a 14,14 matrix that only top-30-auc-based connectivities has value.\n",
        "\n",
        "con=plot_connectivity(auc_mat_alpha.flatten(),label,save_path+'alpha_auc',save_edge=save_edge,save_plot=save_plot)"
      ],
      "metadata": {
        "colab": {
          "base_uri": "https://localhost:8080/",
          "height": 446
        },
        "id": "OFit9gdcSByY",
        "outputId": "ae365f9a-68da-4f1d-8f23-045ed5832d76"
      },
      "id": "OFit9gdcSByY",
      "execution_count": null,
      "outputs": [
        {
          "output_type": "display_data",
          "data": {
            "text/plain": [
              "<Figure size 640x480 with 2 Axes>"
            ],
            "image/png": "[encoded data removed]"
          },
          "metadata": {}
        }
      ]
    },
    {
      "cell_type": "code",
      "execution_count": null,
      "metadata": {
        "id": "7110b19b"
      },
      "outputs": [],
      "source": [
        "def prepare_data(indices,np_hi,np_lo,col_name=None):\n",
        "    np_hi=pd.DataFrame(np_hi.reshape(np_hi.shape[0],-1)[:,indices]) # initial_shape: (888, 14, 14) --- result_shape: (888, 1)\n",
        "    np_lo=pd.DataFrame(np_lo.reshape(np_lo.shape[0],-1)[:,indices])\n",
        "    np_hi['label']=1 # shape: (888, 2)\n",
        "    np_lo['label']=0\n",
        "    df_data=pd.concat([np_hi,np_lo],axis=0,ignore_index=True) #vertically concatenation. result shape: (1776, 2)\n",
        "    if col_name!=None:\n",
        "      df_data.set_axis(col_name + ['label'], axis=1, inplace=True)\n",
        "    return df_data"
      ],
      "id": "7110b19b"
    },
    {
      "cell_type": "code",
      "execution_count": null,
      "metadata": {
        "id": "ed7d6fe0"
      },
      "outputs": [],
      "source": [
        "def connectivity(auc_mat,label,save_path,ntop_features=30,save_edge=False,save_plot=False): # auc_mat=auc_mat_delta.flatten it's shape: (14*14,)=(196,)\n",
        "    df_con=pd.DataFrame(auc_mat,columns=['auc']) # result's shape: (196,1) - the column got label: 'auc'\n",
        "    df_con.reset_index(inplace=True) # result's shape: (196,2) - a column added named: index from 0to195\n",
        "    df_con.rename(columns={'index':'position'},inplace=True) # index column renamed to: position\n",
        "    df_con['x']=df_con['position']//14 # result's shape: (196,3) - a column added named: x from 0to13 that is quotient of 14\n",
        "    df_con['y']=df_con['position']%14 # result's shape: (196,4) - a column added named: y from 0to13 that is reminder of 14\n",
        "    df_con=df_con.sort_values('auc',ascending=False,ignore_index=True).reset_index() # result's shape: (196,5) - a column added named: index from 0to195 - rows are sorted desc by 'auc' column\n",
        "    df_con.rename(columns={'index':'rank'},inplace=True) # index column renamed to: rank\n",
        "    df_con=df_con.iloc[:ntop_features] # select top 30 rows (features) - result's shape: (30, 5)\n",
        "    conn_mat=np.zeros((14*14))\n",
        "    conn_mat[df_con['position']]=df_con['auc'] # based on position's value, set value of auc to conn_mat and then reshape conn_mat to: (14, 14)\n",
        "    conn_mat=conn_mat.reshape(14,14)\n",
        "    conn_mat[conn_mat==0]=np.nan\n",
        "    plot_mean_index(conn_mat,label,np.nanmin(conn_mat),np.nanmax(conn_mat),save_path,save_plot)\n",
        "    if save_edge:\n",
        "        conn_mat=np.where(np.isnan(conn_mat),int(0),conn_mat)\n",
        "        np.savetxt(r''+ save_path + '.edge', conn_mat.T, delimiter='\\t')\n",
        "    return np.where(np.isnan(conn_mat),0,conn_mat) # result's shape: (14,14) - result is a 14,14 matrix that only top-30-auc-based connectivities has value."
      ],
      "id": "ed7d6fe0"
    },
    {
      "cell_type": "code",
      "execution_count": null,
      "metadata": {
        "id": "551b9554"
      },
      "outputs": [],
      "source": [
        "def p_value(hi,lo):\n",
        "  p_mat=np.zeros((14,14))\n",
        "  for i in range(14):\n",
        "    for j in range(14):\n",
        "      stat,p=ttest_ind(hi[:,i,j],lo[:,i,j])\n",
        "      p_mat[i,j]=p\n",
        "  return p_mat"
      ],
      "id": "551b9554"
    },
    {
      "cell_type": "code",
      "execution_count": null,
      "metadata": {
        "id": "914d3c60"
      },
      "outputs": [],
      "source": [
        "def get_min(data):\n",
        "  min_value=np.inf\n",
        "  for n in range(data.shape[0]):\n",
        "    for i in range(data.shape[1]):\n",
        "      for j in range(data.shape[2]):\n",
        "        if i==j:\n",
        "          continue\n",
        "        if data[n,i,j] < min_value:\n",
        "          min_value = data[n,i,j]\n",
        "  return min_value"
      ],
      "id": "914d3c60"
    },
    {
      "cell_type": "code",
      "execution_count": null,
      "metadata": {
        "id": "d1fbdc16"
      },
      "outputs": [],
      "source": [
        "def get_max(data):\n",
        "    max_value=-np.inf\n",
        "    for n in range(data.shape[0]):\n",
        "        for i in range(data.shape[1]):\n",
        "            for j in range(data.shape[2]):\n",
        "                if i==j:\n",
        "                    continue\n",
        "                if data[n,i,j] > max_value:\n",
        "                    max_value = data[n,i,j]\n",
        "        return max_value"
      ],
      "id": "d1fbdc16"
    },
    {
      "cell_type": "code",
      "execution_count": null,
      "metadata": {
        "id": "9abeddda"
      },
      "outputs": [],
      "source": [
        "def min_max_two_group(group_one, group_two):\n",
        "\n",
        "    min_one = get_min(group_one)\n",
        "    min_two = get_min(group_two)\n",
        "\n",
        "    if min_one <= min_two:\n",
        "        min_value = min_one\n",
        "    else:\n",
        "        min_value = min_two\n",
        "\n",
        "    max_one = get_max(group_one)\n",
        "    max_two = get_max(group_two)\n",
        "\n",
        "    if max_one >= max_two:\n",
        "        max_value = max_one\n",
        "    else:\n",
        "        max_value = max_two\n",
        "\n",
        "    return min_value, max_value"
      ],
      "id": "9abeddda"
    },
    {
      "cell_type": "code",
      "execution_count": null,
      "metadata": {
        "id": "28889edd"
      },
      "outputs": [],
      "source": [
        "def normalization(data, min_value, max_value):\n",
        "    zero_diag=1-np.eye(14,14)\n",
        "    data=(data-min_value)/(max_value-min_value)\n",
        "    for i in range(data.shape[0]):\n",
        "        data[i,:,:]=data[i,:,:]*zero_diag\n",
        "    return data"
      ],
      "id": "28889edd"
    },
    {
      "cell_type": "code",
      "execution_count": null,
      "metadata": {
        "id": "62d011f7"
      },
      "outputs": [],
      "source": [
        "def top_n_value(matrix,kth,smallest=True):\n",
        "    if smallest:\n",
        "        idx = np.argpartition(matrix, kth)\n",
        "        matrix[matrix>max(matrix[idx[:kth]])]=np.nan\n",
        "    else:\n",
        "        idx = np.argpartition(matrix, -kth)\n",
        "        matrix[matrix<min(matrix[idx[-kth:]])]=np.nan\n",
        "    return matrix"
      ],
      "id": "62d011f7"
    },
    {
      "cell_type": "code",
      "execution_count": null,
      "metadata": {
        "id": "a0c52817"
      },
      "outputs": [],
      "source": [
        "def create_df_connectivity(x,y,auc,pval,label,num_connections,sort_by='AUC'): # Create DataFrame connectivity\n",
        "    data=[]\n",
        "    for i in range(num_connections):\n",
        "        data.append([label[int(x[i])]] + [label[int(y[i])]]+ [(auc[int(x[i]),int(y[i])])] + [pval[int(x[i]),int(y[i])]])\n",
        "    df=pd.DataFrame(data,columns=['From','To','AUC','P value'])\n",
        "    if sort_by=='AUC':\n",
        "        df=df.sort_values(sort_by,ascending=False,ignore_index=True)\n",
        "    else:\n",
        "        df=df.sort_values(sort_by,ascending=True,ignore_index=True)\n",
        "    return df"
      ],
      "id": "a0c52817"
    },
    {
      "cell_type": "code",
      "execution_count": null,
      "metadata": {
        "id": "1d7bb102"
      },
      "outputs": [],
      "source": [
        "def num_tree(data):\n",
        "    ensemble_clfs = [ (\"RandomForestClassifier, max_features=None\",RandomForestClassifier(warm_start=True, max_features=None, oob_score=True,))]\n",
        "\n",
        "    error_rate = OrderedDict((label, []) for label, _ in ensemble_clfs)\n",
        "\n",
        "    min_estimators = 10\n",
        "    max_estimators = 300\n",
        "\n",
        "    for label, clf in ensemble_clfs:\n",
        "        for i in range(min_estimators, max_estimators + 1):\n",
        "            clf.set_params(n_estimators=i)\n",
        "            clf.fit(data[:,:-1], data[:,-1])\n",
        "            oob_error = 1 - clf.oob_score_\n",
        "            error_rate[label].append((i, oob_error))\n",
        "\n",
        "    for label, clf_err in error_rate.items():\n",
        "        xs, ys = zip(*clf_err)\n",
        "        plt.plot(xs, ys, label=label)\n",
        "\n",
        "    plt.xlim(min_estimators, max_estimators)\n",
        "    plt.xlabel(\"n_estimators\")\n",
        "    plt.ylabel(\"OOB error rate\")\n",
        "    plt.legend(loc=\"upper right\")\n",
        "    plt.show()"
      ],
      "id": "1d7bb102"
    },
    {
      "cell_type": "code",
      "execution_count": null,
      "metadata": {
        "id": "182e7f9a"
      },
      "outputs": [],
      "source": [
        "def plot_results(df_result,path,save_plot=False):\n",
        "    fig = df_result.boxplot(by='Features',figsize=(30,26)).get_figure()\n",
        "    fig.savefig(f'{path}.png',dpi=600)"
      ],
      "id": "182e7f9a"
    },
    {
      "cell_type": "markdown",
      "metadata": {
        "id": "llnrzqYbq8fa"
      },
      "source": [
        "## Load data"
      ],
      "id": "llnrzqYbq8fa"
    },
    {
      "cell_type": "code",
      "execution_count": null,
      "metadata": {
        "id": "yuM9S_XtNlKu",
        "colab": {
          "base_uri": "https://localhost:8080/"
        },
        "outputId": "3343c4bc-0f22-4a84-d676-e169a1156c4b"
      },
      "outputs": [
        {
          "output_type": "stream",
          "name": "stdout",
          "text": [
            "Mounted at /content/gdrive\n"
          ]
        }
      ],
      "source": [
        "from google.colab import drive\n",
        "\n",
        "drive.mount('/content/gdrive')"
      ],
      "id": "yuM9S_XtNlKu"
    },
    {
      "cell_type": "code",
      "execution_count": null,
      "metadata": {
        "id": "09f72670"
      },
      "outputs": [],
      "source": [
        "# channels' label/name\n",
        "with open (\"/content/gdrive/My Drive/your_path/channels_name.txt\", \"r\") as myfile:\n",
        "    label=myfile.read().split(' ')\n",
        "print(label)"
      ],
      "id": "09f72670"
    },
    {
      "cell_type": "code",
      "execution_count": null,
      "metadata": {
        "id": "ad73510b"
      },
      "outputs": [],
      "source": [
        "# %%notify\n",
        "# hi_delta, lo_delta = read_mat(path,'delta')\n",
        "# hi_theta, lo_theta = read_mat(path,'theta')\n",
        "# hi_alpha, lo_alpha = read_mat(path,'alpha')\n",
        "# hi_beta, lo_beta = read_mat(path,'beta')\n",
        "# hi_gamma, lo_gamma = read_mat(path,'gamma')\n",
        "\n",
        "# print(np.shape(hi_delta))\n",
        "# print(np.shape(lo_delta))\n",
        "# print(np.shape(hi_theta))\n",
        "# print(np.shape(lo_theta))\n",
        "# print(np.shape(hi_delta))\n",
        "# print(np.shape(lo_delta))\n",
        "# print(np.shape(hi_delta))\n",
        "# print(np.shape(lo_delta))\n",
        "# print(np.shape(hi_delta))\n",
        "# print(np.shape(lo_delta))\n",
        "\n",
        "\n",
        "# with open(path+'hi_delta', 'wb') as file_pi1:\n",
        "#     pickle.dump(hi_delta, file_pi1)\n",
        "# with open(path+'lo_delta', 'wb') as file_pi1:\n",
        "#     pickle.dump(lo_delta, file_pi1)\n",
        "\n",
        "# with open(path+'hi_theta', 'wb') as file_pi1:\n",
        "#     pickle.dump(hi_theta, file_pi1)\n",
        "# with open(path+'lo_theta', 'wb') as file_pi1:\n",
        "#     pickle.dump(lo_theta, file_pi1)\n",
        "\n",
        "# with open(path+'hi_alpha', 'wb') as file_pi1:\n",
        "#     pickle.dump(hi_alpha, file_pi1)\n",
        "# with open(path+'lo_alpha', 'wb') as file_pi1:\n",
        "#     pickle.dump(lo_alpha, file_pi1)\n",
        "\n",
        "# with open(path+'hi_beta', 'wb') as file_pi1:\n",
        "#     pickle.dump(hi_beta, file_pi1)\n",
        "# with open(path+'lo_beta', 'wb') as file_pi1:\n",
        "#     pickle.dump(lo_beta, file_pi1)\n",
        "\n",
        "# with open(path+'hi_gamma', 'wb') as file_pi1:\n",
        "#     pickle.dump(hi_gamma, file_pi1)\n",
        "# with open(path+'lo_gamma', 'wb') as file_pi1:\n",
        "#     pickle.dump(lo_gamma, file_pi1)\n"
      ],
      "id": "ad73510b"
    },
    {
      "cell_type": "code",
      "execution_count": null,
      "metadata": {
        "id": "8DJbSOFFkr1u"
      },
      "outputs": [],
      "source": [
        "with open(path+'hi_delta', 'rb') as f:\n",
        "    hi_delta = pickle.load(f)\n",
        "print(np.shape(hi_delta)) # (1776, 14, 14)\n",
        "with open(path+'lo_delta', 'rb') as f:\n",
        "    lo_delta = pickle.load(f)\n",
        "print(np.shape(lo_delta))\n",
        "\n",
        "with open(path+'hi_theta', 'rb') as f:\n",
        "    hi_theta = pickle.load(f)\n",
        "print(np.shape(hi_theta))\n",
        "with open(path+'lo_theta', 'rb') as f:\n",
        "    lo_theta = pickle.load(f)\n",
        "print(np.shape(lo_theta))\n",
        "\n",
        "with open(path+'hi_alpha', 'rb') as f:\n",
        "    hi_alpha = pickle.load(f)\n",
        "print(np.shape(hi_alpha))\n",
        "with open(path+'lo_alpha', 'rb') as f:\n",
        "    lo_alpha = pickle.load(f)\n",
        "print(np.shape(lo_alpha))\n",
        "\n",
        "with open(path+'hi_beta', 'rb') as f:\n",
        "    hi_beta = pickle.load(f)\n",
        "print(np.shape(hi_beta))\n",
        "with open(path+'lo_beta', 'rb') as f:\n",
        "    lo_beta = pickle.load(f)\n",
        "print(np.shape(lo_beta))\n",
        "\n",
        "with open(path+'hi_gamma', 'rb') as f:\n",
        "    hi_gamma = pickle.load(f)\n",
        "print(np.shape(hi_gamma))\n",
        "with open(path+'lo_gamma', 'rb') as f:\n",
        "    lo_gamma = pickle.load(f)\n",
        "print(np.shape(lo_gamma))"
      ],
      "id": "8DJbSOFFkr1u"
    },
    {
      "cell_type": "markdown",
      "metadata": {
        "id": "c6a02682"
      },
      "source": [
        "## Averaging"
      ],
      "id": "c6a02682"
    },
    {
      "cell_type": "code",
      "execution_count": null,
      "metadata": {
        "colab": {
          "base_uri": "https://localhost:8080/"
        },
        "id": "a24d02a8",
        "outputId": "0f8e6a6e-a0c2-48c0-bc03-23257282159c"
      },
      "outputs": [
        {
          "output_type": "stream",
          "name": "stdout",
          "text": [
            "(888, 14, 14)\n"
          ]
        }
      ],
      "source": [
        "# In order to decrease processing\n",
        "# averaging every n element\n",
        "hi_delta=hi_delta.reshape(-1,n_avg,14,14).mean(axis=1)\n",
        "hi_theta=hi_theta.reshape(-1,n_avg,14,14).mean(axis=1)\n",
        "hi_alpha=hi_alpha.reshape(-1,n_avg,14,14).mean(axis=1)\n",
        "hi_beta=hi_beta.reshape(-1,n_avg,14,14).mean(axis=1)\n",
        "hi_gamma=hi_gamma.reshape(-1,n_avg,14,14).mean(axis=1)\n",
        "\n",
        "print(np.shape(hi_delta))"
      ],
      "id": "a24d02a8"
    },
    {
      "cell_type": "code",
      "execution_count": null,
      "metadata": {
        "id": "104f6771"
      },
      "outputs": [],
      "source": [
        "lo_delta=lo_delta.reshape(-1,n_avg,14,14).mean(axis=1)\n",
        "lo_theta=lo_theta.reshape(-1,n_avg,14,14).mean(axis=1)\n",
        "lo_alpha=lo_alpha.reshape(-1,n_avg,14,14).mean(axis=1)\n",
        "lo_beta=lo_beta.reshape(-1,n_avg,14,14).mean(axis=1)\n",
        "lo_gamma=lo_gamma.reshape(-1,n_avg,14,14).mean(axis=1)"
      ],
      "id": "104f6771"
    },
    {
      "cell_type": "markdown",
      "metadata": {
        "id": "bc3ec42c"
      },
      "source": [
        "# Feature Selection"
      ],
      "id": "bc3ec42c"
    },
    {
      "cell_type": "markdown",
      "metadata": {
        "id": "240d23ee"
      },
      "source": [
        "## Forward Feature Selection"
      ],
      "id": "240d23ee"
    },
    {
      "cell_type": "markdown",
      "metadata": {
        "id": "bfbf0a10"
      },
      "source": [
        "### Delta"
      ],
      "id": "bfbf0a10"
    },
    {
      "cell_type": "code",
      "execution_count": null,
      "metadata": {
        "id": "b79ffc0d",
        "scrolled": true
      },
      "outputs": [],
      "source": [
        "%%notify\n",
        "auc_mat_delta = np.zeros(14*14)\n",
        "for i in range(14*14): # iterate over all cells of a connectivity mat file. // 'i' indicates a connectivity between two channels.\n",
        "    df = prepare_data(i,(hi_delta),(lo_delta)) #shape df: (1776,2)\n",
        "    acc,auc=lr(df)\n",
        "    auc_mat_delta[i]=auc\n",
        "auc_mat_delta=auc_mat_delta.reshape(14,14)"
      ],
      "id": "b79ffc0d"
    },
    {
      "cell_type": "code",
      "execution_count": null,
      "metadata": {
        "id": "a74fde7f"
      },
      "outputs": [],
      "source": [
        "con=connectivity(auc_mat_delta.flatten(), label, save_path+'delta_auc', n_top, save_edge=save_edge, save_plot=save_plot) # the result is a (14,14) matrix that only top-30-auc-based indices has value and the value is their auc.\n",
        "index_delta=np.where(con.flatten()>0)[0]\n",
        "x=index_delta//14\n",
        "y=index_delta%14\n",
        "col_name=[label[int(x[i])] + \"=>\" + label[int(y[i])] for i in range(len(x))] # the result is channels' name in n-top connectivities.\n",
        "print(col_name)"
      ],
      "id": "a74fde7f"
    },
    {
      "cell_type": "code",
      "execution_count": null,
      "metadata": {
        "id": "221f2c01",
        "scrolled": false
      },
      "outputs": [],
      "source": [
        "df = prepare_data(index_delta,hi_delta,lo_delta,col_name)\n",
        "display(df) # the result is a dataframe with 30 columns (top-30 connectivities) and 1776 rows"
      ],
      "id": "221f2c01"
    },
    {
      "cell_type": "code",
      "execution_count": null,
      "metadata": {
        "id": "f1e8585f"
      },
      "outputs": [],
      "source": [
        "# preforming feature selection for every model //////////////////TIME_CONSUMING\n",
        "for model in models:\n",
        "    exec(f\"feature_{model}_delta,df_resutls_{model}_delta={model}_with_fs(df)\")\n",
        "    print(10*'-')"
      ],
      "id": "f1e8585f"
    },
    {
      "cell_type": "code",
      "execution_count": null,
      "metadata": {
        "id": "4d69bce8"
      },
      "outputs": [],
      "source": [
        "# classification with selected features\n",
        "for model in models:\n",
        "    exec(f\"acc, precision, recall, f1={model}(df[feature_{model}_delta + ['label']])\")\n",
        "    exec(f\"results.loc[('delta','{model}')]['With FS','Accuracy']=str('%.2f' % (acc.mean()*100)) + '%' + ' (±' + str('%.2f' % (acc.std()*100)) + ')'\")\n",
        "    exec(f\"results.loc[('delta','{model}')]['With FS','Precision']=str('%.2f' % (precision.mean()*100)) + '%' + ' (±' + str('%.2f' % (precision.std()*100)) + ')'\")\n",
        "    exec(f\"results.loc[('delta','{model}')]['With FS','Recall']=str('%.2f' % (recall.mean()*100)) + '%' + ' (±' + str('%.2f' % (recall.std()*100)) + ')'\")\n",
        "    exec(f\"results.loc[('delta','{model}')]['With FS','F1-Measure']=str('%.2f' % (f1.mean()*100)) + '%' + ' (±' + str('%.2f' % ((f1.std()*100))) + ')'\")\n",
        "    print(10*'-')"
      ],
      "id": "4d69bce8"
    },
    {
      "cell_type": "code",
      "execution_count": null,
      "metadata": {
        "id": "ee48404c",
        "scrolled": true
      },
      "outputs": [],
      "source": [
        "# classificaiton with all features\n",
        "for model in models:\n",
        "    exec(f\"acc, precision, recall, f1={model}(df)\")\n",
        "    exec(f\"results.loc[('delta','{model}')]['Without FS','Accuracy']=str('%.2f' % (acc.mean()*100)) + '%' + ' (±' + str('%.2f' % (acc.std()*100)) + ')'\")\n",
        "    exec(f\"results.loc[('delta','{model}')]['Without FS','Precision']=str('%.2f' % (precision.mean()*100)) + '%' + ' (±' + str('%.2f' % (precision.std()*100)) + ')'\")\n",
        "    exec(f\"results.loc[('delta','{model}')]['Without FS','Recall']=str('%.2f' % (recall.mean()*100)) + '%' + ' (±' + str('%.2f' % (recall.std()*100)) + ')'\")\n",
        "    exec(f\"results.loc[('delta','{model}')]['Without FS','F1-Measure']=str('%.2f' % (f1.mean()*100)) + '%' + ' (±' + str('%.2f' % ((f1.std()*100))) + ')'\")\n",
        "    print(10*'-')"
      ],
      "id": "ee48404c"
    },
    {
      "cell_type": "markdown",
      "metadata": {
        "id": "898c7f83"
      },
      "source": [
        "### Theta"
      ],
      "id": "898c7f83"
    },
    {
      "cell_type": "code",
      "execution_count": null,
      "metadata": {
        "colab": {
          "base_uri": "https://localhost:8080/"
        },
        "id": "da99cac8",
        "outputId": "81e48354-e48a-487f-d924-602654ff4eb2"
      },
      "outputs": [
        {
          "data": {
            "application/javascript": [
              "$(document).ready(\n",
              "    function() {\n",
              "        function appendUniqueDiv(){\n",
              "            // append a div with our uuid so we can check that it's already\n",
              "            // been sent and avoid duplicates on page reload\n",
              "            var notifiedDiv = document.createElement(\"div\")\n",
              "            notifiedDiv.id = \"b15a7e47-867d-40d9-b553-a4b862c3b6f5\"\n",
              "            element.append(notifiedDiv)\n",
              "        }\n",
              "\n",
              "        // only send notifications if the pageload is complete; this will\n",
              "        // help stop extra notifications when a saved notebook is loaded,\n",
              "        // which during testing gives us state \"interactive\", not \"complete\"\n",
              "        if (document.readyState === 'complete') {\n",
              "            // check for the div that signifies that the notification\n",
              "            // was already sent\n",
              "            if (document.getElementById(\"b15a7e47-867d-40d9-b553-a4b862c3b6f5\") === null) {\n",
              "                var notificationPayload = {\"requireInteraction\": false, \"icon\": \"/static/base/images/favicon.ico\", \"body\": \"Cell execution has finished!\"};\n",
              "                if (Notification.permission !== 'denied') {\n",
              "                    if (Notification.permission !== 'granted') { \n",
              "                        Notification.requestPermission(function (permission) {\n",
              "                            if(!('permission' in Notification)) {\n",
              "                                Notification.permission = permission\n",
              "                            }\n",
              "                        })\n",
              "                    }\n",
              "                    if (Notification.permission === 'granted') {\n",
              "                    var notification = new Notification(\"Jupyter Notebook\", notificationPayload)\n",
              "                    appendUniqueDiv()\n",
              "                    notification.onclick = function () {\n",
              "                        window.focus();\n",
              "                        this.close();\n",
              "                        };\n",
              "                    } \n",
              "                }     \n",
              "            }\n",
              "        }\n",
              "    }\n",
              ")\n"
            ],
            "text/plain": [
              "<IPython.core.display.Javascript object>"
            ]
          },
          "metadata": {},
          "output_type": "display_data"
        }
      ],
      "source": [
        "%%notify\n",
        "auc_mat_theta = np.zeros(14*14)\n",
        "for i in range(14*14):\n",
        "    df = prepare_data(i,(hi_theta),(lo_theta))\n",
        "    acc,auc=lr(df)\n",
        "    auc_mat_theta[i]=auc\n",
        "auc_mat_theta=auc_mat_theta.reshape(14,14)"
      ],
      "id": "da99cac8"
    },
    {
      "cell_type": "code",
      "execution_count": null,
      "metadata": {
        "id": "bd62c34f"
      },
      "outputs": [],
      "source": [
        "con=connectivity(auc_mat_theta.flatten(),label,save_path+'theta_auc',save_edge=save_edge,save_plot=save_plot)\n",
        "index_theta=np.where(con.flatten()>0)[0]\n",
        "x=index_theta//14\n",
        "y=index_theta%14\n",
        "col_name=[label[int(x[i])] + \"=>\" + label[int(y[i])] for i in range(len(x))]"
      ],
      "id": "bd62c34f"
    },
    {
      "cell_type": "code",
      "execution_count": null,
      "metadata": {
        "id": "b1fb2a03",
        "scrolled": false
      },
      "outputs": [],
      "source": [
        "df = prepare_data(index_theta,hi_theta,lo_theta,col_name)"
      ],
      "id": "b1fb2a03"
    },
    {
      "cell_type": "code",
      "execution_count": null,
      "metadata": {
        "id": "32d17a63",
        "scrolled": true
      },
      "outputs": [],
      "source": [
        "# preforming feature selection for every model //////////////////TIME_CONSUMING\n",
        "for model in models:\n",
        "    exec(f\"feature_{model}_theta,df_resutls_{model}_theta={model}_with_fs(df)\")\n",
        "    print(10*'-')"
      ],
      "id": "32d17a63"
    },
    {
      "cell_type": "code",
      "execution_count": null,
      "metadata": {
        "id": "3f8c6451"
      },
      "outputs": [],
      "source": [
        "# classification with selected features\n",
        "for model in models:\n",
        "    exec(f\"acc, precision, recall, f1={model}(df[feature_{model}_theta + ['label']])\")\n",
        "    exec(f\"results.loc[('theta','{model}')]['With FS','Accuracy']=str('%.2f' % (acc.mean()*100)) + '%' + ' (±' + str('%.2f' % (acc.std()*100)) + ')'\")\n",
        "    exec(f\"results.loc[('theta','{model}')]['With FS','Precision']=str('%.2f' % (precision.mean()*100)) + '%' + ' (±' + str('%.2f' % (precision.std()*100)) + ')'\")\n",
        "    exec(f\"results.loc[('theta','{model}')]['With FS','Recall']=str('%.2f' % (recall.mean()*100)) + '%' + ' (±' + str('%.2f' % (recall.std()*100)) + ')'\")\n",
        "    exec(f\"results.loc[('theta','{model}')]['With FS','F1-Measure']=str('%.2f' % (f1.mean()*100)) + '%' + ' (±' + str('%.2f' % ((f1.std()*100))) + ')'\")\n",
        "    print(10*'-')"
      ],
      "id": "3f8c6451"
    },
    {
      "cell_type": "code",
      "execution_count": null,
      "metadata": {
        "id": "5eee8a99",
        "scrolled": true
      },
      "outputs": [],
      "source": [
        "# classificaiton with all features\n",
        "for model in models:\n",
        "    exec(f\"acc, precision, recall, f1={model}(df)\")\n",
        "    exec(f\"results.loc[('theta','{model}')]['Without FS','Accuracy']=str('%.2f' % (acc.mean()*100)) + '%' + ' (±' + str('%.2f' % (acc.std()*100)) + ')'\")\n",
        "    exec(f\"results.loc[('theta','{model}')]['Without FS','Precision']=str('%.2f' % (precision.mean()*100)) + '%' + ' (±' + str('%.2f' % (precision.std()*100)) + ')'\")\n",
        "    exec(f\"results.loc[('theta','{model}')]['Without FS','Recall']=str('%.2f' % (recall.mean()*100)) + '%' + ' (±' + str('%.2f' % (recall.std()*100)) + ')'\")\n",
        "    exec(f\"results.loc[('theta','{model}')]['Without FS','F1-Measure']=str('%.2f' % (f1.mean()*100)) + '%' + ' (±' + str('%.2f' % ((f1.std()*100))) + ')'\")\n",
        "    print(10*'-')"
      ],
      "id": "5eee8a99"
    },
    {
      "cell_type": "markdown",
      "metadata": {
        "id": "d2d2d1b4"
      },
      "source": [
        "### Alpha"
      ],
      "id": "d2d2d1b4"
    },
    {
      "cell_type": "code",
      "execution_count": null,
      "metadata": {
        "id": "1d523ad4"
      },
      "outputs": [],
      "source": [
        "# %%notify\n",
        "auc_mat_alpha = np.zeros(14*14)\n",
        "for i in range(14*14):\n",
        "    df = prepare_data(i,(hi_alpha),(lo_alpha))\n",
        "    acc,auc=lr(df)\n",
        "    auc_mat_alpha[i]=auc\n",
        "auc_mat_alpha=auc_mat_alpha.reshape(14,14)"
      ],
      "id": "1d523ad4"
    },
    {
      "cell_type": "code",
      "execution_count": null,
      "metadata": {
        "id": "ca2688bc"
      },
      "outputs": [],
      "source": [
        "con=connectivity(auc_mat_alpha.flatten(),label,save_path+'alpha_auc',save_edge=save_edge,save_plot=save_plot)\n",
        "index_alpha=np.where(con.flatten()>0)[0]\n",
        "x=index_alpha//14\n",
        "y=index_alpha%14\n",
        "col_name=[label[int(x[i])] + \"=>\" + label[int(y[i])] for i in range(len(x))]"
      ],
      "id": "ca2688bc"
    },
    {
      "cell_type": "code",
      "execution_count": null,
      "metadata": {
        "id": "0a51915b",
        "scrolled": false
      },
      "outputs": [],
      "source": [
        "df = prepare_data(index_alpha,hi_alpha,lo_alpha,col_name)"
      ],
      "id": "0a51915b"
    },
    {
      "cell_type": "code",
      "execution_count": null,
      "metadata": {
        "id": "414eb91a",
        "scrolled": true
      },
      "outputs": [],
      "source": [
        "# preforming feature selection for every model //////////////////TIME_CONSUMING\n",
        "for model in models:\n",
        "    exec(f\"feature_{model}_alpha,df_resutls_{model}_alpha={model}_with_fs(df)\")\n",
        "    print(10*'-')t"
      ],
      "id": "414eb91a"
    },
    {
      "cell_type": "code",
      "execution_count": null,
      "metadata": {
        "id": "7ef059cd"
      },
      "outputs": [],
      "source": [
        "# classification with selected features\n",
        "for model in models:\n",
        "    exec(f\"acc, precision, recall, f1={model}(df[feature_{model}_alpha + ['label']])\")\n",
        "    exec(f\"results.loc[('alpha','{model}')]['With FS','Accuracy']=str('%.2f' % (acc.mean()*100)) + '%' + ' (±' + str('%.2f' % (acc.std()*100)) + ')'\")\n",
        "    exec(f\"results.loc[('alpha','{model}')]['With FS','Precision']=str('%.2f' % (precision.mean()*100)) + '%' + ' (±' + str('%.2f' % (precision.std()*100)) + ')'\")\n",
        "    exec(f\"results.loc[('alpha','{model}')]['With FS','Recall']=str('%.2f' % (recall.mean()*100)) + '%' + ' (±' + str('%.2f' % (recall.std()*100)) + ')'\")\n",
        "    exec(f\"results.loc[('alpha','{model}')]['With FS','F1-Measure']=str('%.2f' % (f1.mean()*100)) + '%' + ' (±' + str('%.2f' % ((f1.std()*100))) + ')'\")\n",
        "    print(10*'-')"
      ],
      "id": "7ef059cd"
    },
    {
      "cell_type": "code",
      "execution_count": null,
      "metadata": {
        "id": "f1f1e564",
        "scrolled": true
      },
      "outputs": [],
      "source": [
        "# classificaiton with all features\n",
        "for model in models:\n",
        "    exec(f\"acc, precision, recall, f1={model}(df)\")\n",
        "    exec(f\"results.loc[('alpha','{model}')]['Without FS','Accuracy']=str('%.2f' % (acc.mean()*100)) + '%' + ' (±' + str('%.2f' % (acc.std()*100)) + ')'\")\n",
        "    exec(f\"results.loc[('alpha','{model}')]['Without FS','Precision']=str('%.2f' % (precision.mean()*100)) + '%' + ' (±' + str('%.2f' % (precision.std()*100)) + ')'\")\n",
        "    exec(f\"results.loc[('alpha','{model}')]['Without FS','Recall']=str('%.2f' % (recall.mean()*100)) + '%' + ' (±' + str('%.2f' % (recall.std()*100)) + ')'\")\n",
        "    exec(f\"results.loc[('alpha','{model}')]['Without FS','F1-Measure']=str('%.2f' % (f1.mean()*100)) + '%' + ' (±' + str('%.2f' % ((f1.std()*100))) + ')'\")\n",
        "    print(10*'-')"
      ],
      "id": "f1f1e564"
    },
    {
      "cell_type": "markdown",
      "metadata": {
        "id": "cc528283"
      },
      "source": [
        "### Beta"
      ],
      "id": "cc528283"
    },
    {
      "cell_type": "code",
      "execution_count": null,
      "metadata": {
        "colab": {
          "base_uri": "https://localhost:8080/"
        },
        "id": "b49245fa",
        "outputId": "f6bb25af-13d8-406b-9deb-df33152903c2"
      },
      "outputs": [
        {
          "data": {
            "application/javascript": [
              "$(document).ready(\n",
              "    function() {\n",
              "        function appendUniqueDiv(){\n",
              "            // append a div with our uuid so we can check that it's already\n",
              "            // been sent and avoid duplicates on page reload\n",
              "            var notifiedDiv = document.createElement(\"div\")\n",
              "            notifiedDiv.id = \"5ee09f58-78f5-46c1-9a56-e2ac1b6112d5\"\n",
              "            element.append(notifiedDiv)\n",
              "        }\n",
              "\n",
              "        // only send notifications if the pageload is complete; this will\n",
              "        // help stop extra notifications when a saved notebook is loaded,\n",
              "        // which during testing gives us state \"interactive\", not \"complete\"\n",
              "        if (document.readyState === 'complete') {\n",
              "            // check for the div that signifies that the notification\n",
              "            // was already sent\n",
              "            if (document.getElementById(\"5ee09f58-78f5-46c1-9a56-e2ac1b6112d5\") === null) {\n",
              "                var notificationPayload = {\"requireInteraction\": false, \"icon\": \"/static/base/images/favicon.ico\", \"body\": \"Cell execution has finished!\"};\n",
              "                if (Notification.permission !== 'denied') {\n",
              "                    if (Notification.permission !== 'granted') { \n",
              "                        Notification.requestPermission(function (permission) {\n",
              "                            if(!('permission' in Notification)) {\n",
              "                                Notification.permission = permission\n",
              "                            }\n",
              "                        })\n",
              "                    }\n",
              "                    if (Notification.permission === 'granted') {\n",
              "                    var notification = new Notification(\"Jupyter Notebook\", notificationPayload)\n",
              "                    appendUniqueDiv()\n",
              "                    notification.onclick = function () {\n",
              "                        window.focus();\n",
              "                        this.close();\n",
              "                        };\n",
              "                    } \n",
              "                }     \n",
              "            }\n",
              "        }\n",
              "    }\n",
              ")\n"
            ],
            "text/plain": [
              "<IPython.core.display.Javascript object>"
            ]
          },
          "metadata": {},
          "output_type": "display_data"
        }
      ],
      "source": [
        "%%notify\n",
        "auc_mat_beta = np.zeros(14*14)\n",
        "for i in range(14*14):\n",
        "    df = prepare_data(i,(hi_beta),(lo_beta))\n",
        "    acc,auc=lr(df)\n",
        "    auc_mat_beta[i]=auc\n",
        "auc_mat_beta=auc_mat_beta.reshape(14,14)"
      ],
      "id": "b49245fa"
    },
    {
      "cell_type": "code",
      "execution_count": null,
      "metadata": {
        "id": "61087f67"
      },
      "outputs": [],
      "source": [
        "con=connectivity(auc_mat_beta.flatten(),label,save_path+'beta_auc',save_edge=save_edge,save_plot=save_plot)\n",
        "index_beta=np.where(con.flatten()>0)[0]\n",
        "x=index_beta//14\n",
        "y=index_beta%14\n",
        "col_name=[label[int(x[i])] + \"=>\" + label[int(y[i])] for i in range(len(x))]"
      ],
      "id": "61087f67"
    },
    {
      "cell_type": "code",
      "execution_count": null,
      "metadata": {
        "id": "3ab49033",
        "scrolled": false
      },
      "outputs": [],
      "source": [
        "df = prepare_data(index_beta,hi_beta,lo_beta,col_name)"
      ],
      "id": "3ab49033"
    },
    {
      "cell_type": "code",
      "execution_count": null,
      "metadata": {
        "id": "128dbfc4"
      },
      "outputs": [],
      "source": [
        "# preforming feature selection for every model //////////////////TIME_CONSUMING\n",
        "for model in models:\n",
        "    exec(f\"feature_{model}_beta,df_resutls_{model}_beta={model}_with_fs(df)\")\n",
        "    print(10*'-')"
      ],
      "id": "128dbfc4"
    },
    {
      "cell_type": "code",
      "execution_count": null,
      "metadata": {
        "id": "83df016a"
      },
      "outputs": [],
      "source": [
        "# classification with selected features\n",
        "for model in models:\n",
        "    exec(f\"acc, precision, recall, f1={model}(df[feature_{model}_beta + ['label']])\")\n",
        "    exec(f\"results.loc[('beta','{model}')]['With FS','Accuracy']=str('%.2f' % (acc.mean()*100)) + '%' + ' (±' + str('%.2f' % (acc.std()*100)) + ')'\")\n",
        "    exec(f\"results.loc[('beta','{model}')]['With FS','Precision']=str('%.2f' % (precision.mean()*100)) + '%' + ' (±' + str('%.2f' % (precision.std()*100)) + ')'\")\n",
        "    exec(f\"results.loc[('beta','{model}')]['With FS','Recall']=str('%.2f' % (recall.mean()*100)) + '%' + ' (±' + str('%.2f' % (recall.std()*100)) + ')'\")\n",
        "    exec(f\"results.loc[('beta','{model}')]['With FS','F1-Measure']=str('%.2f' % (f1.mean()*100)) + '%' + ' (±' + str('%.2f' % ((f1.std()*100))) + ')'\")\n",
        "    print(10*'-')"
      ],
      "id": "83df016a"
    },
    {
      "cell_type": "code",
      "execution_count": null,
      "metadata": {
        "id": "7322e041",
        "scrolled": true
      },
      "outputs": [],
      "source": [
        "# classificaiton with all features\n",
        "for model in models:\n",
        "    exec(f\"acc, precision, recall, f1={model}(df)\")\n",
        "    exec(f\"results.loc[('beta','{model}')]['Without FS','Accuracy']=str('%.2f' % (acc.mean()*100)) + '%' + ' (±' + str('%.2f' % (acc.std()*100)) + ')'\")\n",
        "    exec(f\"results.loc[('beta','{model}')]['Without FS','Precision']=str('%.2f' % (precision.mean()*100)) + '%' + ' (±' + str('%.2f' % (precision.std()*100)) + ')'\")\n",
        "    exec(f\"results.loc[('beta','{model}')]['Without FS','Recall']=str('%.2f' % (recall.mean()*100)) + '%' + ' (±' + str('%.2f' % (recall.std()*100)) + ')'\")\n",
        "    exec(f\"results.loc[('beta','{model}')]['Without FS','F1-Measure']=str('%.2f' % (f1.mean()*100)) + '%' + ' (±' + str('%.2f' % ((f1.std()*100))) + ')'\")\n",
        "    print(10*'-')"
      ],
      "id": "7322e041"
    },
    {
      "cell_type": "markdown",
      "metadata": {
        "id": "65c58a3d"
      },
      "source": [
        "### Gamma"
      ],
      "id": "65c58a3d"
    },
    {
      "cell_type": "code",
      "execution_count": null,
      "metadata": {
        "colab": {
          "base_uri": "https://localhost:8080/"
        },
        "id": "0bd15720",
        "outputId": "69e604bf-240b-4752-d4c7-fa2d1134d4c4"
      },
      "outputs": [
        {
          "data": {
            "application/javascript": [
              "$(document).ready(\n",
              "    function() {\n",
              "        function appendUniqueDiv(){\n",
              "            // append a div with our uuid so we can check that it's already\n",
              "            // been sent and avoid duplicates on page reload\n",
              "            var notifiedDiv = document.createElement(\"div\")\n",
              "            notifiedDiv.id = \"1c33142a-ec1a-4e5b-851b-5346caf4a0d6\"\n",
              "            element.append(notifiedDiv)\n",
              "        }\n",
              "\n",
              "        // only send notifications if the pageload is complete; this will\n",
              "        // help stop extra notifications when a saved notebook is loaded,\n",
              "        // which during testing gives us state \"interactive\", not \"complete\"\n",
              "        if (document.readyState === 'complete') {\n",
              "            // check for the div that signifies that the notification\n",
              "            // was already sent\n",
              "            if (document.getElementById(\"1c33142a-ec1a-4e5b-851b-5346caf4a0d6\") === null) {\n",
              "                var notificationPayload = {\"requireInteraction\": false, \"icon\": \"/static/base/images/favicon.ico\", \"body\": \"Cell execution has finished!\"};\n",
              "                if (Notification.permission !== 'denied') {\n",
              "                    if (Notification.permission !== 'granted') { \n",
              "                        Notification.requestPermission(function (permission) {\n",
              "                            if(!('permission' in Notification)) {\n",
              "                                Notification.permission = permission\n",
              "                            }\n",
              "                        })\n",
              "                    }\n",
              "                    if (Notification.permission === 'granted') {\n",
              "                    var notification = new Notification(\"Jupyter Notebook\", notificationPayload)\n",
              "                    appendUniqueDiv()\n",
              "                    notification.onclick = function () {\n",
              "                        window.focus();\n",
              "                        this.close();\n",
              "                        };\n",
              "                    } \n",
              "                }     \n",
              "            }\n",
              "        }\n",
              "    }\n",
              ")\n"
            ],
            "text/plain": [
              "<IPython.core.display.Javascript object>"
            ]
          },
          "metadata": {},
          "output_type": "display_data"
        }
      ],
      "source": [
        "%%notify\n",
        "auc_mat_gamma = np.zeros(14*14)\n",
        "for i in range(14*14):\n",
        "    df = prepare_data(i,(hi_gamma),(lo_gamma))\n",
        "    acc,auc=lr(df)\n",
        "    auc_mat_gamma[i]=auc\n",
        "auc_mat_gamma=auc_mat_gamma.reshape(14,14)"
      ],
      "id": "0bd15720"
    },
    {
      "cell_type": "code",
      "execution_count": null,
      "metadata": {
        "id": "a6b00d6e"
      },
      "outputs": [],
      "source": [
        "con=connectivity(auc_mat_gamma.flatten(),label,save_path+'gamma_auc',save_edge=save_edge,save_plot=save_plot)\n",
        "index_gamma=np.where(con.flatten()>0)[0]\n",
        "x=index_gamma//14\n",
        "y=index_gamma%14\n",
        "col_name=[label[int(x[i])] + \"=>\" + label[int(y[i])] for i in range(len(x))]"
      ],
      "id": "a6b00d6e"
    },
    {
      "cell_type": "code",
      "execution_count": null,
      "metadata": {
        "id": "149d5730",
        "scrolled": false
      },
      "outputs": [],
      "source": [
        "df = prepare_data(index_gamma,hi_gamma,lo_gamma,col_name)"
      ],
      "id": "149d5730"
    },
    {
      "cell_type": "code",
      "execution_count": null,
      "metadata": {
        "id": "dd6be9be"
      },
      "outputs": [],
      "source": [
        "# preforming feature selection for every model //////////////////TIME_CONSUMING\n",
        "for model in models:\n",
        "    exec(f\"feature_{model}_gamma,df_resutls_{model}_gamma={model}_with_fs(df)\")\n",
        "    print(10*'-')"
      ],
      "id": "dd6be9be"
    },
    {
      "cell_type": "code",
      "execution_count": null,
      "metadata": {
        "id": "dff629e1"
      },
      "outputs": [],
      "source": [
        "# classification with selected features\n",
        "for model in models:\n",
        "    exec(f\"acc, precision, recall, f1={model}(df[feature_{model}_gamma + ['label']])\")\n",
        "    exec(f\"results.loc[('gamma','{model}')]['With FS','Accuracy']=str('%.2f' % (acc.mean()*100)) + '%' + ' (±' + str('%.2f' % (acc.std()*100)) + ')'\")\n",
        "    exec(f\"results.loc[('gamma','{model}')]['With FS','Precision']=str('%.2f' % (precision.mean()*100)) + '%' + ' (±' + str('%.2f' % (precision.std()*100)) + ')'\")\n",
        "    exec(f\"results.loc[('gamma','{model}')]['With FS','Recall']=str('%.2f' % (recall.mean()*100)) + '%' + ' (±' + str('%.2f' % (recall.std()*100)) + ')'\")\n",
        "    exec(f\"results.loc[('gamma','{model}')]['With FS','F1-Measure']=str('%.2f' % (f1.mean()*100)) + '%' + ' (±' + str('%.2f' % ((f1.std()*100))) + ')'\")\n",
        "    print(10*'-')"
      ],
      "id": "dff629e1"
    },
    {
      "cell_type": "code",
      "execution_count": null,
      "metadata": {
        "id": "976d9156",
        "scrolled": true
      },
      "outputs": [],
      "source": [
        "# classificaiton with all features\n",
        "for model in models:\n",
        "    exec(f\"acc, precision, recall, f1={model}(df)\")\n",
        "    exec(f\"results.loc[('gamma','{model}')]['Without FS','Accuracy']=str('%.2f' % (acc.mean()*100)) + '%' + ' (±' + str('%.2f' % (acc.std()*100)) + ')'\")\n",
        "    exec(f\"results.loc[('gamma','{model}')]['Without FS','Precision']=str('%.2f' % (precision.mean()*100)) + '%' + ' (±' + str('%.2f' % (precision.std()*100)) + ')'\")\n",
        "    exec(f\"results.loc[('gamma','{model}')]['Without FS','Recall']=str('%.2f' % (recall.mean()*100)) + '%' + ' (±' + str('%.2f' % (recall.std()*100)) + ')'\")\n",
        "    exec(f\"results.loc[('gamma','{model}')]['Without FS','F1-Measure']=str('%.2f' % (f1.mean()*100)) + '%' + ' (±' + str('%.2f' % ((f1.std()*100))) + ')'\")\n",
        "    print(10*'-')"
      ],
      "id": "976d9156"
    },
    {
      "cell_type": "markdown",
      "metadata": {
        "id": "8125b90a"
      },
      "source": [
        "### Top 150"
      ],
      "id": "8125b90a"
    },
    {
      "cell_type": "markdown",
      "metadata": {
        "id": "3a39d241"
      },
      "source": [
        "Delta"
      ],
      "id": "3a39d241"
    },
    {
      "cell_type": "code",
      "execution_count": null,
      "metadata": {
        "id": "6c9806b3"
      },
      "outputs": [],
      "source": [
        "con=connectivity(auc_mat_delta.flatten(),label,save_path+'delta_auc',save_edge=save_edge,save_plot=save_plot)\n",
        "index_delta=np.where(con.flatten()>0)[0]\n",
        "x=index_delta//14\n",
        "y=index_delta%14\n",
        "col_name=[label[int(x[i])] + \"=>\" + label[int(y[i])] +\" delta\" for i in range(len(x))]"
      ],
      "id": "6c9806b3"
    },
    {
      "cell_type": "code",
      "execution_count": null,
      "metadata": {
        "id": "d4ed520b",
        "scrolled": false
      },
      "outputs": [],
      "source": [
        "df_delta = prepare_data(index_delta,hi_delta,lo_delta,col_name)\n",
        "df_delta.drop('label',axis=1,inplace=True)"
      ],
      "id": "d4ed520b"
    },
    {
      "cell_type": "markdown",
      "metadata": {
        "id": "038025a6"
      },
      "source": [
        "Theta"
      ],
      "id": "038025a6"
    },
    {
      "cell_type": "code",
      "execution_count": null,
      "metadata": {
        "id": "718ae632"
      },
      "outputs": [],
      "source": [
        "con=connectivity(auc_mat_theta.flatten(),label,save_path+'theta_auc',save_edge=save_edge,save_plot=save_plot)\n",
        "index_theta=np.where(con.flatten()>0)[0]\n",
        "x=index_theta//14\n",
        "y=index_theta%14\n",
        "col_name=[label[int(x[i])] + \"=>\" + label[int(y[i])] +\" theta\" for i in range(len(x))]"
      ],
      "id": "718ae632"
    },
    {
      "cell_type": "code",
      "execution_count": null,
      "metadata": {
        "id": "40da5e60",
        "scrolled": false
      },
      "outputs": [],
      "source": [
        "df_theta = prepare_data(index_theta,hi_theta,lo_theta,col_name)\n",
        "df_theta.drop('label',axis=1,inplace=True)"
      ],
      "id": "40da5e60"
    },
    {
      "cell_type": "markdown",
      "metadata": {
        "id": "034828df"
      },
      "source": [
        "Alpha"
      ],
      "id": "034828df"
    },
    {
      "cell_type": "code",
      "execution_count": null,
      "metadata": {
        "id": "21549a3a"
      },
      "outputs": [],
      "source": [
        "con=connectivity(auc_mat_alpha.flatten(),label,save_path+'alpha_auc',save_edge=save_edge,save_plot=save_plot)\n",
        "index_alpha=np.where(con.flatten()>0)[0]\n",
        "x=index_alpha//14\n",
        "y=index_alpha%14\n",
        "col_name=[label[int(x[i])] + \"=>\" + label[int(y[i])] +\" alpha\" for i in range(len(x))]"
      ],
      "id": "21549a3a"
    },
    {
      "cell_type": "code",
      "execution_count": null,
      "metadata": {
        "id": "6603a2a3",
        "scrolled": false
      },
      "outputs": [],
      "source": [
        "df_alpha = prepare_data(index_alpha,hi_alpha,lo_alpha,col_name)\n",
        "df_alpha.drop('label',axis=1,inplace=True)"
      ],
      "id": "6603a2a3"
    },
    {
      "cell_type": "markdown",
      "metadata": {
        "id": "f6d09c8a"
      },
      "source": [
        "beta"
      ],
      "id": "f6d09c8a"
    },
    {
      "cell_type": "code",
      "execution_count": null,
      "metadata": {
        "id": "c0c9c8bc"
      },
      "outputs": [],
      "source": [
        "con=connectivity(auc_mat_beta.flatten(),label,save_path+'beta_auc',save_edge=save_edge,save_plot=save_plot)\n",
        "index_beta=np.where(con.flatten()>0)[0]\n",
        "x=index_beta//14\n",
        "y=index_beta%14\n",
        "col_name=[label[int(x[i])] + \"=>\" + label[int(y[i])] +\" beta\" for i in range(len(x))]"
      ],
      "id": "c0c9c8bc"
    },
    {
      "cell_type": "code",
      "execution_count": null,
      "metadata": {
        "id": "9e9a47c4",
        "scrolled": false
      },
      "outputs": [],
      "source": [
        "df_beta = prepare_data(index_beta,hi_beta,lo_beta,col_name)\n",
        "df_beta.drop('label',axis=1,inplace=True)"
      ],
      "id": "9e9a47c4"
    },
    {
      "cell_type": "markdown",
      "metadata": {
        "id": "ba09808a"
      },
      "source": [
        "Gamma"
      ],
      "id": "ba09808a"
    },
    {
      "cell_type": "code",
      "execution_count": null,
      "metadata": {
        "id": "207146c0"
      },
      "outputs": [],
      "source": [
        "con=connectivity(auc_mat_gamma.flatten(),label,save_path+'gamma_auc',save_edge=save_edge,save_plot=save_plot)\n",
        "index_gamma=np.where(con.flatten()>0)[0]\n",
        "x=index_gamma//14\n",
        "y=index_gamma%14\n",
        "col_name=[label[int(x[i])] + \"=>\" + label[int(y[i])] +\" gamma\" for i in range(len(x))]"
      ],
      "id": "207146c0"
    },
    {
      "cell_type": "code",
      "execution_count": null,
      "metadata": {
        "id": "4d72c5a2",
        "scrolled": false
      },
      "outputs": [],
      "source": [
        "df_gamma = prepare_data(index_gamma,hi_gamma,lo_gamma,col_name)"
      ],
      "id": "4d72c5a2"
    },
    {
      "cell_type": "markdown",
      "metadata": {
        "id": "8dddbe67"
      },
      "source": [
        "Top 150 (concat top-n features of all freq. bands)"
      ],
      "id": "8dddbe67"
    },
    {
      "cell_type": "code",
      "execution_count": null,
      "metadata": {
        "id": "22406ec5"
      },
      "outputs": [],
      "source": [
        "df_top150=pd.concat([df_delta,df_theta,df_alpha,df_beta,df_gamma],axis=1)"
      ],
      "id": "22406ec5"
    },
    {
      "cell_type": "code",
      "execution_count": null,
      "metadata": {
        "id": "e0e086ec"
      },
      "outputs": [],
      "source": [
        "from_column=[col.split('=>')[0] for col in df_top150.columns[:-1]]\n",
        "to_column = [col.split('=>')[1].split(' ')[0] for col in df_top150.columns[:-1]]\n",
        "df_electrods=pd.DataFrame({'From':from_column,'To':to_column})\n",
        "df_electrods.groupby('To').count().sort_values('From',ascending=False)"
      ],
      "id": "e0e086ec"
    },
    {
      "cell_type": "code",
      "execution_count": null,
      "metadata": {
        "id": "ee27ff77"
      },
      "outputs": [],
      "source": [
        "df_electrods.groupby('From').count().sort_values('To',ascending=False)"
      ],
      "id": "ee27ff77"
    },
    {
      "cell_type": "code",
      "execution_count": null,
      "metadata": {
        "id": "f6e3e500"
      },
      "outputs": [],
      "source": [
        "df_top150.columns"
      ],
      "id": "f6e3e500"
    },
    {
      "cell_type": "code",
      "execution_count": null,
      "metadata": {
        "id": "01833bad",
        "scrolled": true
      },
      "outputs": [],
      "source": [
        "# preforming feature selection for every model //////////////////TIME_CONSUMING\n",
        "for model in models:\n",
        "    exec(f\"feature_{model}_top150,df_resutls_{model}_top150={model}_with_fs(df_top150)\")\n",
        "    print(10*'-')"
      ],
      "id": "01833bad"
    },
    {
      "cell_type": "code",
      "execution_count": null,
      "metadata": {
        "id": "fa4fd7e1"
      },
      "outputs": [],
      "source": [
        "# classification with selected features\n",
        "for model in models:\n",
        "    exec(f\"acc, precision, recall, f1={model}(df_top150[feature_{model}_top150 + ['label']])\")\n",
        "    exec(f\"results.loc[('top150','{model}')]['With FS','Accuracy']=str('%.2f' % (acc.mean()*100)) + '%' + ' (±' + str('%.2f' % (acc.std()*100)) + ')'\")\n",
        "    exec(f\"results.loc[('top150','{model}')]['With FS','Precision']=str('%.2f' % (precision.mean()*100)) + '%' + ' (±' + str('%.2f' % (precision.std()*100)) + ')'\")\n",
        "    exec(f\"results.loc[('top150','{model}')]['With FS','Recall']=str('%.2f' % (recall.mean()*100)) + '%' + ' (±' + str('%.2f' % (recall.std()*100)) + ')'\")\n",
        "    exec(f\"results.loc[('top150','{model}')]['With FS','F1-Measure']=str('%.2f' % (f1.mean()*100)) + '%' + ' (±' + str('%.2f' % ((f1.std()*100))) + ')'\")\n",
        "    print(10*'-')"
      ],
      "id": "fa4fd7e1"
    },
    {
      "cell_type": "code",
      "execution_count": null,
      "metadata": {
        "id": "78a13302",
        "scrolled": false
      },
      "outputs": [],
      "source": [
        "# classificaiton with all features\n",
        "for model in models:\n",
        "    exec(f\"acc, precision, recall, f1={model}(df_top150)\")\n",
        "    exec(f\"results.loc[('top150','{model}')]['Without FS','Accuracy']=str('%.2f' % (acc.mean()*100)) + '%' + ' (±' + str('%.2f' % (acc.std()*100)) + ')'\")\n",
        "    exec(f\"results.loc[('top150','{model}')]['Without FS','Precision']=str('%.2f' % (precision.mean()*100)) + '%' + ' (±' + str('%.2f' % (precision.std()*100)) + ')'\")\n",
        "    exec(f\"results.loc[('top150','{model}')]['Without FS','Recall']=str('%.2f' % (recall.mean()*100)) + '%' + ' (±' + str('%.2f' % (recall.std()*100)) + ')'\")\n",
        "    exec(f\"results.loc[('top150','{model}')]['Without FS','F1-Measure']=str('%.2f' % (f1.mean()*100)) + '%' + ' (±' + str('%.2f' % ((f1.std()*100))) + ')'\")\n",
        "    print(10*'-')"
      ],
      "id": "78a13302"
    },
    {
      "cell_type": "code",
      "execution_count": null,
      "metadata": {
        "id": "1cda483f"
      },
      "outputs": [],
      "source": [
        "results.loc[pd.IndexSlice[:, :], :].sort_values([(\"With FS\",\"Accuracy\")],ascending=False)"
      ],
      "id": "1cda483f"
    },
    {
      "cell_type": "code",
      "execution_count": null,
      "metadata": {
        "colab": {
          "base_uri": "https://localhost:8080/",
          "height": 865
        },
        "id": "d0d89dd2",
        "outputId": "eda7681a-b664-42d2-bce6-bdc4187bc1e8",
        "scrolled": false
      },
      "outputs": [
        {
          "data": {
            "text/html": [
              "\n",
              "  <div id=\"df-181ea566-63eb-43ae-b6c2-78a7d59c21a2\" class=\"colab-df-container\">\n",
              "    <div>\n",
              "<style scoped>\n",
              "    .dataframe tbody tr th:only-of-type {\n",
              "        vertical-align: middle;\n",
              "    }\n",
              "\n",
              "    .dataframe tbody tr th {\n",
              "        vertical-align: top;\n",
              "    }\n",
              "\n",
              "    .dataframe thead tr th {\n",
              "        text-align: left;\n",
              "    }\n",
              "\n",
              "    .dataframe thead tr:last-of-type th {\n",
              "        text-align: right;\n",
              "    }\n",
              "</style>\n",
              "<table border=\"1\" class=\"dataframe\">\n",
              "  <thead>\n",
              "    <tr>\n",
              "      <th></th>\n",
              "      <th></th>\n",
              "      <th colspan=\"4\" halign=\"left\">Without FS</th>\n",
              "      <th colspan=\"4\" halign=\"left\">With FS</th>\n",
              "    </tr>\n",
              "    <tr>\n",
              "      <th></th>\n",
              "      <th></th>\n",
              "      <th>Accuracy</th>\n",
              "      <th>Precision</th>\n",
              "      <th>Recall</th>\n",
              "      <th>F1-Measure</th>\n",
              "      <th>Accuracy</th>\n",
              "      <th>Precision</th>\n",
              "      <th>Recall</th>\n",
              "      <th>F1-Measure</th>\n",
              "    </tr>\n",
              "    <tr>\n",
              "      <th>Band</th>\n",
              "      <th>Model</th>\n",
              "      <th></th>\n",
              "      <th></th>\n",
              "      <th></th>\n",
              "      <th></th>\n",
              "      <th></th>\n",
              "      <th></th>\n",
              "      <th></th>\n",
              "      <th></th>\n",
              "    </tr>\n",
              "  </thead>\n",
              "  <tbody>\n",
              "    <tr>\n",
              "      <th rowspan=\"4\" valign=\"top\">delta</th>\n",
              "      <th>svm</th>\n",
              "      <td>75.51% (±2.95)</td>\n",
              "      <td>74.19% (±3.04)</td>\n",
              "      <td>78.26% (±5.26)</td>\n",
              "      <td>76.09% (±3.37)</td>\n",
              "      <td>nan</td>\n",
              "      <td>nan</td>\n",
              "      <td>nan</td>\n",
              "      <td>nan</td>\n",
              "    </tr>\n",
              "    <tr>\n",
              "      <th>lda</th>\n",
              "      <td>72.64% (±3.59)</td>\n",
              "      <td>74.29% (±3.73)</td>\n",
              "      <td>69.12% (±5.45)</td>\n",
              "      <td>71.56% (±4.38)</td>\n",
              "      <td>nan</td>\n",
              "      <td>nan</td>\n",
              "      <td>nan</td>\n",
              "      <td>nan</td>\n",
              "    </tr>\n",
              "    <tr>\n",
              "      <th>rf</th>\n",
              "      <td>75.00% (±2.02)</td>\n",
              "      <td>74.09% (±1.50)</td>\n",
              "      <td>76.75% (±4.35)</td>\n",
              "      <td>75.36% (±2.76)</td>\n",
              "      <td>nan</td>\n",
              "      <td>nan</td>\n",
              "      <td>nan</td>\n",
              "      <td>nan</td>\n",
              "    </tr>\n",
              "    <tr>\n",
              "      <th>dt</th>\n",
              "      <td>67.45% (±2.09)</td>\n",
              "      <td>68.64% (±3.14)</td>\n",
              "      <td>64.61% (±2.99)</td>\n",
              "      <td>66.48% (±2.03)</td>\n",
              "      <td>nan</td>\n",
              "      <td>nan</td>\n",
              "      <td>nan</td>\n",
              "      <td>nan</td>\n",
              "    </tr>\n",
              "    <tr>\n",
              "      <th rowspan=\"4\" valign=\"top\">theta</th>\n",
              "      <th>svm</th>\n",
              "      <td>76.18% (±2.76)</td>\n",
              "      <td>77.21% (±3.19)</td>\n",
              "      <td>74.28% (±3.96)</td>\n",
              "      <td>75.68% (±3.17)</td>\n",
              "      <td>nan</td>\n",
              "      <td>nan</td>\n",
              "      <td>nan</td>\n",
              "      <td>nan</td>\n",
              "    </tr>\n",
              "    <tr>\n",
              "      <th>lda</th>\n",
              "      <td>71.29% (±2.95)</td>\n",
              "      <td>74.04% (±3.43)</td>\n",
              "      <td>65.37% (±5.06)</td>\n",
              "      <td>69.38% (±4.08)</td>\n",
              "      <td>nan</td>\n",
              "      <td>nan</td>\n",
              "      <td>nan</td>\n",
              "      <td>nan</td>\n",
              "    </tr>\n",
              "    <tr>\n",
              "      <th>rf</th>\n",
              "      <td>73.76% (±1.47)</td>\n",
              "      <td>73.07% (±1.92)</td>\n",
              "      <td>75.33% (±2.51)</td>\n",
              "      <td>74.15% (±1.58)</td>\n",
              "      <td>nan</td>\n",
              "      <td>nan</td>\n",
              "      <td>nan</td>\n",
              "      <td>nan</td>\n",
              "    </tr>\n",
              "    <tr>\n",
              "      <th>dt</th>\n",
              "      <td>65.43% (±3.15)</td>\n",
              "      <td>66.64% (±3.13)</td>\n",
              "      <td>62.10% (±2.73)</td>\n",
              "      <td>64.26% (±2.67)</td>\n",
              "      <td>nan</td>\n",
              "      <td>nan</td>\n",
              "      <td>nan</td>\n",
              "      <td>nan</td>\n",
              "    </tr>\n",
              "    <tr>\n",
              "      <th rowspan=\"4\" valign=\"top\">alpha</th>\n",
              "      <th>svm</th>\n",
              "      <td>80.80% (±1.46)</td>\n",
              "      <td>81.95% (±2.21)</td>\n",
              "      <td>79.04% (±2.74)</td>\n",
              "      <td>80.43% (±1.74)</td>\n",
              "      <td>nan</td>\n",
              "      <td>nan</td>\n",
              "      <td>nan</td>\n",
              "      <td>nan</td>\n",
              "    </tr>\n",
              "    <tr>\n",
              "      <th>lda</th>\n",
              "      <td>76.35% (±2.27)</td>\n",
              "      <td>74.76% (±2.55)</td>\n",
              "      <td>79.64% (±2.92)</td>\n",
              "      <td>77.09% (±2.25)</td>\n",
              "      <td>nan</td>\n",
              "      <td>nan</td>\n",
              "      <td>nan</td>\n",
              "      <td>nan</td>\n",
              "    </tr>\n",
              "    <tr>\n",
              "      <th>rf</th>\n",
              "      <td>81.36% (±2.03)</td>\n",
              "      <td>82.91% (±2.96)</td>\n",
              "      <td>79.01% (±2.37)</td>\n",
              "      <td>80.89% (±2.26)</td>\n",
              "      <td>nan</td>\n",
              "      <td>nan</td>\n",
              "      <td>nan</td>\n",
              "      <td>nan</td>\n",
              "    </tr>\n",
              "    <tr>\n",
              "      <th>dt</th>\n",
              "      <td>72.86% (±2.12)</td>\n",
              "      <td>73.04% (±2.60)</td>\n",
              "      <td>72.64% (±2.81)</td>\n",
              "      <td>72.79% (±1.93)</td>\n",
              "      <td>nan</td>\n",
              "      <td>nan</td>\n",
              "      <td>nan</td>\n",
              "      <td>nan</td>\n",
              "    </tr>\n",
              "    <tr>\n",
              "      <th rowspan=\"4\" valign=\"top\">beta</th>\n",
              "      <th>svm</th>\n",
              "      <td>82.49% (±2.21)</td>\n",
              "      <td>82.97% (±3.64)</td>\n",
              "      <td>81.88% (±3.85)</td>\n",
              "      <td>82.33% (±2.54)</td>\n",
              "      <td>nan</td>\n",
              "      <td>nan</td>\n",
              "      <td>nan</td>\n",
              "      <td>nan</td>\n",
              "    </tr>\n",
              "    <tr>\n",
              "      <th>lda</th>\n",
              "      <td>78.04% (±1.02)</td>\n",
              "      <td>78.28% (±1.53)</td>\n",
              "      <td>77.73% (±3.47)</td>\n",
              "      <td>77.94% (±1.36)</td>\n",
              "      <td>nan</td>\n",
              "      <td>nan</td>\n",
              "      <td>nan</td>\n",
              "      <td>nan</td>\n",
              "    </tr>\n",
              "    <tr>\n",
              "      <th>rf</th>\n",
              "      <td>81.65% (±1.66)</td>\n",
              "      <td>82.04% (±2.45)</td>\n",
              "      <td>81.07% (±1.57)</td>\n",
              "      <td>81.54% (±1.67)</td>\n",
              "      <td>nan</td>\n",
              "      <td>nan</td>\n",
              "      <td>nan</td>\n",
              "      <td>nan</td>\n",
              "    </tr>\n",
              "    <tr>\n",
              "      <th>dt</th>\n",
              "      <td>70.38% (±2.44)</td>\n",
              "      <td>71.34% (±3.77)</td>\n",
              "      <td>68.37% (±4.13)</td>\n",
              "      <td>69.72% (±2.91)</td>\n",
              "      <td>nan</td>\n",
              "      <td>nan</td>\n",
              "      <td>nan</td>\n",
              "      <td>nan</td>\n",
              "    </tr>\n",
              "    <tr>\n",
              "      <th rowspan=\"4\" valign=\"top\">gamma</th>\n",
              "      <th>svm</th>\n",
              "      <td>79.56% (±1.95)</td>\n",
              "      <td>79.90% (±3.31)</td>\n",
              "      <td>79.29% (±1.05)</td>\n",
              "      <td>79.54% (±1.34)</td>\n",
              "      <td>nan</td>\n",
              "      <td>nan</td>\n",
              "      <td>nan</td>\n",
              "      <td>nan</td>\n",
              "    </tr>\n",
              "    <tr>\n",
              "      <th>lda</th>\n",
              "      <td>76.58% (±2.09)</td>\n",
              "      <td>77.78% (±3.07)</td>\n",
              "      <td>74.68% (±2.34)</td>\n",
              "      <td>76.14% (±1.66)</td>\n",
              "      <td>nan</td>\n",
              "      <td>nan</td>\n",
              "      <td>nan</td>\n",
              "      <td>nan</td>\n",
              "    </tr>\n",
              "    <tr>\n",
              "      <th>rf</th>\n",
              "      <td>79.73% (±1.71)</td>\n",
              "      <td>79.59% (±1.81)</td>\n",
              "      <td>80.11% (±3.26)</td>\n",
              "      <td>79.80% (±1.61)</td>\n",
              "      <td>nan</td>\n",
              "      <td>nan</td>\n",
              "      <td>nan</td>\n",
              "      <td>nan</td>\n",
              "    </tr>\n",
              "    <tr>\n",
              "      <th>dt</th>\n",
              "      <td>68.63% (±2.01)</td>\n",
              "      <td>69.14% (±2.76)</td>\n",
              "      <td>67.44% (±1.80)</td>\n",
              "      <td>68.25% (±1.92)</td>\n",
              "      <td>nan</td>\n",
              "      <td>nan</td>\n",
              "      <td>nan</td>\n",
              "      <td>nan</td>\n",
              "    </tr>\n",
              "    <tr>\n",
              "      <th rowspan=\"4\" valign=\"top\">top150</th>\n",
              "      <th>svm</th>\n",
              "      <td>88.96% (±1.03)</td>\n",
              "      <td>89.10% (±2.42)</td>\n",
              "      <td>88.85% (±1.64)</td>\n",
              "      <td>88.94% (±1.11)</td>\n",
              "      <td>nan</td>\n",
              "      <td>nan</td>\n",
              "      <td>nan</td>\n",
              "      <td>nan</td>\n",
              "    </tr>\n",
              "    <tr>\n",
              "      <th>lda</th>\n",
              "      <td>81.87% (±1.75)</td>\n",
              "      <td>82.12% (±1.79)</td>\n",
              "      <td>81.55% (±3.32)</td>\n",
              "      <td>81.79% (±1.88)</td>\n",
              "      <td>nan</td>\n",
              "      <td>nan</td>\n",
              "      <td>nan</td>\n",
              "      <td>nan</td>\n",
              "    </tr>\n",
              "    <tr>\n",
              "      <th>rf</th>\n",
              "      <td>85.81% (±1.20)</td>\n",
              "      <td>85.84% (±1.65)</td>\n",
              "      <td>85.81% (±2.68)</td>\n",
              "      <td>85.79% (±1.34)</td>\n",
              "      <td>nan</td>\n",
              "      <td>nan</td>\n",
              "      <td>nan</td>\n",
              "      <td>nan</td>\n",
              "    </tr>\n",
              "    <tr>\n",
              "      <th>dt</th>\n",
              "      <td>75.51% (±1.48)</td>\n",
              "      <td>76.44% (±2.55)</td>\n",
              "      <td>74.04% (±3.42)</td>\n",
              "      <td>75.12% (±1.40)</td>\n",
              "      <td>nan</td>\n",
              "      <td>nan</td>\n",
              "      <td>nan</td>\n",
              "      <td>nan</td>\n",
              "    </tr>\n",
              "  </tbody>\n",
              "</table>\n",
              "</div>\n",
              "    <div class=\"colab-df-buttons\">\n",
              "\n",
              "  <div class=\"colab-df-container\">\n",
              "    <button class=\"colab-df-convert\" onclick=\"convertToInteractive('df-181ea566-63eb-43ae-b6c2-78a7d59c21a2')\"\n",
              "            title=\"Convert this dataframe to an interactive table.\"\n",
              "            style=\"display:none;\">\n",
              "\n",
              "  <svg xmlns=\"http://www.w3.org/2000/svg\" height=\"24px\" viewBox=\"0 -960 960 960\">\n",
              "    <path d=\"M120-120v-720h720v720H120Zm60-500h600v-160H180v160Zm220 220h160v-160H400v160Zm0 220h160v-160H400v160ZM180-400h160v-160H180v160Zm440 0h160v-160H620v160ZM180-180h160v-160H180v160Zm440 0h160v-160H620v160Z\"/>\n",
              "  </svg>\n",
              "    </button>\n",
              "\n",
              "  <style>\n",
              "    .colab-df-container {\n",
              "      display:flex;\n",
              "      gap: 12px;\n",
              "    }\n",
              "\n",
              "    .colab-df-convert {\n",
              "      background-color: #E8F0FE;\n",
              "      border: none;\n",
              "      border-radius: 50%;\n",
              "      cursor: pointer;\n",
              "      display: none;\n",
              "      fill: #1967D2;\n",
              "      height: 32px;\n",
              "      padding: 0 0 0 0;\n",
              "      width: 32px;\n",
              "    }\n",
              "\n",
              "    .colab-df-convert:hover {\n",
              "      background-color: #E2EBFA;\n",
              "      box-shadow: 0px 1px 2px rgba(60, 64, 67, 0.3), 0px 1px 3px 1px rgba(60, 64, 67, 0.15);\n",
              "      fill: #174EA6;\n",
              "    }\n",
              "\n",
              "    .colab-df-buttons div {\n",
              "      margin-bottom: 4px;\n",
              "    }\n",
              "\n",
              "    [theme=dark] .colab-df-convert {\n",
              "      background-color: #3B4455;\n",
              "      fill: #D2E3FC;\n",
              "    }\n",
              "\n",
              "    [theme=dark] .colab-df-convert:hover {\n",
              "      background-color: #434B5C;\n",
              "      box-shadow: 0px 1px 3px 1px rgba(0, 0, 0, 0.15);\n",
              "      filter: drop-shadow(0px 1px 2px rgba(0, 0, 0, 0.3));\n",
              "      fill: #FFFFFF;\n",
              "    }\n",
              "  </style>\n",
              "\n",
              "    <script>\n",
              "      const buttonEl =\n",
              "        document.querySelector('#df-181ea566-63eb-43ae-b6c2-78a7d59c21a2 button.colab-df-convert');\n",
              "      buttonEl.style.display =\n",
              "        google.colab.kernel.accessAllowed ? 'block' : 'none';\n",
              "\n",
              "      async function convertToInteractive(key) {\n",
              "        const element = document.querySelector('#df-181ea566-63eb-43ae-b6c2-78a7d59c21a2');\n",
              "        const dataTable =\n",
              "          await google.colab.kernel.invokeFunction('convertToInteractive',\n",
              "                                                    [key], {});\n",
              "        if (!dataTable) return;\n",
              "\n",
              "        const docLinkHtml = 'Like what you see? Visit the ' +\n",
              "          '<a target=\"_blank\" href=https://colab.research.google.com/notebooks/data_table.ipynb>data table notebook</a>'\n",
              "          + ' to learn more about interactive tables.';\n",
              "        element.innerHTML = '';\n",
              "        dataTable['output_type'] = 'display_data';\n",
              "        await google.colab.output.renderOutput(dataTable, element);\n",
              "        const docLink = document.createElement('div');\n",
              "        docLink.innerHTML = docLinkHtml;\n",
              "        element.appendChild(docLink);\n",
              "      }\n",
              "    </script>\n",
              "  </div>\n",
              "\n",
              "\n",
              "<div id=\"df-86fb0da0-95a9-403f-9187-5c8ad044afcd\">\n",
              "  <button class=\"colab-df-quickchart\" onclick=\"quickchart('df-86fb0da0-95a9-403f-9187-5c8ad044afcd')\"\n",
              "            title=\"Suggest charts.\"\n",
              "            style=\"display:none;\">\n",
              "\n",
              "<svg xmlns=\"http://www.w3.org/2000/svg\" height=\"24px\"viewBox=\"0 0 24 24\"\n",
              "     width=\"24px\">\n",
              "    <g>\n",
              "        <path d=\"M19 3H5c-1.1 0-2 .9-2 2v14c0 1.1.9 2 2 2h14c1.1 0 2-.9 2-2V5c0-1.1-.9-2-2-2zM9 17H7v-7h2v7zm4 0h-2V7h2v10zm4 0h-2v-4h2v4z\"/>\n",
              "    </g>\n",
              "</svg>\n",
              "  </button>\n",
              "\n",
              "<style>\n",
              "  .colab-df-quickchart {\n",
              "      --bg-color: #E8F0FE;\n",
              "      --fill-color: #1967D2;\n",
              "      --hover-bg-color: #E2EBFA;\n",
              "      --hover-fill-color: #174EA6;\n",
              "      --disabled-fill-color: #AAA;\n",
              "      --disabled-bg-color: #DDD;\n",
              "  }\n",
              "\n",
              "  [theme=dark] .colab-df-quickchart {\n",
              "      --bg-color: #3B4455;\n",
              "      --fill-color: #D2E3FC;\n",
              "      --hover-bg-color: #434B5C;\n",
              "      --hover-fill-color: #FFFFFF;\n",
              "      --disabled-bg-color: #3B4455;\n",
              "      --disabled-fill-color: #666;\n",
              "  }\n",
              "\n",
              "  .colab-df-quickchart {\n",
              "    background-color: var(--bg-color);\n",
              "    border: none;\n",
              "    border-radius: 50%;\n",
              "    cursor: pointer;\n",
              "    display: none;\n",
              "    fill: var(--fill-color);\n",
              "    height: 32px;\n",
              "    padding: 0;\n",
              "    width: 32px;\n",
              "  }\n",
              "\n",
              "  .colab-df-quickchart:hover {\n",
              "    background-color: var(--hover-bg-color);\n",
              "    box-shadow: 0 1px 2px rgba(60, 64, 67, 0.3), 0 1px 3px 1px rgba(60, 64, 67, 0.15);\n",
              "    fill: var(--button-hover-fill-color);\n",
              "  }\n",
              "\n",
              "  .colab-df-quickchart-complete:disabled,\n",
              "  .colab-df-quickchart-complete:disabled:hover {\n",
              "    background-color: var(--disabled-bg-color);\n",
              "    fill: var(--disabled-fill-color);\n",
              "    box-shadow: none;\n",
              "  }\n",
              "\n",
              "  .colab-df-spinner {\n",
              "    border: 2px solid var(--fill-color);\n",
              "    border-color: transparent;\n",
              "    border-bottom-color: var(--fill-color);\n",
              "    animation:\n",
              "      spin 1s steps(1) infinite;\n",
              "  }\n",
              "\n",
              "  @keyframes spin {\n",
              "    0% {\n",
              "      border-color: transparent;\n",
              "      border-bottom-color: var(--fill-color);\n",
              "      border-left-color: var(--fill-color);\n",
              "    }\n",
              "    20% {\n",
              "      border-color: transparent;\n",
              "      border-left-color: var(--fill-color);\n",
              "      border-top-color: var(--fill-color);\n",
              "    }\n",
              "    30% {\n",
              "      border-color: transparent;\n",
              "      border-left-color: var(--fill-color);\n",
              "      border-top-color: var(--fill-color);\n",
              "      border-right-color: var(--fill-color);\n",
              "    }\n",
              "    40% {\n",
              "      border-color: transparent;\n",
              "      border-right-color: var(--fill-color);\n",
              "      border-top-color: var(--fill-color);\n",
              "    }\n",
              "    60% {\n",
              "      border-color: transparent;\n",
              "      border-right-color: var(--fill-color);\n",
              "    }\n",
              "    80% {\n",
              "      border-color: transparent;\n",
              "      border-right-color: var(--fill-color);\n",
              "      border-bottom-color: var(--fill-color);\n",
              "    }\n",
              "    90% {\n",
              "      border-color: transparent;\n",
              "      border-bottom-color: var(--fill-color);\n",
              "    }\n",
              "  }\n",
              "</style>\n",
              "\n",
              "  <script>\n",
              "    async function quickchart(key) {\n",
              "      const quickchartButtonEl =\n",
              "        document.querySelector('#' + key + ' button');\n",
              "      quickchartButtonEl.disabled = true;  // To prevent multiple clicks.\n",
              "      quickchartButtonEl.classList.add('colab-df-spinner');\n",
              "      try {\n",
              "        const charts = await google.colab.kernel.invokeFunction(\n",
              "            'suggestCharts', [key], {});\n",
              "      } catch (error) {\n",
              "        console.error('Error during call to suggestCharts:', error);\n",
              "      }\n",
              "      quickchartButtonEl.classList.remove('colab-df-spinner');\n",
              "      quickchartButtonEl.classList.add('colab-df-quickchart-complete');\n",
              "    }\n",
              "    (() => {\n",
              "      let quickchartButtonEl =\n",
              "        document.querySelector('#df-86fb0da0-95a9-403f-9187-5c8ad044afcd button');\n",
              "      quickchartButtonEl.style.display =\n",
              "        google.colab.kernel.accessAllowed ? 'block' : 'none';\n",
              "    })();\n",
              "  </script>\n",
              "</div>\n",
              "    </div>\n",
              "  </div>\n"
            ],
            "text/plain": [
              "                  Without FS                                                  \\\n",
              "                    Accuracy       Precision          Recall      F1-Measure   \n",
              "Band   Model                                                                   \n",
              "delta  svm    75.51% (±2.95)  74.19% (±3.04)  78.26% (±5.26)  76.09% (±3.37)   \n",
              "       lda    72.64% (±3.59)  74.29% (±3.73)  69.12% (±5.45)  71.56% (±4.38)   \n",
              "       rf     75.00% (±2.02)  74.09% (±1.50)  76.75% (±4.35)  75.36% (±2.76)   \n",
              "       dt     67.45% (±2.09)  68.64% (±3.14)  64.61% (±2.99)  66.48% (±2.03)   \n",
              "theta  svm    76.18% (±2.76)  77.21% (±3.19)  74.28% (±3.96)  75.68% (±3.17)   \n",
              "       lda    71.29% (±2.95)  74.04% (±3.43)  65.37% (±5.06)  69.38% (±4.08)   \n",
              "       rf     73.76% (±1.47)  73.07% (±1.92)  75.33% (±2.51)  74.15% (±1.58)   \n",
              "       dt     65.43% (±3.15)  66.64% (±3.13)  62.10% (±2.73)  64.26% (±2.67)   \n",
              "alpha  svm    80.80% (±1.46)  81.95% (±2.21)  79.04% (±2.74)  80.43% (±1.74)   \n",
              "       lda    76.35% (±2.27)  74.76% (±2.55)  79.64% (±2.92)  77.09% (±2.25)   \n",
              "       rf     81.36% (±2.03)  82.91% (±2.96)  79.01% (±2.37)  80.89% (±2.26)   \n",
              "       dt     72.86% (±2.12)  73.04% (±2.60)  72.64% (±2.81)  72.79% (±1.93)   \n",
              "beta   svm    82.49% (±2.21)  82.97% (±3.64)  81.88% (±3.85)  82.33% (±2.54)   \n",
              "       lda    78.04% (±1.02)  78.28% (±1.53)  77.73% (±3.47)  77.94% (±1.36)   \n",
              "       rf     81.65% (±1.66)  82.04% (±2.45)  81.07% (±1.57)  81.54% (±1.67)   \n",
              "       dt     70.38% (±2.44)  71.34% (±3.77)  68.37% (±4.13)  69.72% (±2.91)   \n",
              "gamma  svm    79.56% (±1.95)  79.90% (±3.31)  79.29% (±1.05)  79.54% (±1.34)   \n",
              "       lda    76.58% (±2.09)  77.78% (±3.07)  74.68% (±2.34)  76.14% (±1.66)   \n",
              "       rf     79.73% (±1.71)  79.59% (±1.81)  80.11% (±3.26)  79.80% (±1.61)   \n",
              "       dt     68.63% (±2.01)  69.14% (±2.76)  67.44% (±1.80)  68.25% (±1.92)   \n",
              "top150 svm    88.96% (±1.03)  89.10% (±2.42)  88.85% (±1.64)  88.94% (±1.11)   \n",
              "       lda    81.87% (±1.75)  82.12% (±1.79)  81.55% (±3.32)  81.79% (±1.88)   \n",
              "       rf     85.81% (±1.20)  85.84% (±1.65)  85.81% (±2.68)  85.79% (±1.34)   \n",
              "       dt     75.51% (±1.48)  76.44% (±2.55)  74.04% (±3.42)  75.12% (±1.40)   \n",
              "\n",
              "              With FS                              \n",
              "             Accuracy Precision Recall F1-Measure  \n",
              "Band   Model                                       \n",
              "delta  svm        nan       nan    nan        nan  \n",
              "       lda        nan       nan    nan        nan  \n",
              "       rf         nan       nan    nan        nan  \n",
              "       dt         nan       nan    nan        nan  \n",
              "theta  svm        nan       nan    nan        nan  \n",
              "       lda        nan       nan    nan        nan  \n",
              "       rf         nan       nan    nan        nan  \n",
              "       dt         nan       nan    nan        nan  \n",
              "alpha  svm        nan       nan    nan        nan  \n",
              "       lda        nan       nan    nan        nan  \n",
              "       rf         nan       nan    nan        nan  \n",
              "       dt         nan       nan    nan        nan  \n",
              "beta   svm        nan       nan    nan        nan  \n",
              "       lda        nan       nan    nan        nan  \n",
              "       rf         nan       nan    nan        nan  \n",
              "       dt         nan       nan    nan        nan  \n",
              "gamma  svm        nan       nan    nan        nan  \n",
              "       lda        nan       nan    nan        nan  \n",
              "       rf         nan       nan    nan        nan  \n",
              "       dt         nan       nan    nan        nan  \n",
              "top150 svm        nan       nan    nan        nan  \n",
              "       lda        nan       nan    nan        nan  \n",
              "       rf         nan       nan    nan        nan  \n",
              "       dt         nan       nan    nan        nan  "
            ]
          },
          "execution_count": 80,
          "metadata": {},
          "output_type": "execute_result"
        }
      ],
      "source": [
        "results"
      ],
      "id": "d0d89dd2"
    },
    {
      "cell_type": "markdown",
      "metadata": {
        "id": "7b061605"
      },
      "source": [
        "## mRMR"
      ],
      "id": "7b061605"
    },
    {
      "cell_type": "code",
      "execution_count": null,
      "metadata": {
        "id": "051034b0"
      },
      "outputs": [],
      "source": [
        "# Model = SVM\n",
        "import pymrmr\n",
        "\n",
        "ls_feature=list(df_top150.columns[:-1])\n",
        "best_acc=-np.inf\n",
        "best_feature=None\n",
        "c=0\n",
        "col_new_order=[df_top150.columns[-1]] + df_top150.columns[:-1].tolist() # bringing label column to first column\n",
        "for n_features in range(1,151):\n",
        "    selected=pymrmr.mRMR(df_top150[col_new_order], 'MIQ', n_features)\n",
        "    acc_current, _, _, _=svm(df_top150[selected+['label']],print_results=False)\n",
        "    acc_current=acc_current.mean()\n",
        "    if best_acc<acc_current:\n",
        "        best_feature=selected[:]\n",
        "        best_acc=acc_current\n",
        "        c+=1\n",
        "        print(\"ACC Updated:\",best_acc)"
      ],
      "id": "051034b0"
    },
    {
      "cell_type": "code",
      "execution_count": null,
      "metadata": {
        "id": "0dd0914b"
      },
      "outputs": [],
      "source": [
        "# best_feature_svm=best_feature\n",
        "acc_svm, precision_svm, recall_svm, f1_svm=svm(df_top150[best_feature_svm+['label']],print_results=False)"
      ],
      "id": "0dd0914b"
    },
    {
      "cell_type": "code",
      "execution_count": null,
      "metadata": {
        "id": "4065d567"
      },
      "outputs": [],
      "source": [
        "for model in models:\n",
        "    print(\"Model:\",model)\n",
        "    print('-'*100)\n",
        "    exec(f\"print('acc_mean:',acc_{model}.mean()* 100)\")\n",
        "    exec(f\"print('acc_std:',acc_{model}.std()* 100)\")\n",
        "    exec(f\"print(10*'--')\")\n",
        "\n",
        "    exec(f\"print('precision_mean:',precision_{model}.mean()* 100)\")\n",
        "    exec(f\"print('precision_std:',precision_{model}.std()* 100)\")\n",
        "    exec(f\"print(10*'--')\")\n",
        "\n",
        "    exec(f\"print('recall_mean:',recall_{model}.mean()* 100)\")\n",
        "    exec(f\"print('recall_std:',recall_{model}.std()* 100)\")\n",
        "    exec(f\"print(10*'--')\")\n",
        "\n",
        "    exec(f\"print('f1_mean:',f1_{model}.mean()* 100)\")\n",
        "    exec(f\"print('f1_std:',f1_{model}.std()* 100)\")\n",
        "    exec(f\"print(10*'--')\")"
      ],
      "id": "4065d567"
    },
    {
      "cell_type": "code",
      "execution_count": null,
      "metadata": {
        "id": "68bc5dbe"
      },
      "outputs": [],
      "source": [
        "precision_svm.std() * 100"
      ],
      "id": "68bc5dbe"
    },
    {
      "cell_type": "code",
      "execution_count": null,
      "metadata": {
        "id": "a21fc942"
      },
      "outputs": [],
      "source": [
        "# Model = Random forest (rf)\n",
        "import pymrmr\n",
        "ls_feature=list(df_top150.columns[:-1])\n",
        "best_acc=-np.inf\n",
        "best_feature=None\n",
        "c=0\n",
        "col_new_order=[df_top150.columns[-1]] + df_top150.columns[:-1].tolist() # bringing label column to first column\n",
        "for n_features in range(1,151):\n",
        "    selected=pymrmr.mRMR(df_top150[col_new_order], 'MIQ', n_features)\n",
        "    acc_current, _, _, _=rf(df_top150[selected+['label']],print_results=False)\n",
        "    acc_current=acc_current.mean()\n",
        "    if best_acc<acc_current:\n",
        "        best_feature=selected[:]\n",
        "        best_acc=acc_current\n",
        "        c+=1\n",
        "        print(\"ACC Updated:\",best_acc)"
      ],
      "id": "a21fc942"
    },
    {
      "cell_type": "code",
      "execution_count": null,
      "metadata": {
        "id": "8e1439f8"
      },
      "outputs": [],
      "source": [
        "# best_feature_rf=best_feature\n",
        "acc_rf, precision_rf, recall_rf, f1_rf=rf(df_top150[best_feature_rf+['label']],print_results=True)"
      ],
      "id": "8e1439f8"
    },
    {
      "cell_type": "code",
      "execution_count": null,
      "metadata": {
        "id": "39f204ac"
      },
      "outputs": [],
      "source": [
        "# Model = LDA\n",
        "import pymrmr\n",
        "ls_feature=list(df_top150.columns[:-1])\n",
        "best_acc=-np.inf\n",
        "best_feature=None\n",
        "c=0\n",
        "col_new_order=[df_top150.columns[-1]] + df_top150.columns[:-1].tolist() # bringing label column to first column\n",
        "for n_features in range(1,151):\n",
        "    selected=pymrmr.mRMR(df_top150[col_new_order], 'MIQ', n_features)\n",
        "    acc_current, _, _, _=lda(df_top150[selected+['label']],print_results=False)\n",
        "    acc_current=acc_current.mean()\n",
        "    if best_acc<acc_current:\n",
        "        best_feature=selected[:]\n",
        "        best_acc=acc_current\n",
        "        c+=1\n",
        "        print(\"ACC Updated:\",best_acc)"
      ],
      "id": "39f204ac"
    },
    {
      "cell_type": "code",
      "execution_count": null,
      "metadata": {
        "id": "4951758f"
      },
      "outputs": [],
      "source": [
        "# best_feature_lda=best_feature\n",
        "acc_lda, precision_lda, recall_lda, f1_lda=lda(df_top150[best_feature_lda+['label']],print_results=True)"
      ],
      "id": "4951758f"
    },
    {
      "cell_type": "code",
      "execution_count": null,
      "metadata": {
        "id": "0bc584e5"
      },
      "outputs": [],
      "source": [
        "# Model = Decision tree (dt)\n",
        "import pymrmr\n",
        "ls_feature=list(df_top150.columns[:-1])\n",
        "best_acc=-np.inf\n",
        "best_feature=None\n",
        "c=0\n",
        "col_new_order=[df_top150.columns[-1]] + df_top150.columns[:-1].tolist() # bringing label column to first column\n",
        "for n_features in range(1,151):\n",
        "    selected=pymrmr.mRMR(df_top150[col_new_order], 'MIQ', n_features)\n",
        "    acc_current, _, _, _=dt(df_top150[selected+['label']],print_results=False)\n",
        "    acc_current=acc_current.mean()\n",
        "    if best_acc<acc_current:\n",
        "        best_feature=selected[:]\n",
        "        best_acc=acc_current\n",
        "        c+=1\n",
        "        print(\"ACC Updated:\",best_acc)"
      ],
      "id": "0bc584e5"
    },
    {
      "cell_type": "code",
      "execution_count": null,
      "metadata": {
        "id": "0f703f44"
      },
      "outputs": [],
      "source": [
        "# best_feature_dt=best_feature\n",
        "acc_dt, precision_dt, recall_dt, f1_dt=dt(df_top150[best_feature_dt+['label']],print_results=True)"
      ],
      "id": "0f703f44"
    },
    {
      "cell_type": "code",
      "execution_count": null,
      "metadata": {
        "id": "6f385f39"
      },
      "outputs": [],
      "source": [
        "%%notify"
      ],
      "id": "6f385f39"
    },
    {
      "cell_type": "markdown",
      "metadata": {
        "id": "d11d1261"
      },
      "source": [
        "## Relief-f"
      ],
      "id": "d11d1261"
    },
    {
      "cell_type": "code",
      "execution_count": null,
      "metadata": {
        "id": "de835560"
      },
      "outputs": [],
      "source": [
        "from ReliefF import ReliefF"
      ],
      "id": "de835560"
    },
    {
      "cell_type": "code",
      "execution_count": null,
      "metadata": {
        "id": "d5e26dd3"
      },
      "outputs": [],
      "source": [
        "data=np.array(df_top150.iloc[:,:-1])\n",
        "target=np.array(df_top150.iloc[:,-1])"
      ],
      "id": "d5e26dd3"
    },
    {
      "cell_type": "code",
      "execution_count": null,
      "metadata": {
        "id": "1bcd8cf2"
      },
      "outputs": [],
      "source": [
        "# SVM\n",
        "best_acc_svm=np.array([-np.inf,-np.inf])\n",
        "best_precision_svm=-np.inf\n",
        "best_recall_svm=-np.inf\n",
        "best_f1_svm=-np.inf\n",
        "c=0\n",
        "for i in range(1,151):\n",
        "    fs = ReliefF(n_features_to_keep=i)\n",
        "    X_train = fs.fit_transform(data, target)\n",
        "    df_selected=pd.DataFrame(np.c_[X_train,target])\n",
        "    acc_current, precision_current, recall_current, f1_current=svm(df_selected,print_results=False)\n",
        "    if best_acc_svm.mean()<acc_current.mean():\n",
        "        best_acc_svm=acc_current\n",
        "        best_precision_svm=precision_current\n",
        "        best_recall_svm=recall_current\n",
        "        best_f1_svm=f1_current\n",
        "        c+=1\n",
        "        print(\"ACC Updated:\",best_acc_svm.mean())"
      ],
      "id": "1bcd8cf2"
    },
    {
      "cell_type": "code",
      "execution_count": null,
      "metadata": {
        "id": "db9011a8"
      },
      "outputs": [],
      "source": [
        "# RF\n",
        "best_acc_rf=np.array([-np.inf,-np.inf])\n",
        "best_precision_rf=-np.inf\n",
        "best_recall_rf=-np.inf\n",
        "best_f1_rf=-np.inf\n",
        "c=0\n",
        "for i in range(1,151):\n",
        "    fs = ReliefF(n_features_to_keep=i)\n",
        "    X_train = fs.fit_transform(data, target)\n",
        "    df_selected=pd.DataFrame(np.c_[X_train,target])\n",
        "    acc_current, precision_current, recall_current, f1_current=rf(df_selected,print_results=False)\n",
        "    if best_acc_rf.mean()<acc_current.mean():\n",
        "        best_acc_rf=acc_current\n",
        "        best_precision_rf=precision_current\n",
        "        best_recall_rf=recall_current\n",
        "        best_f1_rf=f1_current\n",
        "        c+=1\n",
        "        print(\"ACC Updated:\",best_acc_rf.mean())"
      ],
      "id": "db9011a8"
    },
    {
      "cell_type": "code",
      "execution_count": null,
      "metadata": {
        "id": "b7c5dd73"
      },
      "outputs": [],
      "source": [
        "# LDA\n",
        "best_acc_lda=np.array([-np.inf,-np.inf])\n",
        "best_precision_lda=-np.inf\n",
        "best_recall_lda=-np.inf\n",
        "best_f1_lda=-np.inf\n",
        "c=0\n",
        "for i in range(1,151):\n",
        "    fs = ReliefF(n_features_to_keep=i)\n",
        "    X_train = fs.fit_transform(data, target)\n",
        "    df_selected=pd.DataFrame(np.c_[X_train,target])\n",
        "    acc_current, precision_current, recall_current, f1_current=lda(df_selected,print_results=False)\n",
        "    if best_acc_lda.mean()<acc_current.mean():\n",
        "        best_acc_lda=acc_current\n",
        "        best_precision_lda=precision_current\n",
        "        best_recall_lda=recall_current\n",
        "        best_f1_lda=f1_current\n",
        "        c+=1\n",
        "        print(\"ACC Updated:\",best_acc_lda.mean())"
      ],
      "id": "b7c5dd73"
    },
    {
      "cell_type": "code",
      "execution_count": null,
      "metadata": {
        "id": "2cd4a290"
      },
      "outputs": [],
      "source": [
        "# DT\n",
        "best_acc_dt=np.array([-np.inf,-np.inf])\n",
        "best_precision_dt=-np.inf\n",
        "best_recall_dt=-np.inf\n",
        "best_f1_dt=-np.inf\n",
        "c=0\n",
        "for i in range(1,151):\n",
        "    fs = ReliefF(n_features_to_keep=i)\n",
        "    X_train = fs.fit_transform(data, target)\n",
        "    df_selected=pd.DataFrame(np.c_[X_train,target])\n",
        "    acc_current, precision_current, recall_current, f1_current=dt(df_selected,print_results=False)\n",
        "    if best_acc_dt.mean()<acc_current.mean():\n",
        "        best_acc_dt=acc_current\n",
        "        best_precision_dt=precision_current\n",
        "        best_recall_dt=recall_current\n",
        "        best_f1_dt=f1_current\n",
        "        c+=1\n",
        "        print(\"ACC Updated:\",best_acc_dt.mean())"
      ],
      "id": "2cd4a290"
    },
    {
      "cell_type": "code",
      "execution_count": null,
      "metadata": {
        "id": "7edaefbe"
      },
      "outputs": [],
      "source": [
        "best_acc_lda\n",
        "for model in models:\n",
        "    print(\"Model:\",model)\n",
        "    print('-'*100)\n",
        "    exec(f\"print('acc_mean:',best_acc_{model}.mean()* 100)\")\n",
        "    exec(f\"print('acc_std:',best_acc_{model}.std()* 100)\")\n",
        "    exec(f\"print(10*'--')\")\n",
        "\n",
        "    exec(f\"print('precision_mean:',best_precision_{model}.mean()* 100)\")\n",
        "    exec(f\"print('precision_std:',best_precision_{model}.std()* 100)\")\n",
        "    exec(f\"print(10*'--')\")\n",
        "\n",
        "    exec(f\"print('recall_mean:',best_recall_{model}.mean()* 100)\")\n",
        "    exec(f\"print('recall_std:',best_recall_{model}.std()* 100)\")\n",
        "    exec(f\"print(10*'--')\")\n",
        "\n",
        "    exec(f\"print('f1_mean:',best_f1_{model}.mean()* 100)\")\n",
        "    exec(f\"print('f1_std:',best_f1_{model}.std()* 100)\")\n",
        "    exec(f\"print(10*'--')\")"
      ],
      "id": "7edaefbe"
    }
  ],
  "metadata": {
    "colab": {
      "provenance": [],
      "include_colab_link": true
    },
    "kernelspec": {
      "display_name": "Python 3",
      "name": "python3"
    },
    "language_info": {
      "codemirror_mode": {
        "name": "ipython",
        "version": 3
      },
      "file_extension": ".py",
      "mimetype": "text/x-python",
      "name": "python",
      "nbconvert_exporter": "python",
      "pygments_lexer": "ipython3",
      "version": "3.7.11"
    }
  },
  "nbformat": 4,
  "nbformat_minor": 5
}