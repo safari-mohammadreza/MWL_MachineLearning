{
  "cells": [
    {
      "cell_type": "markdown",
      "id": "5184583f",
      "metadata": {},
      "source": [
        "This code has been run on the local (VS code)."
      ]
    },
    {
      "cell_type": "markdown",
      "id": "V6pCR08bYmJb",
      "metadata": {
        "id": "V6pCR08bYmJb"
      },
      "source": [
        "# Initialize"
      ]
    },
    {
      "cell_type": "markdown",
      "id": "p1ad-Q5TrKt8",
      "metadata": {
        "id": "p1ad-Q5TrKt8"
      },
      "source": [
        "## Import section"
      ]
    },
    {
      "cell_type": "code",
      "execution_count": null,
      "id": "a856d6cd",
      "metadata": {
        "colab": {
          "base_uri": "https://localhost:8080/"
        },
        "id": "a856d6cd",
        "outputId": "48c7de55-1513-4b45-9e3e-cb537245bb53"
      },
      "outputs": [],
      "source": [
        "import scipy.io\n",
        "from scipy.stats.stats import ttest_ind,ranksums\n",
        "import numpy as np\n",
        "import glob\n",
        "import seaborn as sns\n",
        "import pandas as pd\n",
        "\n",
        "from sklearn.model_selection import train_test_split\n",
        "from sklearn.svm import LinearSVC\n",
        "from sklearn.pipeline import make_pipeline\n",
        "from sklearn.preprocessing import StandardScaler, MinMaxScaler\n",
        "from sklearn.svm import SVC\n",
        "from sklearn.model_selection import GridSearchCV\n",
        "from sklearn.metrics import accuracy_score,roc_auc_score\n",
        "from sklearn.neighbors import KNeighborsClassifier\n",
        "from sklearn.ensemble import RandomForestClassifier\n",
        "from sklearn.linear_model import SGDClassifier\n",
        "from sklearn.tree import DecisionTreeClassifier\n",
        "from sklearn.linear_model import LogisticRegression\n",
        "from sklearn.model_selection import LeaveOneOut,KFold\n",
        "from sklearn.gaussian_process import GaussianProcessClassifier\n",
        "from sklearn.gaussian_process.kernels import RBF\n",
        "from sklearn.neural_network import MLPClassifier\n",
        "from sklearn.decomposition import KernelPCA,PCA\n",
        "import matplotlib.pyplot as plt\n",
        "from sklearn.preprocessing import normalize\n",
        "from sklearn.preprocessing import Normalizer\n",
        "from sklearn.model_selection import train_test_split\n",
        "import networkx as nx\n",
        "from sklearn.model_selection import GridSearchCV\n",
        "from collections import OrderedDict\n",
        "from sklearn.naive_bayes import GaussianNB\n",
        "import math\n",
        "from sklearn.metrics import precision_recall_fscore_support\n",
        "import os\n",
        "from sklearn.discriminant_analysis import LinearDiscriminantAnalysis"
      ]
    },
    {
      "cell_type": "markdown",
      "id": "NyQ8kgmXrFPX",
      "metadata": {
        "id": "NyQ8kgmXrFPX"
      },
      "source": [
        "## Define some constants"
      ]
    },
    {
      "cell_type": "code",
      "execution_count": null,
      "id": "23606b53",
      "metadata": {
        "colab": {
          "base_uri": "https://localhost:8080/"
        },
        "id": "23606b53",
        "outputId": "15e2cf00-92db-460a-c1d6-f2e9293e2714"
      },
      "outputs": [],
      "source": [
        "save_plot=True\n",
        "save_edge=True\n",
        "con_type='dDTF'\n",
        "n_top=30\n",
        "n_avg=2\n",
        "condition=''\n",
        "# base_path='/home/mohammadreza/T&N/Thesis/Paper from thesis_2/ByPython/'\n",
        "base_path=\"E:\\\\MohammadReza\\\\Uni\\\\Cognitive Science\\\\Thesis MohammadReza\\\\Thesis\\\\Paper from thesis_2\\\\ByPython\\\\\"\n",
        "print(base_path)\n",
        "path= base_path + 'connectivities_mat_files/'\n",
        "save_path= base_path + 'save/'\n",
        "save_fig= base_path + 'figure/'\n",
        "\n",
        "models=['svm','lda','rf','dt']\n",
        "bands=['delta','theta','alpha','beta','gamma','top150']\n",
        "\n",
        "index_arr = [[\"delta\", \"theta\", \"alpha\", \"beta\", \"gamma\",'top150'], [\"svm\", \"lda\",\"rf\",\"dt\"]]\n",
        "\n",
        "# creating dataframe of 'results' for each model, each freq. band and two conditions: with FS(feature selection) and without FS\n",
        "index = pd.MultiIndex.from_product(index_arr, names=[\"Band\", \"Model\"])\n",
        "col_arr=[[\"Without FS\", \"With FS\"],[\"Accuracy\", \"Precision\",\"Recall\",\"F1-Measure\"]]\n",
        "col_index=pd.MultiIndex.from_product(col_arr, names=[\" \", \" \"])\n",
        "\n",
        "results=pd.DataFrame(np.nan,index=index,columns=col_index)\n",
        "results=results.astype(str)"
      ]
    },
    {
      "cell_type": "markdown",
      "id": "e1d3H4VmQOmQ",
      "metadata": {
        "id": "e1d3H4VmQOmQ"
      },
      "source": [
        "## Define some functions"
      ]
    },
    {
      "cell_type": "markdown",
      "id": "8BfuzfoMYR_U",
      "metadata": {
        "id": "8BfuzfoMYR_U"
      },
      "source": [
        "### Classifiers functions"
      ]
    },
    {
      "cell_type": "code",
      "execution_count": 54,
      "id": "1cb8bda6",
      "metadata": {
        "id": "1cb8bda6"
      },
      "outputs": [],
      "source": [
        "def lda(df,print_results=True):\n",
        "    import time\n",
        "    start_time = time.time()\n",
        "    data=df.to_numpy()\n",
        "    X=data[:,:-1]\n",
        "    y=data[:,-1] # extract last column of data as the 'label'\n",
        "    kf = KFold(n_splits=7,shuffle=True,random_state=0)\n",
        "    all_acc=[]\n",
        "    all_precision=[]\n",
        "    all_recall=[]\n",
        "    all_f1=[]\n",
        "    for train_index, test_index in kf.split(X):\n",
        "        X_train, X_test = X[train_index], X[test_index]\n",
        "        y_train, y_test = y[train_index], y[test_index]\n",
        "        scaler = StandardScaler()\n",
        "        X_train=scaler.fit_transform(X_train)\n",
        "        X_test=scaler.transform(X_test)\n",
        "        clf = LinearDiscriminantAnalysis(solver='lsqr')\n",
        "        clf.fit(X_train, y_train)\n",
        "        precision, recall, f1, _=precision_recall_fscore_support(y_test, clf.predict(X_test), average='binary')\n",
        "        all_acc.append(accuracy_score(y_test,clf.predict(X_test)))\n",
        "        all_precision.append(precision)\n",
        "        all_recall.append(recall)\n",
        "        all_f1.append(f1)\n",
        "    # results\n",
        "    all_acc=np.array(all_acc)\n",
        "    all_precision=np.array(all_precision)\n",
        "    all_recall=np.array(all_recall)\n",
        "    all_f1=np.array(all_f1)\n",
        "    if print_results:\n",
        "        print(\"Accuracy LDA: \",all_acc.mean())\n",
        "    print(f\"Time taken for iteration lda: {time.time() - start_time:.4f} seconds\")\n",
        "    return all_acc, all_precision, all_recall, all_f1"
      ]
    },
    {
      "cell_type": "code",
      "execution_count": 4,
      "id": "7GlPifPVQXBC",
      "metadata": {
        "id": "7GlPifPVQXBC"
      },
      "outputs": [],
      "source": [
        "def svm_mean_kfold(df,print_results=True):\n",
        "    data=df.to_numpy()\n",
        "    X=data[:,:-1]\n",
        "    y=data[:,-1]\n",
        "    kf = KFold(n_splits=7,shuffle=True,random_state=0)\n",
        "    all_acc=[]\n",
        "    all_precision=[]\n",
        "    all_recall=[]\n",
        "    all_f1=[]\n",
        "    for train_index, test_index in kf.split(X):\n",
        "        X_train, X_test = X[train_index], X[test_index]\n",
        "        y_train, y_test = y[train_index], y[test_index]\n",
        "        scaler = StandardScaler()\n",
        "        X_train=scaler.fit_transform(X_train)\n",
        "        X_test=scaler.transform(X_test)\n",
        "        clf = SVC(random_state=0, probability=True)\n",
        "        clf.fit(X_train, y_train)\n",
        "        precision, recall, f1, _=precision_recall_fscore_support(y_test, clf.predict(X_test), average='binary')\n",
        "        all_acc.append(accuracy_score(y_test,clf.predict(X_test)))\n",
        "\n",
        "    # results\n",
        "    all_acc=np.array(all_acc)\n",
        "    return all_acc.mean()"
      ]
    },
    {
      "cell_type": "code",
      "execution_count": 55,
      "id": "300ae6d8",
      "metadata": {
        "id": "300ae6d8"
      },
      "outputs": [],
      "source": [
        "def svm(df,print_results=True):\n",
        "    import time\n",
        "    start_time = time.time()\n",
        "    data=df.to_numpy()\n",
        "    X=data[:,:-1]\n",
        "    y=data[:,-1]\n",
        "    kf = KFold(n_splits=7,shuffle=True,random_state=0)\n",
        "    all_acc=[]\n",
        "    all_precision=[]\n",
        "    all_recall=[]\n",
        "    all_f1=[]\n",
        "    for train_index, test_index in kf.split(X):\n",
        "        X_train, X_test = X[train_index], X[test_index]\n",
        "        y_train, y_test = y[train_index], y[test_index]\n",
        "        scaler = StandardScaler()\n",
        "        X_train=scaler.fit_transform(X_train)\n",
        "        X_test=scaler.transform(X_test)\n",
        "        clf = SVC(random_state=0, probability=True)\n",
        "        clf.fit(X_train, y_train)\n",
        "        precision, recall, f1, _=precision_recall_fscore_support(y_test, clf.predict(X_test), average='binary')\n",
        "        all_acc.append(accuracy_score(y_test,clf.predict(X_test)))\n",
        "        all_precision.append(precision)\n",
        "        all_recall.append(recall)\n",
        "        all_f1.append(f1)\n",
        "    # results\n",
        "    all_acc=np.array(all_acc)\n",
        "    all_precision=np.array(all_precision)\n",
        "    all_recall=np.array(all_recall)\n",
        "    all_f1=np.array(all_f1)\n",
        "    if print_results:\n",
        "        print(\"Accuracy SVM: \",all_acc.mean())\n",
        "    print(f\"Time taken for iteration svm: {time.time() - start_time:.4f} seconds\")\n",
        "    return all_acc, all_precision, all_recall, all_f1"
      ]
    },
    {
      "cell_type": "code",
      "execution_count": 56,
      "id": "29af9d9b",
      "metadata": {
        "id": "29af9d9b"
      },
      "outputs": [],
      "source": [
        "def rf(df,print_results=True): # random forest\n",
        "    import time\n",
        "    start_time = time.time()\n",
        "    data=df.to_numpy()\n",
        "    X=data[:,:-1]\n",
        "    y=data[:,-1]\n",
        "    kf = KFold(n_splits=7,shuffle=True,random_state=0)\n",
        "    all_acc=[]\n",
        "    all_precision=[]\n",
        "    all_recall=[]\n",
        "    all_f1=[]\n",
        "    for train_index, test_index in kf.split(X):\n",
        "        X_train, X_test = X[train_index], X[test_index]\n",
        "        y_train, y_test = y[train_index], y[test_index]\n",
        "        clf = RandomForestClassifier(random_state=0)\n",
        "        clf.fit(X_train, y_train)\n",
        "        precision, recall, f1, _=precision_recall_fscore_support(y_test, clf.predict(X_test), average='binary')\n",
        "        all_acc.append(accuracy_score(y_test,clf.predict(X_test)))\n",
        "        all_precision.append(precision)\n",
        "        all_recall.append(recall)\n",
        "        all_f1.append(f1)\n",
        "    # results\n",
        "    all_acc=np.array(all_acc)\n",
        "    all_precision=np.array(all_precision)\n",
        "    all_recall=np.array(all_recall)\n",
        "    all_f1=np.array(all_f1)\n",
        "    if print_results:\n",
        "        print(\"Accuracy RF: \",all_acc.mean())\n",
        "    print(f\"Time taken for iteration rf: {time.time() - start_time:.4f} seconds\")\n",
        "    return all_acc, all_precision, all_recall, all_f1"
      ]
    },
    {
      "cell_type": "code",
      "execution_count": 57,
      "id": "9855206c",
      "metadata": {
        "id": "9855206c"
      },
      "outputs": [],
      "source": [
        "def dt(df,print_results=True): # decision tree\n",
        "    import time\n",
        "    start_time = time.time()\n",
        "    data=df.to_numpy()\n",
        "    X=data[:,:-1]\n",
        "    y=data[:,-1]\n",
        "    kf = KFold(n_splits=7,shuffle=True,random_state=0)\n",
        "    all_acc=[]\n",
        "    all_precision=[]\n",
        "    all_recall=[]\n",
        "    all_f1=[]\n",
        "    for train_index, test_index in kf.split(X):\n",
        "        X_train, X_test = X[train_index], X[test_index]\n",
        "        y_train, y_test = y[train_index], y[test_index]\n",
        "        clf = DecisionTreeClassifier(random_state=0,\n",
        "                                    criterion='entropy', max_depth=22, min_samples_leaf=8)\n",
        "        clf.fit(X_train, y_train)\n",
        "        precision, recall, f1, _=precision_recall_fscore_support(y_test, clf.predict(X_test), average='binary')\n",
        "        all_acc.append(accuracy_score(y_test,clf.predict(X_test)))\n",
        "        all_precision.append(precision)\n",
        "        all_recall.append(recall)\n",
        "        all_f1.append(f1)\n",
        "    # results\n",
        "    all_acc=np.array(all_acc)\n",
        "    all_precision=np.array(all_precision)\n",
        "    all_recall=np.array(all_recall)\n",
        "    all_f1=np.array(all_f1)\n",
        "    if print_results:\n",
        "        print(\"Accuracy DT: \",all_acc.mean())\n",
        "    print(f\"Time taken for iteration dt: {time.time() - start_time:.4f} seconds\")\n",
        "    return all_acc, all_precision, all_recall, all_f1"
      ]
    },
    {
      "cell_type": "code",
      "execution_count": 58,
      "id": "089814ba",
      "metadata": {
        "id": "089814ba"
      },
      "outputs": [],
      "source": [
        "def lr(df):  #logestic regression\n",
        "    data=df.to_numpy()\n",
        "    X=data[:,:-1]\n",
        "    y=data[:,-1]\n",
        "    kf = KFold(n_splits=7,shuffle=True,random_state=0)\n",
        "    all_auc=[]\n",
        "    all_acc=[]\n",
        "    for train_index, test_index in kf.split(X):\n",
        "        X_train, X_test = X[train_index], X[test_index]\n",
        "        y_train, y_test = y[train_index], y[test_index]\n",
        "        scaler = StandardScaler()\n",
        "        X_train=scaler.fit_transform(X_train)\n",
        "        X_test=scaler.transform(X_test)\n",
        "        clf = LogisticRegression()\n",
        "        clf.fit(X_train, y_train)\n",
        "        all_acc.append(accuracy_score(y_test,clf.predict(X_test)))\n",
        "        all_auc.append(roc_auc_score(y_test,clf.predict_proba(X_test)[:,1]))\n",
        "    # results\n",
        "    all_auc=np.array(all_auc).mean()\n",
        "    all_acc=np.array(all_acc).mean()\n",
        "#     print(\"Accuracy LR: \",all_acc)\n",
        "#     print(\"AUC LR: \",all_auc)\n",
        "    return all_acc, all_auc"
      ]
    },
    {
      "cell_type": "code",
      "execution_count": 9,
      "id": "84e32b28",
      "metadata": {
        "id": "84e32b28",
        "scrolled": true
      },
      "outputs": [],
      "source": [
        "def rf_with_fs(df): #random forest with feature selection (top n features (n=30))\n",
        "    ls_feature=list(df.columns[:-1])\n",
        "    best_acc=-np.inf\n",
        "    selected_features=[]\n",
        "    best_feature=None\n",
        "    df_results=pd.DataFrame([])\n",
        "    c=0\n",
        "    for n_comb in range(len(ls_feature)):\n",
        "        best_current=0\n",
        "        acc_current=None\n",
        "        feature_current=None\n",
        "        to_be_selected=None\n",
        "        for feature in ls_feature:\n",
        "            selected_features.append(feature)\n",
        "            acc_current, _, _, _=rf(df[selected_features+['label']],print_results=False)\n",
        "            acc_current=acc_current.mean()\n",
        "            df_results=df_results.append({'Features':n_comb,'Accouracy':acc_current},ignore_index=True)\n",
        "#             print(selected_features)\n",
        "            if best_current<acc_current:\n",
        "                best_current=acc_current\n",
        "                to_be_selected=feature\n",
        "            selected_features.remove(feature)\n",
        "        selected_features.append(to_be_selected)\n",
        "        ls_feature.remove(to_be_selected)\n",
        "        if best_acc<best_current:\n",
        "            best_acc=best_current\n",
        "            best_feature=selected_features[:]\n",
        "            c+=1\n",
        "            print(f\"feature{c}: {to_be_selected}\")\n",
        "            print(\"ACC Updated:\",best_acc)\n",
        "    with open(save_path+'rf_with_fs_best_feature', 'wb') as file_pi1:\n",
        "        pickle.dump(best_feature, file_pi1)\n",
        "    with open(save_path+'rf_with_fs_df_results', 'wb') as file_pi1:\n",
        "        pickle.dump(df_results, file_pi1)\n",
        "    return best_feature,df_results"
      ]
    },
    {
      "cell_type": "code",
      "execution_count": 10,
      "id": "d4583eed",
      "metadata": {
        "id": "d4583eed"
      },
      "outputs": [],
      "source": [
        "def lda_with_fs(df):\n",
        "    ls_feature=list(df.columns[:-1])\n",
        "    best_acc=-np.inf\n",
        "    selected_features=[]\n",
        "    best_feature=None\n",
        "    df_results=pd.DataFrame([])\n",
        "    c=0\n",
        "    for n_comb in range(len(ls_feature)):\n",
        "        best_current=0\n",
        "        acc_current=None\n",
        "        feature_current=None\n",
        "        to_be_selected=None\n",
        "        for feature in ls_feature:\n",
        "            selected_features.append(feature)\n",
        "            acc_current, _, _, _=lda(df[selected_features+['label']],print_results=False)\n",
        "            acc_current=acc_current.mean()\n",
        "            df_results=df_results.append({'Features':n_comb,'Accouracy':acc_current},ignore_index=True)\n",
        "#             print(selected_features)\n",
        "            if best_current<acc_current:\n",
        "                best_current=acc_current\n",
        "                to_be_selected=feature\n",
        "            selected_features.remove(feature)\n",
        "        selected_features.append(to_be_selected)\n",
        "        ls_feature.remove(to_be_selected)\n",
        "        if best_acc<best_current:\n",
        "            best_acc=best_current\n",
        "            best_feature=selected_features[:]\n",
        "            c+=1\n",
        "            print(f\"feature{c}: {to_be_selected}\")\n",
        "            print(\"ACC Updated:\",best_acc)\n",
        "    with open(save_path+'lda_with_fs_best_feature', 'wb') as file_pi1:\n",
        "        pickle.dump(best_feature, file_pi1)\n",
        "    with open(save_path+'lda_with_fs_df_results', 'wb') as file_pi1:\n",
        "        pickle.dump(df_results, file_pi1)\n",
        "    return best_feature,df_results"
      ]
    },
    {
      "cell_type": "code",
      "execution_count": 11,
      "id": "622bdf26",
      "metadata": {
        "id": "622bdf26"
      },
      "outputs": [],
      "source": [
        "def dt_with_fs(df):\n",
        "    ls_feature=list(df.columns[:-1])\n",
        "    best_acc=-np.inf\n",
        "    selected_features=[]\n",
        "    best_feature=None\n",
        "    df_results=pd.DataFrame([])\n",
        "    c=0\n",
        "    for n_comb in range(len(ls_feature)):\n",
        "        best_current=0\n",
        "        acc_current=None\n",
        "        feature_current=None\n",
        "        to_be_selected=None\n",
        "        for feature in ls_feature:\n",
        "            selected_features.append(feature)\n",
        "            acc_current, _, _, _=dt(df[selected_features+['label']],print_results=False)\n",
        "            acc_current=acc_current.mean()\n",
        "            df_results=df_results.append({'Features':n_comb,'Accouracy':acc_current},ignore_index=True)\n",
        "#             print(selected_features)\n",
        "            if best_current<acc_current:\n",
        "                best_current=acc_current\n",
        "                to_be_selected=feature\n",
        "            selected_features.remove(feature)\n",
        "        selected_features.append(to_be_selected)\n",
        "        ls_feature.remove(to_be_selected)\n",
        "        if best_acc<best_current:\n",
        "            best_acc=best_current\n",
        "            best_feature=selected_features[:]\n",
        "            c+=1\n",
        "            print(f\"feature{c}: {to_be_selected}\")\n",
        "            print(\"ACC Updated:\",best_acc)\n",
        "    with open(save_path+'dt_with_fs_best_feature', 'wb') as file_pi1:\n",
        "        pickle.dump(best_feature, file_pi1)\n",
        "    with open(save_path+'dt_with_fs_df_results', 'wb') as file_pi1:\n",
        "        pickle.dump(df_results, file_pi1)\n",
        "    return best_feature,df_results"
      ]
    },
    {
      "cell_type": "code",
      "execution_count": 12,
      "id": "84e8903d",
      "metadata": {
        "id": "84e8903d"
      },
      "outputs": [],
      "source": [
        "def svm_with_fs(df):\n",
        "    ls_feature=list(df.columns[:-1])\n",
        "    best_acc=-np.inf\n",
        "    selected_features=[]\n",
        "    best_feature=None\n",
        "    df_results=pd.DataFrame([])\n",
        "    c=0\n",
        "    for n_comb in range(len(ls_feature)):\n",
        "        best_current=0\n",
        "        acc_current=None\n",
        "        feature_current=None\n",
        "        to_be_selected=None\n",
        "        for feature in ls_feature:\n",
        "            selected_features.append(feature)\n",
        "            acc_current, _, _, _=svm(df[selected_features+['label']],print_results=False)\n",
        "            acc_current=acc_current.mean()\n",
        "            df_results=df_results.append({'Features':n_comb,'Accouracy':acc_current},ignore_index=True)\n",
        "#             print(selected_features)\n",
        "            if best_current<acc_current:\n",
        "                best_current=acc_current\n",
        "                to_be_selected=feature\n",
        "            selected_features.remove(feature)\n",
        "        selected_features.append(to_be_selected)\n",
        "        ls_feature.remove(to_be_selected)\n",
        "        if best_acc<best_current:\n",
        "            best_acc=best_current\n",
        "            best_feature=selected_features[:]\n",
        "            c+=1\n",
        "            print(f\"feature{c}: {to_be_selected}\")\n",
        "            print(\"ACC Updated:\",best_acc)\n",
        "    with open(save_path+'svm_with_fs_best_feature', 'wb') as file_pi1:\n",
        "        pickle.dump(best_feature, file_pi1)\n",
        "    with open(save_path+'svm_with_fs_df_results', 'wb') as file_pi1:\n",
        "        pickle.dump(df_results, file_pi1)\n",
        "    return best_feature,df_results"
      ]
    },
    {
      "cell_type": "markdown",
      "id": "2kyZqHvUIySr",
      "metadata": {
        "id": "2kyZqHvUIySr"
      },
      "source": [
        "### Other functions"
      ]
    },
    {
      "cell_type": "code",
      "execution_count": 13,
      "id": "2e36af88",
      "metadata": {
        "id": "2e36af88"
      },
      "outputs": [],
      "source": [
        "def read_mat(path, freq_band='alpha'):\n",
        "    number_of_segments=37\n",
        "    number_of_users=48\n",
        "    hi_counter=0\n",
        "    lo_counter=0\n",
        "    hi_data=np.zeros((number_of_users*number_of_segments,14,14)) # sub=48, win_num=37\n",
        "    lo_data=np.zeros((number_of_users*number_of_segments,14,14))\n",
        "    for subject_number in range(number_of_users):\n",
        "      for segment in range(number_of_segments):\n",
        "        path_subejct = path + \"dDTF_s\" + str(subject_number+1) + \"_hi_\" + freq_band + str(segment+1) + \".mat\"\n",
        "        ddtf=scipy.io.loadmat(path_subejct)['needToSave'] # needToSave is name of variable that I set for .mat files. In this case after loading .mat files by loadmat, data is a dictionary that data are in value part of key=needToSave (you can print value of ddtf and check this.)\n",
        "        hi_data[hi_counter,:,:]=ddtf\n",
        "        hi_counter+=1\n",
        "      for segment in range(number_of_segments):\n",
        "        path_subejct = path + \"dDTF_s\" + str(subject_number+1) + \"_lo_\" + freq_band + str(segment+1) + \".mat\"\n",
        "        ddtf=scipy.io.loadmat(path_subejct)['needToSave']\n",
        "        lo_data[lo_counter,:,:]=ddtf\n",
        "        lo_counter+=1\n",
        "    return hi_data, lo_data"
      ]
    },
    {
      "cell_type": "code",
      "execution_count": 14,
      "id": "f474b0dd",
      "metadata": {
        "id": "f474b0dd"
      },
      "outputs": [],
      "source": [
        "# plot connectivity matrix\n",
        "\n",
        "def plot_mean_index(mean_index, label, vmin, vmax, save_path, save_plot=False,cmap='jet'):\n",
        "    df_p_value = pd.DataFrame(mean_index, columns=label, index=label)\n",
        "    f = sns.heatmap(df_p_value, cmap=cmap, vmin=vmin, vmax=vmax)\n",
        "    # cbar = f.collections[0].colorbar\n",
        "    # cbar.set_ticks([1, 30])\n",
        "    # cbar.set_ticklabels(['Rank 30', 'Rank1'])\n",
        "    if save_plot:\n",
        "        f.figure.savefig(save_path + \".png\", dpi=600)\n",
        "    plt.show()"
      ]
    },
    {
      "cell_type": "code",
      "execution_count": null,
      "id": "ef7738c0",
      "metadata": {},
      "outputs": [],
      "source": [
        "# # generating connectivity images with channels' label and diag equal to zero for reporting purpose.\n",
        "# subject_number = 16\n",
        "# np.fill_diagonal(lo_alpha[subject_number], 0)\n",
        "# np.fill_diagonal(hi_alpha[subject_number], 0)\n",
        "# np.fill_diagonal(lo_beta[subject_number], 0)\n",
        "# np.fill_diagonal(hi_beta[subject_number], 0)\n",
        "# np.fill_diagonal(lo_delta[subject_number], 0)\n",
        "# np.fill_diagonal(hi_delta[subject_number], 0)\n",
        "# np.fill_diagonal(lo_theta[subject_number], 0)\n",
        "# np.fill_diagonal(hi_theta[subject_number], 0)\n",
        "# np.fill_diagonal(lo_gamma[subject_number], 0)\n",
        "# np.fill_diagonal(hi_gamma[subject_number], 0)\n",
        "\n",
        "# plot_mean_index(lo_alpha[subject_number],label,np.nanmin(lo_alpha[subject_number]),np.nanmax(lo_alpha[subject_number]),save_path,save_plot)\n",
        "# plot_mean_index(hi_alpha[subject_number],label,np.nanmin(hi_alpha[subject_number]),np.nanmax(hi_alpha[subject_number]),save_path,save_plot)\n",
        "\n",
        "# plot_mean_index(lo_beta[subject_number],label,np.nanmin(lo_beta[subject_number]),np.nanmax(lo_beta[subject_number]),save_path,save_plot)\n",
        "# plot_mean_index(hi_beta[subject_number],label,np.nanmin(hi_beta[subject_number]),np.nanmax(hi_beta[subject_number]),save_path,save_plot)\n",
        "\n",
        "# plot_mean_index(lo_delta[subject_number],label,np.nanmin(lo_delta[subject_number]),np.nanmax(lo_delta[subject_number]),save_path,save_plot)\n",
        "# plot_mean_index(hi_delta[subject_number],label,np.nanmin(hi_delta[subject_number]),np.nanmax(hi_delta[subject_number]),save_path,save_plot)\n",
        "\n",
        "# plot_mean_index(lo_theta[subject_number],label,np.nanmin(lo_theta[subject_number]),np.nanmax(lo_theta[subject_number]),save_path,save_plot)\n",
        "# plot_mean_index(hi_theta[subject_number],label,np.nanmin(hi_theta[subject_number]),np.nanmax(hi_theta[subject_number]),save_path,save_plot)\n",
        "\n",
        "# plot_mean_index(lo_gamma[subject_number],label,np.nanmin(lo_gamma[subject_number]),np.nanmax(lo_gamma[subject_number]),save_path,save_plot)\n",
        "# plot_mean_index(hi_gamma[subject_number],label,np.nanmin(hi_gamma[subject_number]),np.nanmax(hi_gamma[subject_number]),save_path,save_plot)"
      ]
    },
    {
      "cell_type": "code",
      "execution_count": 41,
      "id": "7110b19b",
      "metadata": {
        "id": "7110b19b"
      },
      "outputs": [],
      "source": [
        "# این متود میاد یک سلول(براساس ایندکس ک میگیره) از ماتریسهای ۱۴*۱۴ رو برمیداره و میزاره زیره هم و لیبل کلاسشون رو هم میزنه. ینی خروجی این متود یه دیتافریمه که دوتا ستون داره یکی دیتای مربوط به هر سلول از\n",
        "#کانکتیویتی و یه ستون دیگه مربوط به لیبل اون دیتا. همچنین چون هر فایلی که میاد ۸۸۸تا رکورد داره دوتارو ک میزاره زیر هم میشه ۱۷۷۶تا رکورد پس خروجی یه جدول با ۲ستون و ۱۷۷۶تا رکورده\n",
        "# ینی خروجی این متود میشه دیتای آماده واسه ترین کردن یه مدل لرنینگ ب ازای یه ارتباط\n",
        "def prepare_data(indices,np_hi,np_lo,col_name=None):\n",
        "    np_hi=pd.DataFrame(np_hi.reshape(np_hi.shape[0],-1)[:,indices]) # initial_shape: (888, 14, 14) --- result_shape: (888, 1)\n",
        "    np_lo=pd.DataFrame(np_lo.reshape(np_lo.shape[0],-1)[:,indices])\n",
        "    np_hi['label']=1 # shape: (888, 2)\n",
        "    np_lo['label']=0\n",
        "    df_data=pd.concat([np_hi,np_lo],axis=0,ignore_index=True) #vertically concatenation. result shape: (1776, 2)\n",
        "    if col_name!=None:\n",
        "      df_data.set_axis(col_name + ['label'], axis=1, inplace=True)\n",
        "    return df_data"
      ]
    },
    {
      "cell_type": "code",
      "execution_count": 42,
      "id": "ed7d6fe0",
      "metadata": {
        "id": "ed7d6fe0"
      },
      "outputs": [],
      "source": [
        "def connectivity(auc_mat,label,save_path,ntop_features=30,save_edge=False,save_plot=False): # auc_mat=auc_mat_delta.flatten it's shape: (14*14,)=(196,)\n",
        "    df_con=pd.DataFrame(auc_mat,columns=['auc']) # result's shape: (196,1) - the column got label: 'auc'\n",
        "    df_con.reset_index(inplace=True) # result's shape: (196,2) - a column added named: index from 0to195\n",
        "    df_con.rename(columns={'index':'position'},inplace=True) # index column renamed to: position\n",
        "    df_con['x']=df_con['position']//14 # result's shape: (196,3) - a column added named: x from 0to13 that is quotient of 14\n",
        "    df_con['y']=df_con['position']%14 # result's shape: (196,4) - a column added named: y from 0to13 that is reminder of 14\n",
        "    df_con=df_con.sort_values('auc',ascending=False,ignore_index=True).reset_index() # result's shape: (196,5) - a column added named: index from 0to195 - rows are sorted desc by 'auc' column\n",
        "    df_con.rename(columns={'index':'rank'},inplace=True) # index column renamed to: rank\n",
        "    df_con=df_con.iloc[:ntop_features] # select top 30 rows (features) - result's shape: (30, 5)\n",
        "    conn_mat=np.zeros((14*14))\n",
        "    conn_mat[df_con['position']]=df_con['auc'] # based on position's value, set value of auc to conn_mat and then reshape conn_mat to: (14, 14)\n",
        "    conn_mat=conn_mat.reshape(14,14)\n",
        "    conn_mat[conn_mat==0]=np.nan\n",
        "    plot_mean_index(conn_mat,label,np.nanmin(conn_mat),np.nanmax(conn_mat),save_path,save_plot)\n",
        "    if save_edge:\n",
        "        conn_mat=np.where(np.isnan(conn_mat),int(0),conn_mat)\n",
        "        np.savetxt(r''+ save_path + '.edge', conn_mat.T, delimiter='\\t')\n",
        "    return np.where(np.isnan(conn_mat),0,conn_mat) # result's shape: (14,14) - result is a 14,14 matrix that only top-30-auc-based connectivities has value."
      ]
    },
    {
      "cell_type": "code",
      "execution_count": 18,
      "id": "551b9554",
      "metadata": {
        "id": "551b9554"
      },
      "outputs": [],
      "source": [
        "def p_value(hi,lo):\n",
        "  p_mat=np.zeros((14,14))\n",
        "  for i in range(14):\n",
        "    for j in range(14):\n",
        "      stat,p=ttest_ind(hi[:,i,j],lo[:,i,j])\n",
        "      p_mat[i,j]=p\n",
        "  return p_mat"
      ]
    },
    {
      "cell_type": "code",
      "execution_count": 19,
      "id": "914d3c60",
      "metadata": {
        "id": "914d3c60"
      },
      "outputs": [],
      "source": [
        "def get_min(data):\n",
        "  min_value=np.inf\n",
        "  for n in range(data.shape[0]):\n",
        "    for i in range(data.shape[1]):\n",
        "      for j in range(data.shape[2]):\n",
        "        if i==j:\n",
        "          continue\n",
        "        if data[n,i,j] < min_value:\n",
        "          min_value = data[n,i,j]\n",
        "  return min_value"
      ]
    },
    {
      "cell_type": "code",
      "execution_count": 20,
      "id": "d1fbdc16",
      "metadata": {
        "id": "d1fbdc16"
      },
      "outputs": [],
      "source": [
        "def get_max(data):\n",
        "    max_value=-np.inf\n",
        "    for n in range(data.shape[0]):\n",
        "        for i in range(data.shape[1]):\n",
        "            for j in range(data.shape[2]):\n",
        "                if i==j:\n",
        "                    continue\n",
        "                if data[n,i,j] > max_value:\n",
        "                    max_value = data[n,i,j]\n",
        "        return max_value"
      ]
    },
    {
      "cell_type": "code",
      "execution_count": 21,
      "id": "9abeddda",
      "metadata": {
        "id": "9abeddda"
      },
      "outputs": [],
      "source": [
        "def min_max_two_group(group_one, group_two):\n",
        "\n",
        "    min_one = get_min(group_one)\n",
        "    min_two = get_min(group_two)\n",
        "\n",
        "    if min_one <= min_two:\n",
        "        min_value = min_one\n",
        "    else:\n",
        "        min_value = min_two\n",
        "\n",
        "    max_one = get_max(group_one)\n",
        "    max_two = get_max(group_two)\n",
        "\n",
        "    if max_one >= max_two:\n",
        "        max_value = max_one\n",
        "    else:\n",
        "        max_value = max_two\n",
        "\n",
        "    return min_value, max_value"
      ]
    },
    {
      "cell_type": "code",
      "execution_count": 22,
      "id": "28889edd",
      "metadata": {
        "id": "28889edd"
      },
      "outputs": [],
      "source": [
        "def normalization(data, min_value, max_value):\n",
        "    zero_diag=1-np.eye(14,14)\n",
        "    data=(data-min_value)/(max_value-min_value)\n",
        "    for i in range(data.shape[0]):\n",
        "        data[i,:,:]=data[i,:,:]*zero_diag\n",
        "    return data"
      ]
    },
    {
      "cell_type": "code",
      "execution_count": 23,
      "id": "62d011f7",
      "metadata": {
        "id": "62d011f7"
      },
      "outputs": [],
      "source": [
        "def top_n_value(matrix,kth,smallest=True): # what's kth?\n",
        "    if smallest:\n",
        "        idx = np.argpartition(matrix, kth)\n",
        "        matrix[matrix>max(matrix[idx[:kth]])]=np.nan\n",
        "    else:\n",
        "        idx = np.argpartition(matrix, -kth)\n",
        "        matrix[matrix<min(matrix[idx[-kth:]])]=np.nan\n",
        "    return matrix"
      ]
    },
    {
      "cell_type": "code",
      "execution_count": 24,
      "id": "a0c52817",
      "metadata": {
        "id": "a0c52817"
      },
      "outputs": [],
      "source": [
        "def create_df_connectivity(x,y,auc,pval,label,num_connections,sort_by='AUC'): # Create DataFrame connectivity\n",
        "    data=[]\n",
        "    for i in range(num_connections):\n",
        "        data.append([label[int(x[i])]] + [label[int(y[i])]]+ [(auc[int(x[i]),int(y[i])])] + [pval[int(x[i]),int(y[i])]])\n",
        "    df=pd.DataFrame(data,columns=['From','To','AUC','P value'])\n",
        "    if sort_by=='AUC':\n",
        "        df=df.sort_values(sort_by,ascending=False,ignore_index=True)\n",
        "    else:\n",
        "        df=df.sort_values(sort_by,ascending=True,ignore_index=True)\n",
        "    return df"
      ]
    },
    {
      "cell_type": "code",
      "execution_count": 25,
      "id": "1d7bb102",
      "metadata": {
        "id": "1d7bb102"
      },
      "outputs": [],
      "source": [
        "def num_tree(data):\n",
        "    ensemble_clfs = [ (\"RandomForestClassifier, max_features=None\",RandomForestClassifier(warm_start=True, max_features=None, oob_score=True,))]\n",
        "\n",
        "    error_rate = OrderedDict((label, []) for label, _ in ensemble_clfs)\n",
        "\n",
        "    min_estimators = 10\n",
        "    max_estimators = 300\n",
        "\n",
        "    for label, clf in ensemble_clfs:\n",
        "        for i in range(min_estimators, max_estimators + 1):\n",
        "            clf.set_params(n_estimators=i)\n",
        "            clf.fit(data[:,:-1], data[:,-1])\n",
        "            oob_error = 1 - clf.oob_score_\n",
        "            error_rate[label].append((i, oob_error))\n",
        "\n",
        "    for label, clf_err in error_rate.items():\n",
        "        xs, ys = zip(*clf_err)\n",
        "        plt.plot(xs, ys, label=label)\n",
        "\n",
        "    plt.xlim(min_estimators, max_estimators)\n",
        "    plt.xlabel(\"n_estimators\")\n",
        "    plt.ylabel(\"OOB error rate\")\n",
        "    plt.legend(loc=\"upper right\")\n",
        "    plt.show()"
      ]
    },
    {
      "cell_type": "code",
      "execution_count": 26,
      "id": "182e7f9a",
      "metadata": {
        "id": "182e7f9a"
      },
      "outputs": [],
      "source": [
        "def plot_results(df_result,path,save_plot=False):\n",
        "    fig = df_result.boxplot(by='Features',figsize=(30,26)).get_figure()\n",
        "    fig.savefig(f'{path}.png',dpi=600)"
      ]
    },
    {
      "cell_type": "markdown",
      "id": "llnrzqYbq8fa",
      "metadata": {
        "id": "llnrzqYbq8fa"
      },
      "source": [
        "## Load data"
      ]
    },
    {
      "cell_type": "code",
      "execution_count": null,
      "id": "09f72670",
      "metadata": {
        "colab": {
          "base_uri": "https://localhost:8080/"
        },
        "id": "09f72670",
        "outputId": "56a67aad-8f81-4251-f634-bc76bb2a35aa"
      },
      "outputs": [],
      "source": [
        "# channels' label/name // ????????? at last there is an empty member !!!!!!!!\n",
        "\n",
        "# with open (base_path + \"channels_name.txt\", \"r\") as myfile:\n",
        "#     label=myfile.read().split(' ')\n",
        "# print(label)\n",
        "\n",
        "with open(base_path + \"channels_name.txt\", \"r\") as myfile:\n",
        "    label = myfile.read().split(' ')\n",
        "    label[-1] = label[-1].strip()  # Remove newline character from the last item\n",
        "\n",
        "print(label)"
      ]
    },
    {
      "cell_type": "code",
      "execution_count": 344,
      "id": "ad73510b",
      "metadata": {
        "id": "ad73510b"
      },
      "outputs": [],
      "source": [
        "# hi_delta, lo_delta = read_mat(path,'delta')\n",
        "# hi_theta, lo_theta = read_mat(path,'theta')\n",
        "# hi_alpha, lo_alpha = read_mat(path,'alpha')\n",
        "# hi_beta, lo_beta = read_mat(path,'beta')\n",
        "# hi_gamma, lo_gamma = read_mat(path,'gamma')\n",
        "\n",
        "# print(np.shape(hi_delta))\n",
        "# print(np.shape(lo_delta))\n",
        "# print(np.shape(hi_theta))\n",
        "# print(np.shape(lo_theta))\n",
        "# print(np.shape(hi_delta))\n",
        "# print(np.shape(lo_delta))\n",
        "# print(np.shape(hi_delta))\n",
        "# print(np.shape(lo_delta))\n",
        "# print(np.shape(hi_delta))\n",
        "# print(np.shape(lo_delta))\n",
        "\n",
        "\n",
        "# with open(base_path+'hi_delta', 'wb') as file_pi1:\n",
        "#     pickle.dump(hi_delta, file_pi1)\n",
        "# with open(base_path+'lo_delta', 'wb') as file_pi1:\n",
        "#     pickle.dump(lo_delta, file_pi1)\n",
        "\n",
        "# with open(base_path+'hi_theta', 'wb') as file_pi1:\n",
        "#     pickle.dump(hi_theta, file_pi1)\n",
        "# with open(base_path+'lo_theta', 'wb') as file_pi1:\n",
        "#     pickle.dump(lo_theta, file_pi1)\n",
        "\n",
        "# with open(base_path+'hi_alpha', 'wb') as file_pi1:\n",
        "#     pickle.dump(hi_alpha, file_pi1)\n",
        "# with open(base_path+'lo_alpha', 'wb') as file_pi1:\n",
        "#     pickle.dump(lo_alpha, file_pi1)\n",
        "\n",
        "# with open(base_path+'hi_beta', 'wb') as file_pi1:\n",
        "#     pickle.dump(hi_beta, file_pi1)\n",
        "# with open(base_path+'lo_beta', 'wb') as file_pi1:\n",
        "#     pickle.dump(lo_beta, file_pi1)\n",
        "\n",
        "# with open(base_path+'hi_gamma', 'wb') as file_pi1:\n",
        "#     pickle.dump(hi_gamma, file_pi1)\n",
        "# with open(base_path+'lo_gamma', 'wb') as file_pi1:\n",
        "#     pickle.dump(lo_gamma, file_pi1)\n"
      ]
    },
    {
      "cell_type": "code",
      "execution_count": null,
      "id": "8DJbSOFFkr1u",
      "metadata": {
        "colab": {
          "base_uri": "https://localhost:8080/"
        },
        "id": "8DJbSOFFkr1u",
        "outputId": "79a447d7-01d4-4805-f02d-6fb73f8e301b"
      },
      "outputs": [],
      "source": [
        "import pickle\n",
        "\n",
        "with open(base_path+'hi_delta', 'rb') as f:\n",
        "    hi_delta = pickle.load(f)\n",
        "print(np.shape(hi_delta)) # (1776, 14, 14)\n",
        "with open(base_path+'lo_delta', 'rb') as f:\n",
        "    lo_delta = pickle.load(f)\n",
        "print(np.shape(lo_delta)) # (1776, 14, 14)\n",
        "\n",
        "with open(base_path+'hi_theta', 'rb') as f:\n",
        "    hi_theta = pickle.load(f)\n",
        "print(np.shape(hi_theta)) # (1776, 14, 14)\n",
        "with open(base_path+'lo_theta', 'rb') as f:\n",
        "    lo_theta = pickle.load(f)\n",
        "print(np.shape(lo_theta)) # (1776, 14, 14)\n",
        "\n",
        "with open(base_path+'hi_alpha', 'rb') as f:\n",
        "    hi_alpha = pickle.load(f)\n",
        "print(np.shape(hi_alpha)) # (1776, 14, 14)\n",
        "with open(base_path+'lo_alpha', 'rb') as f:\n",
        "    lo_alpha = pickle.load(f)\n",
        "print(np.shape(lo_alpha)) # (1776, 14, 14)\n",
        "\n",
        "with open(base_path+'hi_beta', 'rb') as f:\n",
        "    hi_beta = pickle.load(f)\n",
        "print(np.shape(hi_beta)) # (1776, 14, 14)\n",
        "with open(base_path+'lo_beta', 'rb') as f:\n",
        "    lo_beta = pickle.load(f)\n",
        "print(np.shape(lo_beta)) # (1776, 14, 14)\n",
        "\n",
        "with open(base_path+'hi_gamma', 'rb') as f:\n",
        "    hi_gamma = pickle.load(f)\n",
        "print(np.shape(hi_gamma)) # (1776, 14, 14)\n",
        "with open(base_path+'lo_gamma', 'rb') as f:\n",
        "    lo_gamma = pickle.load(f)\n",
        "print(np.shape(lo_gamma)) # (1776, 14, 14)"
      ]
    },
    {
      "cell_type": "markdown",
      "id": "c6a02682",
      "metadata": {
        "id": "c6a02682"
      },
      "source": [
        "## Averaging"
      ]
    },
    {
      "cell_type": "code",
      "execution_count": null,
      "id": "a24d02a8",
      "metadata": {
        "colab": {
          "base_uri": "https://localhost:8080/"
        },
        "id": "a24d02a8",
        "outputId": "05fa15b0-376a-4edd-b52d-1bd737ae0fb1"
      },
      "outputs": [],
      "source": [
        "# In order to decrease processing and increase accuracy\n",
        "# averaging every n element\n",
        "hi_delta=hi_delta.reshape(-1,n_avg,14,14).mean(axis=1)\n",
        "hi_theta=hi_theta.reshape(-1,n_avg,14,14).mean(axis=1)\n",
        "hi_alpha=hi_alpha.reshape(-1,n_avg,14,14).mean(axis=1)\n",
        "hi_beta=hi_beta.reshape(-1,n_avg,14,14).mean(axis=1)\n",
        "hi_gamma=hi_gamma.reshape(-1,n_avg,14,14).mean(axis=1)\n",
        "\n",
        "print(np.shape(hi_delta))"
      ]
    },
    {
      "cell_type": "code",
      "execution_count": 46,
      "id": "104f6771",
      "metadata": {
        "id": "104f6771"
      },
      "outputs": [],
      "source": [
        "lo_delta=lo_delta.reshape(-1,n_avg,14,14).mean(axis=1)\n",
        "lo_theta=lo_theta.reshape(-1,n_avg,14,14).mean(axis=1)\n",
        "lo_alpha=lo_alpha.reshape(-1,n_avg,14,14).mean(axis=1)\n",
        "lo_beta=lo_beta.reshape(-1,n_avg,14,14).mean(axis=1)\n",
        "lo_gamma=lo_gamma.reshape(-1,n_avg,14,14).mean(axis=1)"
      ]
    },
    {
      "cell_type": "markdown",
      "id": "bc3ec42c",
      "metadata": {
        "id": "bc3ec42c"
      },
      "source": [
        "# Feature Selection"
      ]
    },
    {
      "cell_type": "markdown",
      "id": "240d23ee",
      "metadata": {
        "id": "240d23ee"
      },
      "source": [
        "## Forward Feature Selection"
      ]
    },
    {
      "cell_type": "markdown",
      "id": "bfbf0a10",
      "metadata": {
        "id": "bfbf0a10"
      },
      "source": [
        "### Delta"
      ]
    },
    {
      "cell_type": "code",
      "execution_count": 48,
      "id": "b79ffc0d",
      "metadata": {
        "colab": {
          "base_uri": "https://localhost:8080/",
          "height": 17
        },
        "id": "b79ffc0d",
        "outputId": "d25476d7-dc76-48ff-ac8a-b9bd6b8af61c",
        "scrolled": true
      },
      "outputs": [],
      "source": [
        "auc_mat_delta = np.zeros(14*14)\n",
        "for i in range(14*14): # iterate over all cells of a connectivity mat file. // 'i' indicates a connectivity between two channels.\n",
        "    df = prepare_data(i,(hi_delta),(lo_delta)) #shape df: (1776,2)\n",
        "    acc,auc=lr(df)\n",
        "    auc_mat_delta[i]=auc\n",
        "auc_mat_delta=auc_mat_delta.reshape(14,14) #یه عکس کانکتیویتی از هر دو گروه میگیره و یه ماتریس ۱۴*۱۴ میده که توی هر سلولش مقدار مساحت زیر منحنی اون ارتباط رو گذاشته."
      ]
    },
    {
      "cell_type": "code",
      "execution_count": null,
      "id": "a74fde7f",
      "metadata": {
        "colab": {
          "base_uri": "https://localhost:8080/",
          "height": 483
        },
        "id": "a74fde7f",
        "outputId": "dec8d229-a144-4c9f-edcd-7bcceed05cf8"
      },
      "outputs": [],
      "source": [
        "con=connectivity(auc_mat_delta.flatten(), label, save_path+'delta_auc', n_top, save_edge=save_edge, save_plot=save_plot) # the result is a (14,14) matrix that only top-30-auc-based indices has value and the value is their auc.\n",
        "index_delta=np.where(con.flatten()>0)[0]\n",
        "x=index_delta//14\n",
        "y=index_delta%14\n",
        "col_name=[label[int(x[i])] + \"=>\" + label[int(y[i])] for i in range(len(x))] # the result is channels' name in n-top connectivities.\n",
        "print(con)\n",
        "print(col_name)"
      ]
    },
    {
      "cell_type": "code",
      "execution_count": null,
      "id": "221f2c01",
      "metadata": {
        "colab": {
          "base_uri": "https://localhost:8080/",
          "height": 458
        },
        "id": "221f2c01",
        "outputId": "2a257631-7c78-4b0b-e845-8c563d69e359",
        "scrolled": false
      },
      "outputs": [],
      "source": [
        "df = prepare_data(index_delta,hi_delta,lo_delta,col_name)\n",
        "display(df) # the result is a dataframe with 30 columns (top-30 connectivities) and 1776 rows"
      ]
    },
    {
      "cell_type": "code",
      "execution_count": 351,
      "id": "f1e8585f",
      "metadata": {
        "id": "f1e8585f"
      },
      "outputs": [],
      "source": [
        "# # preforming feature selection for every model //////////////////TIME_CONSUMING\n",
        "# for model in models:\n",
        "#     exec(f\"feature_{model}_delta,df_results_{model}_delta={model}_with_fs(df)\")\n",
        "#     print(10*'-')"
      ]
    },
    {
      "cell_type": "code",
      "execution_count": 352,
      "id": "4d69bce8",
      "metadata": {
        "id": "4d69bce8"
      },
      "outputs": [],
      "source": [
        "# # classification with selected features\n",
        "# for model in models:\n",
        "#     exec(f\"acc, precision, recall, f1={model}(df[feature_{model}_delta + ['label']])\")\n",
        "#     exec(f\"results.loc[('delta','{model}')]['With FS','Accuracy']=str('%.2f' % (acc.mean()*100)) + '%' + ' (±' + str('%.2f' % (acc.std()*100)) + ')'\")\n",
        "#     exec(f\"results.loc[('delta','{model}')]['With FS','Precision']=str('%.2f' % (precision.mean()*100)) + '%' + ' (±' + str('%.2f' % (precision.std()*100)) + ')'\")\n",
        "#     exec(f\"results.loc[('delta','{model}')]['With FS','Recall']=str('%.2f' % (recall.mean()*100)) + '%' + ' (±' + str('%.2f' % (recall.std()*100)) + ')'\")\n",
        "#     exec(f\"results.loc[('delta','{model}')]['With FS','F1-Measure']=str('%.2f' % (f1.mean()*100)) + '%' + ' (±' + str('%.2f' % ((f1.std()*100))) + ')'\")\n",
        "#     print(10*'-')"
      ]
    },
    {
      "cell_type": "code",
      "execution_count": null,
      "id": "ee48404c",
      "metadata": {
        "colab": {
          "base_uri": "https://localhost:8080/"
        },
        "id": "ee48404c",
        "outputId": "17cb283d-3d99-4b4f-9384-aa10b4c2239e",
        "scrolled": true
      },
      "outputs": [],
      "source": [
        "import time\n",
        "# classificaiton with all features\n",
        "for model in models:\n",
        "    start_time = time.time()\n",
        "    exec(f\"acc, precision, recall, f1={model}(df)\")\n",
        "    exec(f\"results.loc[('delta','{model}')]['Without FS','Accuracy']=str('%.2f' % (acc.mean()*100)) + '%' + ' (±' + str('%.2f' % (acc.std()*100)) + ')'\")\n",
        "    exec(f\"results.loc[('delta','{model}')]['Without FS','Precision']=str('%.2f' % (precision.mean()*100)) + '%' + ' (±' + str('%.2f' % (precision.std()*100)) + ')'\")\n",
        "    exec(f\"results.loc[('delta','{model}')]['Without FS','Recall']=str('%.2f' % (recall.mean()*100)) + '%' + ' (±' + str('%.2f' % (recall.std()*100)) + ')'\")\n",
        "    exec(f\"results.loc[('delta','{model}')]['Without FS','F1-Measure']=str('%.2f' % (f1.mean()*100)) + '%' + ' (±' + str('%.2f' % ((f1.std()*100))) + ')'\")\n",
        "    print(f\"Time taken for iteration {model}: {time.time() - start_time:.4f} seconds\")\n",
        "    print(10*'-')"
      ]
    },
    {
      "cell_type": "markdown",
      "id": "898c7f83",
      "metadata": {
        "id": "898c7f83"
      },
      "source": [
        "### Theta"
      ]
    },
    {
      "cell_type": "code",
      "execution_count": 60,
      "id": "da99cac8",
      "metadata": {
        "colab": {
          "base_uri": "https://localhost:8080/"
        },
        "id": "da99cac8",
        "outputId": "81e48354-e48a-487f-d924-602654ff4eb2"
      },
      "outputs": [],
      "source": [
        "auc_mat_theta = np.zeros(14*14)\n",
        "for i in range(14*14):\n",
        "    df = prepare_data(i,(hi_theta),(lo_theta))\n",
        "    acc,auc=lr(df)\n",
        "    auc_mat_theta[i]=auc\n",
        "auc_mat_theta=auc_mat_theta.reshape(14,14)"
      ]
    },
    {
      "cell_type": "code",
      "execution_count": null,
      "id": "bd62c34f",
      "metadata": {
        "id": "bd62c34f"
      },
      "outputs": [],
      "source": [
        "con=connectivity(auc_mat_theta.flatten(),label,save_path+'theta_auc',save_edge=save_edge,save_plot=save_plot)\n",
        "index_theta=np.where(con.flatten()>0)[0]\n",
        "x=index_theta//14\n",
        "y=index_theta%14\n",
        "col_name=[label[int(x[i])] + \"=>\" + label[int(y[i])] for i in range(len(x))]\n",
        "\n",
        "print(con)\n",
        "print(col_name)"
      ]
    },
    {
      "cell_type": "code",
      "execution_count": null,
      "id": "b1fb2a03",
      "metadata": {
        "colab": {
          "base_uri": "https://localhost:8080/"
        },
        "id": "b1fb2a03",
        "outputId": "5db7e604-0a85-42cf-e7c8-a7acd6fcf66c",
        "scrolled": false
      },
      "outputs": [],
      "source": [
        "df = prepare_data(index_theta,hi_theta,lo_theta,col_name)"
      ]
    },
    {
      "cell_type": "code",
      "execution_count": 357,
      "id": "32d17a63",
      "metadata": {
        "id": "32d17a63",
        "scrolled": true
      },
      "outputs": [],
      "source": [
        "# # preforming feature selection for every model //////////////////TIME_CONSUMING\n",
        "# for model in models:\n",
        "#     exec(f\"feature_{model}_theta,df_results_{model}_theta={model}_with_fs(df)\")\n",
        "#     print(10*'-')"
      ]
    },
    {
      "cell_type": "code",
      "execution_count": 358,
      "id": "3f8c6451",
      "metadata": {
        "id": "3f8c6451"
      },
      "outputs": [],
      "source": [
        "# # classification with selected features\n",
        "# for model in models:\n",
        "#     exec(f\"acc, precision, recall, f1={model}(df[feature_{model}_theta + ['label']])\")\n",
        "#     exec(f\"results.loc[('theta','{model}')]['With FS','Accuracy']=str('%.2f' % (acc.mean()*100)) + '%' + ' (±' + str('%.2f' % (acc.std()*100)) + ')'\")\n",
        "#     exec(f\"results.loc[('theta','{model}')]['With FS','Precision']=str('%.2f' % (precision.mean()*100)) + '%' + ' (±' + str('%.2f' % (precision.std()*100)) + ')'\")\n",
        "#     exec(f\"results.loc[('theta','{model}')]['With FS','Recall']=str('%.2f' % (recall.mean()*100)) + '%' + ' (±' + str('%.2f' % (recall.std()*100)) + ')'\")\n",
        "#     exec(f\"results.loc[('theta','{model}')]['With FS','F1-Measure']=str('%.2f' % (f1.mean()*100)) + '%' + ' (±' + str('%.2f' % ((f1.std()*100))) + ')'\")\n",
        "#     print(10*'-')"
      ]
    },
    {
      "cell_type": "code",
      "execution_count": null,
      "id": "5eee8a99",
      "metadata": {
        "colab": {
          "base_uri": "https://localhost:8080/"
        },
        "id": "5eee8a99",
        "outputId": "c9095a9f-4db9-4047-f4b9-aaa074c2278e",
        "scrolled": true
      },
      "outputs": [],
      "source": [
        "# classificaiton with all features\n",
        "for model in models:\n",
        "    exec(f\"acc, precision, recall, f1={model}(df)\")\n",
        "    exec(f\"results.loc[('theta','{model}')]['Without FS','Accuracy']=str('%.2f' % (acc.mean()*100)) + '%' + ' (±' + str('%.2f' % (acc.std()*100)) + ')'\")\n",
        "    exec(f\"results.loc[('theta','{model}')]['Without FS','Precision']=str('%.2f' % (precision.mean()*100)) + '%' + ' (±' + str('%.2f' % (precision.std()*100)) + ')'\")\n",
        "    exec(f\"results.loc[('theta','{model}')]['Without FS','Recall']=str('%.2f' % (recall.mean()*100)) + '%' + ' (±' + str('%.2f' % (recall.std()*100)) + ')'\")\n",
        "    exec(f\"results.loc[('theta','{model}')]['Without FS','F1-Measure']=str('%.2f' % (f1.mean()*100)) + '%' + ' (±' + str('%.2f' % ((f1.std()*100))) + ')'\")\n",
        "    print(10*'-')"
      ]
    },
    {
      "cell_type": "markdown",
      "id": "d2d2d1b4",
      "metadata": {
        "id": "d2d2d1b4"
      },
      "source": [
        "### Alpha"
      ]
    },
    {
      "cell_type": "code",
      "execution_count": 64,
      "id": "1d523ad4",
      "metadata": {
        "colab": {
          "base_uri": "https://localhost:8080/"
        },
        "id": "1d523ad4",
        "outputId": "3084d03b-f8b1-4195-f894-7de13e212084"
      },
      "outputs": [],
      "source": [
        "auc_mat_alpha = np.zeros(14*14)\n",
        "for i in range(14*14):\n",
        "    df = prepare_data(i,(hi_alpha),(lo_alpha))\n",
        "    acc,auc=lr(df)\n",
        "    auc_mat_alpha[i]=auc\n",
        "auc_mat_alpha=auc_mat_alpha.reshape(14,14)"
      ]
    },
    {
      "cell_type": "code",
      "execution_count": null,
      "id": "ca2688bc",
      "metadata": {
        "id": "ca2688bc"
      },
      "outputs": [],
      "source": [
        "con=connectivity(auc_mat_alpha.flatten(),label,save_path+'alpha_auc',save_edge=save_edge,save_plot=save_plot)\n",
        "index_alpha=np.where(con.flatten()>0)[0]\n",
        "x=index_alpha//14\n",
        "y=index_alpha%14\n",
        "col_name=[label[int(x[i])] + \"=>\" + label[int(y[i])] for i in range(len(x))]\n",
        "\n",
        "print(con)\n",
        "print(col_name)"
      ]
    },
    {
      "cell_type": "code",
      "execution_count": null,
      "id": "0a51915b",
      "metadata": {
        "colab": {
          "base_uri": "https://localhost:8080/"
        },
        "id": "0a51915b",
        "outputId": "0eb8ac26-b1c0-4b3e-c891-88f31362d415",
        "scrolled": false
      },
      "outputs": [],
      "source": [
        "df = prepare_data(index_alpha,hi_alpha,lo_alpha,col_name)"
      ]
    },
    {
      "cell_type": "code",
      "execution_count": 363,
      "id": "414eb91a",
      "metadata": {
        "id": "414eb91a",
        "scrolled": true
      },
      "outputs": [],
      "source": [
        "# # preforming feature selection for every model //////////////////TIME_CONSUMING\n",
        "# for model in models:\n",
        "#     exec(f\"feature_{model}_alpha,df_results_{model}_alpha={model}_with_fs(df)\")\n",
        "#     print(10*'-')"
      ]
    },
    {
      "cell_type": "code",
      "execution_count": 364,
      "id": "7ef059cd",
      "metadata": {
        "id": "7ef059cd"
      },
      "outputs": [],
      "source": [
        "# # classification with selected features\n",
        "# for model in models:\n",
        "#     exec(f\"acc, precision, recall, f1={model}(df[feature_{model}_alpha + ['label']])\")\n",
        "#     exec(f\"results.loc[('alpha','{model}')]['With FS','Accuracy']=str('%.2f' % (acc.mean()*100)) + '%' + ' (±' + str('%.2f' % (acc.std()*100)) + ')'\")\n",
        "#     exec(f\"results.loc[('alpha','{model}')]['With FS','Precision']=str('%.2f' % (precision.mean()*100)) + '%' + ' (±' + str('%.2f' % (precision.std()*100)) + ')'\")\n",
        "#     exec(f\"results.loc[('alpha','{model}')]['With FS','Recall']=str('%.2f' % (recall.mean()*100)) + '%' + ' (±' + str('%.2f' % (recall.std()*100)) + ')'\")\n",
        "#     exec(f\"results.loc[('alpha','{model}')]['With FS','F1-Measure']=str('%.2f' % (f1.mean()*100)) + '%' + ' (±' + str('%.2f' % ((f1.std()*100))) + ')'\")\n",
        "#     print(10*'-')"
      ]
    },
    {
      "cell_type": "code",
      "execution_count": null,
      "id": "f1f1e564",
      "metadata": {
        "colab": {
          "base_uri": "https://localhost:8080/"
        },
        "id": "f1f1e564",
        "outputId": "b6a3b77e-19d2-4bdb-f038-85dc7fbaed54",
        "scrolled": true
      },
      "outputs": [],
      "source": [
        "# classificaiton with all features\n",
        "for model in models:\n",
        "    exec(f\"acc, precision, recall, f1={model}(df)\")\n",
        "    exec(f\"results.loc[('alpha','{model}')]['Without FS','Accuracy']=str('%.2f' % (acc.mean()*100)) + '%' + ' (±' + str('%.2f' % (acc.std()*100)) + ')'\")\n",
        "    exec(f\"results.loc[('alpha','{model}')]['Without FS','Precision']=str('%.2f' % (precision.mean()*100)) + '%' + ' (±' + str('%.2f' % (precision.std()*100)) + ')'\")\n",
        "    exec(f\"results.loc[('alpha','{model}')]['Without FS','Recall']=str('%.2f' % (recall.mean()*100)) + '%' + ' (±' + str('%.2f' % (recall.std()*100)) + ')'\")\n",
        "    exec(f\"results.loc[('alpha','{model}')]['Without FS','F1-Measure']=str('%.2f' % (f1.mean()*100)) + '%' + ' (±' + str('%.2f' % ((f1.std()*100))) + ')'\")\n",
        "    print(10*'-')"
      ]
    },
    {
      "cell_type": "markdown",
      "id": "cc528283",
      "metadata": {
        "id": "cc528283"
      },
      "source": [
        "### Beta"
      ]
    },
    {
      "cell_type": "code",
      "execution_count": 67,
      "id": "b49245fa",
      "metadata": {
        "colab": {
          "base_uri": "https://localhost:8080/"
        },
        "id": "b49245fa",
        "outputId": "f6bb25af-13d8-406b-9deb-df33152903c2"
      },
      "outputs": [],
      "source": [
        "auc_mat_beta = np.zeros(14*14)\n",
        "for i in range(14*14):\n",
        "    df = prepare_data(i,(hi_beta),(lo_beta))\n",
        "    acc,auc=lr(df)\n",
        "    auc_mat_beta[i]=auc\n",
        "auc_mat_beta=auc_mat_beta.reshape(14,14)"
      ]
    },
    {
      "cell_type": "code",
      "execution_count": null,
      "id": "61087f67",
      "metadata": {
        "id": "61087f67"
      },
      "outputs": [],
      "source": [
        "con=connectivity(auc_mat_beta.flatten(),label,save_path+'beta_auc',save_edge=save_edge,save_plot=save_plot)\n",
        "index_beta=np.where(con.flatten()>0)[0]\n",
        "x=index_beta//14\n",
        "y=index_beta%14\n",
        "col_name=[label[int(x[i])] + \"=>\" + label[int(y[i])] for i in range(len(x))]\n",
        "\n",
        "print(con)\n",
        "print(col_name)"
      ]
    },
    {
      "cell_type": "code",
      "execution_count": null,
      "id": "3ab49033",
      "metadata": {
        "colab": {
          "base_uri": "https://localhost:8080/"
        },
        "id": "3ab49033",
        "outputId": "2f7128a5-64b5-4883-a016-4336a640d7bc",
        "scrolled": false
      },
      "outputs": [],
      "source": [
        "df = prepare_data(index_beta,hi_beta,lo_beta,col_name)"
      ]
    },
    {
      "cell_type": "code",
      "execution_count": 369,
      "id": "128dbfc4",
      "metadata": {
        "id": "128dbfc4"
      },
      "outputs": [],
      "source": [
        "# # preforming feature selection for every model //////////////////TIME_CONSUMING\n",
        "# for model in models:\n",
        "#     exec(f\"feature_{model}_beta,df_results_{model}_beta={model}_with_fs(df)\")\n",
        "#     print(10*'-')"
      ]
    },
    {
      "cell_type": "code",
      "execution_count": 370,
      "id": "83df016a",
      "metadata": {
        "id": "83df016a"
      },
      "outputs": [],
      "source": [
        "# # classification with selected features\n",
        "# for model in models:\n",
        "#     exec(f\"acc, precision, recall, f1={model}(df[feature_{model}_beta + ['label']])\")\n",
        "#     exec(f\"results.loc[('beta','{model}')]['With FS','Accuracy']=str('%.2f' % (acc.mean()*100)) + '%' + ' (±' + str('%.2f' % (acc.std()*100)) + ')'\")\n",
        "#     exec(f\"results.loc[('beta','{model}')]['With FS','Precision']=str('%.2f' % (precision.mean()*100)) + '%' + ' (±' + str('%.2f' % (precision.std()*100)) + ')'\")\n",
        "#     exec(f\"results.loc[('beta','{model}')]['With FS','Recall']=str('%.2f' % (recall.mean()*100)) + '%' + ' (±' + str('%.2f' % (recall.std()*100)) + ')'\")\n",
        "#     exec(f\"results.loc[('beta','{model}')]['With FS','F1-Measure']=str('%.2f' % (f1.mean()*100)) + '%' + ' (±' + str('%.2f' % ((f1.std()*100))) + ')'\")\n",
        "#     print(10*'-')"
      ]
    },
    {
      "cell_type": "code",
      "execution_count": null,
      "id": "7322e041",
      "metadata": {
        "colab": {
          "base_uri": "https://localhost:8080/"
        },
        "id": "7322e041",
        "outputId": "9bf47afa-4eb8-496b-e277-08026e50a67c",
        "scrolled": true
      },
      "outputs": [],
      "source": [
        "# classificaiton with all features\n",
        "for model in models:\n",
        "    exec(f\"acc, precision, recall, f1={model}(df)\")\n",
        "    exec(f\"results.loc[('beta','{model}')]['Without FS','Accuracy']=str('%.2f' % (acc.mean()*100)) + '%' + ' (±' + str('%.2f' % (acc.std()*100)) + ')'\")\n",
        "    exec(f\"results.loc[('beta','{model}')]['Without FS','Precision']=str('%.2f' % (precision.mean()*100)) + '%' + ' (±' + str('%.2f' % (precision.std()*100)) + ')'\")\n",
        "    exec(f\"results.loc[('beta','{model}')]['Without FS','Recall']=str('%.2f' % (recall.mean()*100)) + '%' + ' (±' + str('%.2f' % (recall.std()*100)) + ')'\")\n",
        "    exec(f\"results.loc[('beta','{model}')]['Without FS','F1-Measure']=str('%.2f' % (f1.mean()*100)) + '%' + ' (±' + str('%.2f' % ((f1.std()*100))) + ')'\")\n",
        "    print(10*'-')"
      ]
    },
    {
      "cell_type": "markdown",
      "id": "65c58a3d",
      "metadata": {
        "id": "65c58a3d"
      },
      "source": [
        "### Gamma"
      ]
    },
    {
      "cell_type": "code",
      "execution_count": 70,
      "id": "0bd15720",
      "metadata": {
        "colab": {
          "base_uri": "https://localhost:8080/"
        },
        "id": "0bd15720",
        "outputId": "69e604bf-240b-4752-d4c7-fa2d1134d4c4"
      },
      "outputs": [],
      "source": [
        "auc_mat_gamma = np.zeros(14*14)\n",
        "for i in range(14*14):\n",
        "    df = prepare_data(i,(hi_gamma),(lo_gamma))\n",
        "    acc,auc=lr(df)\n",
        "    auc_mat_gamma[i]=auc\n",
        "auc_mat_gamma=auc_mat_gamma.reshape(14,14)"
      ]
    },
    {
      "cell_type": "code",
      "execution_count": null,
      "id": "a6b00d6e",
      "metadata": {
        "id": "a6b00d6e"
      },
      "outputs": [],
      "source": [
        "con=connectivity(auc_mat_gamma.flatten(),label,save_path+'gamma_auc',save_edge=save_edge,save_plot=save_plot)\n",
        "index_gamma=np.where(con.flatten()>0)[0]\n",
        "x=index_gamma//14\n",
        "y=index_gamma%14\n",
        "col_name=[label[int(x[i])] + \"=>\" + label[int(y[i])] for i in range(len(x))]\n",
        "\n",
        "print(con)\n",
        "print(col_name)"
      ]
    },
    {
      "cell_type": "code",
      "execution_count": null,
      "id": "149d5730",
      "metadata": {
        "colab": {
          "base_uri": "https://localhost:8080/"
        },
        "id": "149d5730",
        "outputId": "a98ecef3-cef1-4a16-d47b-d72c130eea4e",
        "scrolled": false
      },
      "outputs": [],
      "source": [
        "df = prepare_data(index_gamma,hi_gamma,lo_gamma,col_name)"
      ]
    },
    {
      "cell_type": "code",
      "execution_count": 375,
      "id": "dd6be9be",
      "metadata": {
        "id": "dd6be9be"
      },
      "outputs": [],
      "source": [
        "# # preforming feature selection for every model //////////////////TIME_CONSUMING\n",
        "# for model in models:\n",
        "#     exec(f\"feature_{model}_gamma,df_results_{model}_gamma={model}_with_fs(df)\")\n",
        "#     print(10*'-')"
      ]
    },
    {
      "cell_type": "code",
      "execution_count": 376,
      "id": "dff629e1",
      "metadata": {
        "id": "dff629e1"
      },
      "outputs": [],
      "source": [
        "# # classification with selected features\n",
        "# for model in models:\n",
        "#     exec(f\"acc, precision, recall, f1={model}(df[feature_{model}_gamma + ['label']])\")\n",
        "#     exec(f\"results.loc[('gamma','{model}')]['With FS','Accuracy']=str('%.2f' % (acc.mean()*100)) + '%' + ' (±' + str('%.2f' % (acc.std()*100)) + ')'\")\n",
        "#     exec(f\"results.loc[('gamma','{model}')]['With FS','Precision']=str('%.2f' % (precision.mean()*100)) + '%' + ' (±' + str('%.2f' % (precision.std()*100)) + ')'\")\n",
        "#     exec(f\"results.loc[('gamma','{model}')]['With FS','Recall']=str('%.2f' % (recall.mean()*100)) + '%' + ' (±' + str('%.2f' % (recall.std()*100)) + ')'\")\n",
        "#     exec(f\"results.loc[('gamma','{model}')]['With FS','F1-Measure']=str('%.2f' % (f1.mean()*100)) + '%' + ' (±' + str('%.2f' % ((f1.std()*100))) + ')'\")\n",
        "#     print(10*'-')"
      ]
    },
    {
      "cell_type": "code",
      "execution_count": null,
      "id": "976d9156",
      "metadata": {
        "colab": {
          "base_uri": "https://localhost:8080/"
        },
        "id": "976d9156",
        "outputId": "b68622fe-b6f9-49bd-b134-426f5b3a554c",
        "scrolled": true
      },
      "outputs": [],
      "source": [
        "# classificaiton with all features\n",
        "for model in models:\n",
        "    exec(f\"acc, precision, recall, f1={model}(df)\")\n",
        "    exec(f\"results.loc[('gamma','{model}')]['Without FS','Accuracy']=str('%.2f' % (acc.mean()*100)) + '%' + ' (±' + str('%.2f' % (acc.std()*100)) + ')'\")\n",
        "    exec(f\"results.loc[('gamma','{model}')]['Without FS','Precision']=str('%.2f' % (precision.mean()*100)) + '%' + ' (±' + str('%.2f' % (precision.std()*100)) + ')'\")\n",
        "    exec(f\"results.loc[('gamma','{model}')]['Without FS','Recall']=str('%.2f' % (recall.mean()*100)) + '%' + ' (±' + str('%.2f' % (recall.std()*100)) + ')'\")\n",
        "    exec(f\"results.loc[('gamma','{model}')]['Without FS','F1-Measure']=str('%.2f' % (f1.mean()*100)) + '%' + ' (±' + str('%.2f' % ((f1.std()*100))) + ')'\")\n",
        "    print(10*'-')"
      ]
    },
    {
      "cell_type": "markdown",
      "id": "8125b90a",
      "metadata": {
        "id": "8125b90a"
      },
      "source": [
        "### Top 150"
      ]
    },
    {
      "cell_type": "markdown",
      "id": "3a39d241",
      "metadata": {
        "id": "3a39d241"
      },
      "source": [
        "Delta"
      ]
    },
    {
      "cell_type": "code",
      "execution_count": null,
      "id": "6c9806b3",
      "metadata": {
        "id": "6c9806b3"
      },
      "outputs": [],
      "source": [
        "con=connectivity(auc_mat_delta.flatten(),label,save_path+'delta_auc',save_edge=save_edge,save_plot=save_plot)\n",
        "index_delta=np.where(con.flatten()>0)[0]\n",
        "x=index_delta//14\n",
        "y=index_delta%14\n",
        "col_name=[label[int(x[i])] + \"=>\" + label[int(y[i])] +\" delta\" for i in range(len(x))]"
      ]
    },
    {
      "cell_type": "code",
      "execution_count": null,
      "id": "d4ed520b",
      "metadata": {
        "colab": {
          "base_uri": "https://localhost:8080/"
        },
        "id": "d4ed520b",
        "outputId": "b7a331af-7d11-474d-a533-ec3702024653",
        "scrolled": false
      },
      "outputs": [],
      "source": [
        "df_delta = prepare_data(index_delta,hi_delta,lo_delta,col_name)\n",
        "df_delta.drop('label',axis=1,inplace=True)"
      ]
    },
    {
      "cell_type": "markdown",
      "id": "038025a6",
      "metadata": {
        "id": "038025a6"
      },
      "source": [
        "Theta"
      ]
    },
    {
      "cell_type": "code",
      "execution_count": null,
      "id": "718ae632",
      "metadata": {
        "id": "718ae632"
      },
      "outputs": [],
      "source": [
        "con=connectivity(auc_mat_theta.flatten(),label,save_path+'theta_auc',save_edge=save_edge,save_plot=save_plot)\n",
        "index_theta=np.where(con.flatten()>0)[0]\n",
        "x=index_theta//14\n",
        "y=index_theta%14\n",
        "col_name=[label[int(x[i])] + \"=>\" + label[int(y[i])] +\" theta\" for i in range(len(x))]"
      ]
    },
    {
      "cell_type": "code",
      "execution_count": null,
      "id": "40da5e60",
      "metadata": {
        "colab": {
          "base_uri": "https://localhost:8080/"
        },
        "id": "40da5e60",
        "outputId": "7da0cb88-330d-4154-b70e-979e5e1c114a",
        "scrolled": false
      },
      "outputs": [],
      "source": [
        "df_theta = prepare_data(index_theta,hi_theta,lo_theta,col_name)\n",
        "df_theta.drop('label',axis=1,inplace=True)"
      ]
    },
    {
      "cell_type": "markdown",
      "id": "034828df",
      "metadata": {
        "id": "034828df"
      },
      "source": [
        "Alpha"
      ]
    },
    {
      "cell_type": "code",
      "execution_count": null,
      "id": "21549a3a",
      "metadata": {
        "id": "21549a3a"
      },
      "outputs": [],
      "source": [
        "con=connectivity(auc_mat_alpha.flatten(),label,save_path+'alpha_auc',save_edge=save_edge,save_plot=save_plot)\n",
        "index_alpha=np.where(con.flatten()>0)[0]\n",
        "x=index_alpha//14\n",
        "y=index_alpha%14\n",
        "col_name=[label[int(x[i])] + \"=>\" + label[int(y[i])] +\" alpha\" for i in range(len(x))]"
      ]
    },
    {
      "cell_type": "code",
      "execution_count": null,
      "id": "6603a2a3",
      "metadata": {
        "colab": {
          "base_uri": "https://localhost:8080/"
        },
        "id": "6603a2a3",
        "outputId": "960f8a55-e4cf-4e07-db05-f1afe25170b6",
        "scrolled": false
      },
      "outputs": [],
      "source": [
        "df_alpha = prepare_data(index_alpha,hi_alpha,lo_alpha,col_name)\n",
        "df_alpha.drop('label',axis=1,inplace=True)"
      ]
    },
    {
      "cell_type": "markdown",
      "id": "f6d09c8a",
      "metadata": {
        "id": "f6d09c8a"
      },
      "source": [
        "beta"
      ]
    },
    {
      "cell_type": "code",
      "execution_count": null,
      "id": "c0c9c8bc",
      "metadata": {
        "id": "c0c9c8bc"
      },
      "outputs": [],
      "source": [
        "con=connectivity(auc_mat_beta.flatten(),label,save_path+'beta_auc',save_edge=save_edge,save_plot=save_plot)\n",
        "index_beta=np.where(con.flatten()>0)[0]\n",
        "x=index_beta//14\n",
        "y=index_beta%14\n",
        "col_name=[label[int(x[i])] + \"=>\" + label[int(y[i])] +\" beta\" for i in range(len(x))]"
      ]
    },
    {
      "cell_type": "code",
      "execution_count": null,
      "id": "9e9a47c4",
      "metadata": {
        "colab": {
          "base_uri": "https://localhost:8080/"
        },
        "id": "9e9a47c4",
        "outputId": "773808c4-f751-4fda-fa7e-7230256e93bb",
        "scrolled": false
      },
      "outputs": [],
      "source": [
        "df_beta = prepare_data(index_beta,hi_beta,lo_beta,col_name)\n",
        "df_beta.drop('label',axis=1,inplace=True)"
      ]
    },
    {
      "cell_type": "markdown",
      "id": "ba09808a",
      "metadata": {
        "id": "ba09808a"
      },
      "source": [
        "Gamma"
      ]
    },
    {
      "cell_type": "code",
      "execution_count": null,
      "id": "207146c0",
      "metadata": {
        "id": "207146c0"
      },
      "outputs": [],
      "source": [
        "con=connectivity(auc_mat_gamma.flatten(),label,save_path+'gamma_auc',save_edge=save_edge,save_plot=save_plot)\n",
        "index_gamma=np.where(con.flatten()>0)[0]\n",
        "x=index_gamma//14\n",
        "y=index_gamma%14\n",
        "col_name=[label[int(x[i])] + \"=>\" + label[int(y[i])] +\" gamma\" for i in range(len(x))]"
      ]
    },
    {
      "cell_type": "code",
      "execution_count": null,
      "id": "4d72c5a2",
      "metadata": {
        "colab": {
          "base_uri": "https://localhost:8080/"
        },
        "id": "4d72c5a2",
        "outputId": "e632d9b2-c17d-4638-9608-c209b9d9832c",
        "scrolled": false
      },
      "outputs": [],
      "source": [
        "df_gamma = prepare_data(index_gamma,hi_gamma,lo_gamma,col_name)"
      ]
    },
    {
      "cell_type": "markdown",
      "id": "8dddbe67",
      "metadata": {
        "id": "8dddbe67"
      },
      "source": [
        "Top 150 (concat top-n features of all freq. bands)"
      ]
    },
    {
      "cell_type": "code",
      "execution_count": null,
      "id": "22406ec5",
      "metadata": {
        "id": "22406ec5"
      },
      "outputs": [],
      "source": [
        "df_top150=pd.concat([df_delta,df_theta,df_alpha,df_beta,df_gamma],axis=1)\n",
        "display(df_top150)\n"
      ]
    },
    {
      "cell_type": "code",
      "execution_count": 60,
      "id": "cbe2809e",
      "metadata": {},
      "outputs": [],
      "source": [
        "# df_top150.to_csv(save_path + 'df_top150.csv')"
      ]
    },
    {
      "cell_type": "code",
      "execution_count": null,
      "id": "e0e086ec",
      "metadata": {
        "colab": {
          "base_uri": "https://localhost:8080/",
          "height": 394
        },
        "id": "e0e086ec",
        "outputId": "f5754da1-a80d-45b7-c5e9-6c5f0b8040d2"
      },
      "outputs": [],
      "source": [
        "from_column=[col.split('=>')[0] for col in df_top150.columns[:-1]]\n",
        "to_column = [col.split('=>')[1].split(' ')[0] for col in df_top150.columns[:-1]]\n",
        "df_electrods=pd.DataFrame({'From':from_column,'To':to_column})\n",
        "df_electrods.groupby('To').count().sort_values('From',ascending=False)"
      ]
    },
    {
      "cell_type": "code",
      "execution_count": null,
      "id": "ee27ff77",
      "metadata": {
        "colab": {
          "base_uri": "https://localhost:8080/",
          "height": 520
        },
        "id": "ee27ff77",
        "outputId": "df6a0775-dd09-4504-c5dc-0a110826d4b7"
      },
      "outputs": [],
      "source": [
        "df_electrods.groupby('From').count().sort_values('To',ascending=False)"
      ]
    },
    {
      "cell_type": "code",
      "execution_count": null,
      "id": "f6e3e500",
      "metadata": {
        "colab": {
          "base_uri": "https://localhost:8080/"
        },
        "id": "f6e3e500",
        "outputId": "ae51bc0f-628a-4c8c-8915-0c2203152b8e"
      },
      "outputs": [],
      "source": [
        "df_top150.columns"
      ]
    },
    {
      "cell_type": "code",
      "execution_count": null,
      "id": "01833bad",
      "metadata": {
        "colab": {
          "base_uri": "https://localhost:8080/"
        },
        "id": "01833bad",
        "outputId": "160b3b7c-8be0-4dcc-a5f7-229ca92896cd",
        "scrolled": true
      },
      "outputs": [],
      "source": [
        "# # preforming feature selection for every model //////////////////TIME_CONSUMING\n",
        "# import warnings\n",
        "# warnings.filterwarnings(\"ignore\")\n",
        "# for model in models:\n",
        "#     exec(f\"feature_{model}_top150,df_results_{model}_top150={model}_with_fs(df_top150)\")\n",
        "#     print(10*'-')"
      ]
    },
    {
      "cell_type": "code",
      "execution_count": null,
      "id": "fa4fd7e1",
      "metadata": {
        "id": "fa4fd7e1"
      },
      "outputs": [],
      "source": [
        "# classification with selected features\n",
        "for model in models:\n",
        "    exec(f\"acc, precision, recall, f1={model}(df_top150[feature_{model}_top150 + ['label']])\")\n",
        "    exec(f\"results.loc[('top150','{model}')]['With FS','Accuracy']=str('%.2f' % (acc.mean()*100)) + '%' + ' (±' + str('%.2f' % (acc.std()*100)) + ')'\")\n",
        "    exec(f\"results.loc[('top150','{model}')]['With FS','Precision']=str('%.2f' % (precision.mean()*100)) + '%' + ' (±' + str('%.2f' % (precision.std()*100)) + ')'\")\n",
        "    exec(f\"results.loc[('top150','{model}')]['With FS','Recall']=str('%.2f' % (recall.mean()*100)) + '%' + ' (±' + str('%.2f' % (recall.std()*100)) + ')'\")\n",
        "    exec(f\"results.loc[('top150','{model}')]['With FS','F1-Measure']=str('%.2f' % (f1.mean()*100)) + '%' + ' (±' + str('%.2f' % ((f1.std()*100))) + ')'\")\n",
        "    print(10*'-')"
      ]
    },
    {
      "cell_type": "code",
      "execution_count": null,
      "id": "78a13302",
      "metadata": {
        "colab": {
          "base_uri": "https://localhost:8080/"
        },
        "id": "78a13302",
        "outputId": "2fe5cc8d-7828-4b9f-b91e-c4c98597ca24",
        "scrolled": false
      },
      "outputs": [],
      "source": [
        "# classificaiton with all features\n",
        "for model in models:\n",
        "    exec(f\"acc, precision, recall, f1={model}(df_top150)\")\n",
        "    exec(f\"results.loc[('top150','{model}')]['Without FS','Accuracy']=str('%.2f' % (acc.mean()*100)) + '%' + ' (±' + str('%.2f' % (acc.std()*100)) + ')'\")\n",
        "    exec(f\"results.loc[('top150','{model}')]['Without FS','Precision']=str('%.2f' % (precision.mean()*100)) + '%' + ' (±' + str('%.2f' % (precision.std()*100)) + ')'\")\n",
        "    exec(f\"results.loc[('top150','{model}')]['Without FS','Recall']=str('%.2f' % (recall.mean()*100)) + '%' + ' (±' + str('%.2f' % (recall.std()*100)) + ')'\")\n",
        "    exec(f\"results.loc[('top150','{model}')]['Without FS','F1-Measure']=str('%.2f' % (f1.mean()*100)) + '%' + ' (±' + str('%.2f' % ((f1.std()*100))) + ')'\")\n",
        "    print(10*'-')"
      ]
    },
    {
      "cell_type": "code",
      "execution_count": null,
      "id": "1cda483f",
      "metadata": {
        "colab": {
          "base_uri": "https://localhost:8080/",
          "height": 865
        },
        "id": "1cda483f",
        "outputId": "fdacba06-0ae7-4dc3-dbeb-135a1d6ac721"
      },
      "outputs": [],
      "source": [
        "results.loc[pd.IndexSlice[:, :], :].sort_values([(\"With FS\",\"Accuracy\")],ascending=False)"
      ]
    },
    {
      "cell_type": "code",
      "execution_count": null,
      "id": "d0d89dd2",
      "metadata": {
        "colab": {
          "base_uri": "https://localhost:8080/",
          "height": 865
        },
        "id": "d0d89dd2",
        "outputId": "eda7681a-b664-42d2-bce6-bdc4187bc1e8",
        "scrolled": false
      },
      "outputs": [],
      "source": [
        "results"
      ]
    },
    {
      "cell_type": "markdown",
      "id": "7b061605",
      "metadata": {
        "id": "7b061605"
      },
      "source": [
        "## mRMR"
      ]
    },
    {
      "cell_type": "code",
      "execution_count": null,
      "id": "051034b0",
      "metadata": {
        "colab": {
          "base_uri": "https://localhost:8080/"
        },
        "id": "051034b0",
        "outputId": "8ce5adde-27cf-4b10-e6c5-86574fe5d7f6"
      },
      "outputs": [],
      "source": [
        "# Model = SVM\n",
        "import pymrmr\n",
        "\n",
        "ls_feature=list(df_top150.columns[:-1])\n",
        "best_acc=-np.inf\n",
        "best_feature=None\n",
        "c=0\n",
        "col_new_order=[df_top150.columns[-1]] + df_top150.columns[:-1].tolist() # bringing label column to first column\n",
        "for n_features in range(1,151):\n",
        "    selected=pymrmr.mRMR(df_top150[col_new_order], 'MIQ', n_features)\n",
        "    acc_current, _, _, _=svm(df_top150[selected+['label']],print_results=False)\n",
        "    acc_current=acc_current.mean()\n",
        "    if best_acc<acc_current:\n",
        "        best_feature=selected[:]\n",
        "        best_acc=acc_current\n",
        "        c+=1\n",
        "        print(\"ACC Updated:\",best_acc)"
      ]
    },
    {
      "cell_type": "code",
      "execution_count": 95,
      "id": "0dd0914b",
      "metadata": {
        "colab": {
          "base_uri": "https://localhost:8080/",
          "height": 193
        },
        "id": "0dd0914b",
        "outputId": "f2e3918f-580c-40c2-ff87-5f55d88fa43f"
      },
      "outputs": [],
      "source": [
        "# best_feature_svm=best_feature\n",
        "acc_svm, precision_svm, recall_svm, f1_svm=svm(df_top150[best_feature+['label']],print_results=False)"
      ]
    },
    {
      "cell_type": "code",
      "execution_count": null,
      "id": "68bc5dbe",
      "metadata": {
        "id": "68bc5dbe"
      },
      "outputs": [],
      "source": [
        "precision_svm.std() * 100"
      ]
    },
    {
      "cell_type": "code",
      "execution_count": null,
      "id": "a21fc942",
      "metadata": {
        "id": "a21fc942"
      },
      "outputs": [],
      "source": [
        "# Model = Random forest (rf)\n",
        "import pymrmr\n",
        "ls_feature=list(df_top150.columns[:-1])\n",
        "best_acc=-np.inf\n",
        "best_feature=None\n",
        "c=0\n",
        "col_new_order=[df_top150.columns[-1]] + df_top150.columns[:-1].tolist() # bringing label column to first column\n",
        "for n_features in range(1,151):\n",
        "    selected=pymrmr.mRMR(df_top150[col_new_order], 'MIQ', n_features)\n",
        "    acc_current, _, _, _=rf(df_top150[selected+['label']],print_results=False)\n",
        "    acc_current=acc_current.mean()\n",
        "    if best_acc<acc_current:\n",
        "        best_feature=selected[:]\n",
        "        best_acc=acc_current\n",
        "        c+=1\n",
        "        print(\"ACC Updated:\",best_acc)"
      ]
    },
    {
      "cell_type": "code",
      "execution_count": null,
      "id": "8e1439f8",
      "metadata": {
        "id": "8e1439f8"
      },
      "outputs": [],
      "source": [
        "# best_feature_rf=best_feature\n",
        "acc_rf, precision_rf, recall_rf, f1_rf=rf(df_top150[best_feature+['label']],print_results=True)"
      ]
    },
    {
      "cell_type": "code",
      "execution_count": null,
      "id": "39f204ac",
      "metadata": {
        "id": "39f204ac"
      },
      "outputs": [],
      "source": [
        "# Model = LDA\n",
        "import pymrmr\n",
        "ls_feature=list(df_top150.columns[:-1])\n",
        "best_acc=-np.inf\n",
        "best_feature=None\n",
        "c=0\n",
        "col_new_order=[df_top150.columns[-1]] + df_top150.columns[:-1].tolist() # bringing label column to first column\n",
        "for n_features in range(1,151):\n",
        "    selected=pymrmr.mRMR(df_top150[col_new_order], 'MIQ', n_features)\n",
        "    acc_current, _, _, _=lda(df_top150[selected+['label']],print_results=False)\n",
        "    acc_current=acc_current.mean()\n",
        "    if best_acc<acc_current:\n",
        "        best_feature=selected[:]\n",
        "        best_acc=acc_current\n",
        "        c+=1\n",
        "        print(\"ACC Updated:\",best_acc)"
      ]
    },
    {
      "cell_type": "code",
      "execution_count": null,
      "id": "4951758f",
      "metadata": {
        "id": "4951758f"
      },
      "outputs": [],
      "source": [
        "# best_feature_lda=best_feature\n",
        "acc_lda, precision_lda, recall_lda, f1_lda=lda(df_top150[best_feature+['label']],print_results=True)"
      ]
    },
    {
      "cell_type": "code",
      "execution_count": null,
      "id": "0bc584e5",
      "metadata": {
        "id": "0bc584e5"
      },
      "outputs": [],
      "source": [
        "# Model = Decision tree (dt)\n",
        "import pymrmr\n",
        "ls_feature=list(df_top150.columns[:-1])\n",
        "best_acc=-np.inf\n",
        "best_feature=None\n",
        "c=0\n",
        "col_new_order=[df_top150.columns[-1]] + df_top150.columns[:-1].tolist() # bringing label column to first column\n",
        "for n_features in range(1,151):\n",
        "    selected=pymrmr.mRMR(df_top150[col_new_order], 'MIQ', n_features)\n",
        "    acc_current, _, _, _=dt(df_top150[selected+['label']],print_results=False)\n",
        "    acc_current=acc_current.mean()\n",
        "    if best_acc<acc_current:\n",
        "        best_feature=selected[:]\n",
        "        best_acc=acc_current\n",
        "        c+=1\n",
        "        print(\"ACC Updated:\",best_acc)"
      ]
    },
    {
      "cell_type": "code",
      "execution_count": null,
      "id": "0f703f44",
      "metadata": {
        "id": "0f703f44"
      },
      "outputs": [],
      "source": [
        "# best_feature_dt=best_feature\n",
        "acc_dt, precision_dt, recall_dt, f1_dt=dt(df_top150[best_feature+['label']],print_results=True)"
      ]
    },
    {
      "cell_type": "code",
      "execution_count": null,
      "id": "40449956",
      "metadata": {},
      "outputs": [],
      "source": [
        "models2=['dt']\n",
        "\n",
        "for model in models2:\n",
        "    print(\"Model:\",model)\n",
        "    print('-'*100)\n",
        "    exec(f\"print('acc_mean:',acc_{model}.mean()* 100)\")\n",
        "    exec(f\"print('acc_std:',acc_{model}.std()* 100)\")\n",
        "    exec(f\"print(10*'--')\")\n",
        "\n",
        "    exec(f\"print('precision_mean:',precision_{model}.mean()* 100)\")\n",
        "    exec(f\"print('precision_std:',precision_{model}.std()* 100)\")\n",
        "    exec(f\"print(10*'--')\")\n",
        "\n",
        "    exec(f\"print('recall_mean:',recall_{model}.mean()* 100)\")\n",
        "    exec(f\"print('recall_std:',recall_{model}.std()* 100)\")\n",
        "    exec(f\"print(10*'--')\")\n",
        "\n",
        "    exec(f\"print('f1_mean:',f1_{model}.mean()* 100)\")\n",
        "    exec(f\"print('f1_std:',f1_{model}.std()* 100)\")\n",
        "    exec(f\"print(10*'--')\")"
      ]
    },
    {
      "cell_type": "code",
      "execution_count": null,
      "id": "7062b0ac",
      "metadata": {},
      "outputs": [],
      "source": [
        "models2=['svm','lda','rf'] # done\n",
        "\n",
        "for model in models2:\n",
        "    print(\"Model:\",model)\n",
        "    print('-'*100)\n",
        "    exec(f\"print('acc_mean:',acc_{model}.mean()* 100)\")\n",
        "    exec(f\"print('acc_std:',acc_{model}.std()* 100)\")\n",
        "    exec(f\"print(10*'--')\")\n",
        "\n",
        "    exec(f\"print('precision_mean:',precision_{model}.mean()* 100)\")\n",
        "    exec(f\"print('precision_std:',precision_{model}.std()* 100)\")\n",
        "    exec(f\"print(10*'--')\")\n",
        "\n",
        "    exec(f\"print('recall_mean:',recall_{model}.mean()* 100)\")\n",
        "    exec(f\"print('recall_std:',recall_{model}.std()* 100)\")\n",
        "    exec(f\"print(10*'--')\")\n",
        "\n",
        "    exec(f\"print('f1_mean:',f1_{model}.mean()* 100)\")\n",
        "    exec(f\"print('f1_std:',f1_{model}.std()* 100)\")\n",
        "    exec(f\"print(10*'--')\")"
      ]
    },
    {
      "cell_type": "markdown",
      "id": "d11d1261",
      "metadata": {
        "id": "d11d1261"
      },
      "source": [
        "## Relief-f"
      ]
    },
    {
      "cell_type": "code",
      "execution_count": 62,
      "id": "de835560",
      "metadata": {
        "id": "de835560"
      },
      "outputs": [],
      "source": [
        "from ReliefF import ReliefF"
      ]
    },
    {
      "cell_type": "code",
      "execution_count": 63,
      "id": "d5e26dd3",
      "metadata": {
        "id": "d5e26dd3"
      },
      "outputs": [],
      "source": [
        "data=np.array(df_top150.iloc[:,:-1])\n",
        "target=np.array(df_top150.iloc[:,-1])"
      ]
    },
    {
      "cell_type": "code",
      "execution_count": null,
      "id": "1bcd8cf2",
      "metadata": {
        "id": "1bcd8cf2"
      },
      "outputs": [],
      "source": [
        "# SVM\n",
        "best_acc_svm=np.array([-np.inf,-np.inf])\n",
        "best_precision_svm=-np.inf\n",
        "best_recall_svm=-np.inf\n",
        "best_f1_svm=-np.inf\n",
        "c=0\n",
        "for i in range(1,151):\n",
        "    fs = ReliefF(n_features_to_keep=i)\n",
        "    X_train = fs.fit_transform(data, target)\n",
        "    df_selected=pd.DataFrame(np.c_[X_train,target])\n",
        "    acc_current, precision_current, recall_current, f1_current=svm(df_selected,print_results=False)\n",
        "    if best_acc_svm.mean()<acc_current.mean():\n",
        "        best_acc_svm=acc_current\n",
        "        best_precision_svm=precision_current\n",
        "        best_recall_svm=recall_current\n",
        "        best_f1_svm=f1_current\n",
        "        c+=1\n",
        "        print(\"ACC Updated:\",best_acc_svm.mean())"
      ]
    },
    {
      "cell_type": "code",
      "execution_count": null,
      "id": "db9011a8",
      "metadata": {
        "id": "db9011a8"
      },
      "outputs": [],
      "source": [
        "# RF\n",
        "best_acc_rf=np.array([-np.inf,-np.inf])\n",
        "best_precision_rf=-np.inf\n",
        "best_recall_rf=-np.inf\n",
        "best_f1_rf=-np.inf\n",
        "c=0\n",
        "for i in range(1,151):\n",
        "    fs = ReliefF(n_features_to_keep=i)\n",
        "    X_train = fs.fit_transform(data, target)\n",
        "    df_selected=pd.DataFrame(np.c_[X_train,target])\n",
        "    acc_current, precision_current, recall_current, f1_current=rf(df_selected,print_results=False)\n",
        "    if best_acc_rf.mean()<acc_current.mean():\n",
        "        best_acc_rf=acc_current\n",
        "        best_precision_rf=precision_current\n",
        "        best_recall_rf=recall_current\n",
        "        best_f1_rf=f1_current\n",
        "        c+=1\n",
        "        print(\"ACC Updated:\",best_acc_rf.mean())"
      ]
    },
    {
      "cell_type": "code",
      "execution_count": null,
      "id": "b7c5dd73",
      "metadata": {
        "id": "b7c5dd73"
      },
      "outputs": [],
      "source": [
        "# LDA\n",
        "best_acc_lda=np.array([-np.inf,-np.inf])\n",
        "best_precision_lda=-np.inf\n",
        "best_recall_lda=-np.inf\n",
        "best_f1_lda=-np.inf\n",
        "c=0\n",
        "for i in range(1,151):\n",
        "    fs = ReliefF(n_features_to_keep=i)\n",
        "    X_train = fs.fit_transform(data, target)\n",
        "    df_selected=pd.DataFrame(np.c_[X_train,target])\n",
        "    acc_current, precision_current, recall_current, f1_current=lda(df_selected,print_results=False)\n",
        "    if best_acc_lda.mean()<acc_current.mean():\n",
        "        best_acc_lda=acc_current\n",
        "        best_precision_lda=precision_current\n",
        "        best_recall_lda=recall_current\n",
        "        best_f1_lda=f1_current\n",
        "        c+=1\n",
        "        print(\"ACC Updated:\",best_acc_lda.mean())"
      ]
    },
    {
      "cell_type": "code",
      "execution_count": null,
      "id": "2cd4a290",
      "metadata": {
        "id": "2cd4a290"
      },
      "outputs": [],
      "source": [
        "# DT\n",
        "best_acc_dt=np.array([-np.inf,-np.inf])\n",
        "best_precision_dt=-np.inf\n",
        "best_recall_dt=-np.inf\n",
        "best_f1_dt=-np.inf\n",
        "c=0\n",
        "for i in range(1,151):\n",
        "    fs = ReliefF(n_features_to_keep=i)\n",
        "    X_train = fs.fit_transform(data, target)\n",
        "    df_selected=pd.DataFrame(np.c_[X_train,target])\n",
        "    acc_current, precision_current, recall_current, f1_current=dt(df_selected,print_results=False)\n",
        "    if best_acc_dt.mean()<acc_current.mean():\n",
        "        best_acc_dt=acc_current\n",
        "        best_precision_dt=precision_current\n",
        "        best_recall_dt=recall_current\n",
        "        best_f1_dt=f1_current\n",
        "        c+=1\n",
        "        print(\"ACC Updated:\",best_acc_dt.mean())"
      ]
    },
    {
      "cell_type": "code",
      "execution_count": null,
      "id": "7edaefbe",
      "metadata": {
        "id": "7edaefbe"
      },
      "outputs": [],
      "source": [
        "best_acc_lda\n",
        "for model in models:\n",
        "    print(\"Model:\",model)\n",
        "    print('-'*100)\n",
        "    exec(f\"print('acc_mean:',best_acc_{model}.mean()* 100)\")\n",
        "    exec(f\"print('acc_std:',best_acc_{model}.std()* 100)\")\n",
        "    exec(f\"print(10*'--')\")\n",
        "\n",
        "    exec(f\"print('precision_mean:',best_precision_{model}.mean()* 100)\")\n",
        "    exec(f\"print('precision_std:',best_precision_{model}.std()* 100)\")\n",
        "    exec(f\"print(10*'--')\")\n",
        "\n",
        "    exec(f\"print('recall_mean:',best_recall_{model}.mean()* 100)\")\n",
        "    exec(f\"print('recall_std:',best_recall_{model}.std()* 100)\")\n",
        "    exec(f\"print(10*'--')\")\n",
        "\n",
        "    exec(f\"print('f1_mean:',best_f1_{model}.mean()* 100)\")\n",
        "    exec(f\"print('f1_std:',best_f1_{model}.std()* 100)\")\n",
        "    exec(f\"print(10*'--')\")"
      ]
    },
    {
      "cell_type": "markdown",
      "id": "855808c3",
      "metadata": {
        "id": "855808c3"
      },
      "source": [
        "# Save"
      ]
    },
    {
      "cell_type": "code",
      "execution_count": 69,
      "id": "6f911b4b",
      "metadata": {
        "id": "6f911b4b"
      },
      "outputs": [],
      "source": [
        "# df_all_auc.groupby(\"band\").count().to_csv(save_path+ f'band_importance_Navg{n_avg}_Ntop_{n_top}.csv')\n",
        "results.to_csv(save_path+ f'result_Navg{n_avg}_Ntop_{n_top}.csv',float_format='%.3f')"
      ]
    },
    {
      "cell_type": "code",
      "execution_count": 70,
      "id": "48ac0dc7",
      "metadata": {
        "id": "48ac0dc7"
      },
      "outputs": [],
      "source": [
        "# # models=['svm','lda','rf','dt']\n",
        "# models=['svm']\n",
        "# # bands=['delta','theta','alpha','beta','gamma','top150']\n",
        "# bands=['top150']\n",
        "# for band in bands:\n",
        "#     for model in models:\n",
        "#         exec(f'plot_results(df_results_{model}_{band},save_path+\"Navg{n_avg}_Ntop_{n_top}_{model}_{band}\",save_plot)')"
      ]
    },
    {
      "cell_type": "code",
      "execution_count": 51,
      "id": "3baf1f04",
      "metadata": {},
      "outputs": [],
      "source": [
        "with open(save_path+'svm_with_fs_best_feature', 'rb') as file_pi1:\n",
        "        feature_svm_top150 = pickle.load(file_pi1)\n",
        "with open(save_path+'svm_with_fs_df_results', 'rb') as file_pi1:\n",
        "        df_results_svm_top150 = pickle.load(file_pi1)\n",
        "\n",
        "with open(save_path+'lda_with_fs_best_feature', 'rb') as file_pi1:\n",
        "        feature_lda_top150 = pickle.load(file_pi1)\n",
        "with open(save_path+'lda_with_fs_df_results', 'rb') as file_pi1:\n",
        "        df_results_lda_top150 = pickle.load(file_pi1)\n",
        "\n",
        "with open(save_path+'rf_with_fs_best_feature', 'rb') as file_pi1:\n",
        "        feature_rf_top150 = pickle.load(file_pi1)\n",
        "with open(save_path+'rf_with_fs_df_results', 'rb') as file_pi1:\n",
        "        df_results_rf_top150 = pickle.load(file_pi1)\n",
        "\n",
        "with open(save_path+'dt_with_fs_best_feature', 'rb') as file_pi1:\n",
        "        feature_dt_top150 = pickle.load(file_pi1)\n",
        "with open(save_path+'dt_with_fs_df_results', 'rb') as file_pi1:\n",
        "        df_results_dt_top150 = pickle.load(file_pi1)"
      ]
    },
    {
      "cell_type": "code",
      "execution_count": null,
      "id": "95dc076d",
      "metadata": {
        "id": "95dc076d"
      },
      "outputs": [],
      "source": [
        "df_plot=pd.DataFrame([])\n",
        "df_results_svm_top150\n",
        "for i in df_results_svm_top150['Features'].unique()[:150:2]:\n",
        "    df_plot[f'{int(i+2)}']=pd.Series(df_results_svm_top150[df_results_svm_top150['Features']==i]['Accouracy'].values)\n",
        "df_plot"
      ]
    },
    {
      "cell_type": "code",
      "execution_count": null,
      "id": "59610e33",
      "metadata": {},
      "outputs": [],
      "source": [
        "from matplotlib import rcParams\n",
        "\n",
        "# figure size in inches\n",
        "sns.set(style=\"whitegrid\", font_scale=1.5)\n",
        "rcParams['figure.figsize'] = 25,14\n",
        "plt.rcParams[\"font.weight\"] = \"bold\"\n",
        "plt.rcParams[\"axes.labelweight\"] = \"bold\"\n",
        "data=np.array(df_plot)\n",
        "np.nan_to_num(data,0)\n",
        "max_col= data.max(axis=0)\n",
        "rank = max_col.argsort()[::-1].argsort()\n",
        "pal = sns.color_palette(\"light:r\", len(max_col))\n",
        "ax = sns.boxplot(data=df_plot,palette=np.array(pal[::-1])[rank],linewidth=2.5)\n",
        "# ax.axes.set_title(\"Title\",fontsize=50)\n",
        "# ax.set_xlabel(\"X Label\",fontsize=30)\n",
        "# ax.set_ylabel(\"Y Label\",fontsize=20)\n",
        "ax.tick_params(labelsize=30)\n",
        "ax.set_xticklabels(ax.get_xticklabels(),rotation=45)\n",
        "plt.savefig(save_fig+\"svm_fs_150_till40.svg\")"
      ]
    },
    {
      "cell_type": "code",
      "execution_count": null,
      "id": "db95c15b",
      "metadata": {
        "id": "db95c15b"
      },
      "outputs": [],
      "source": [
        "from matplotlib import rcParams\n",
        "\n",
        "# figure size in inches\n",
        "sns.set(style=\"whitegrid\", font_scale=1.5)\n",
        "rcParams['figure.figsize'] = 25,14\n",
        "plt.rcParams[\"font.weight\"] = \"bold\"\n",
        "plt.rcParams[\"axes.labelweight\"] = \"bold\"\n",
        "data=np.array(df_plot)\n",
        "np.nan_to_num(data,0)\n",
        "max_col= data.max(axis=0)\n",
        "rank = max_col.argsort()[::-1].argsort()\n",
        "pal = sns.color_palette(\"light:r\", len(max_col))\n",
        "ax = sns.boxplot(data=df_plot,palette=np.array(pal[::-1])[rank],linewidth=2.5)\n",
        "# ax.axes.set_title(\"Title\",fontsize=50)\n",
        "# ax.set_xlabel(\"X Label\",fontsize=30)\n",
        "# ax.set_ylabel(\"Y Label\",fontsize=20)\n",
        "ax.tick_params(labelsize=30)\n",
        "ax.set_xticklabels(ax.get_xticklabels(),rotation=45)\n",
        "plt.savefig(save_fig+\"svm_fs_150_till40.svg\")"
      ]
    },
    {
      "cell_type": "markdown",
      "id": "0faf28bf",
      "metadata": {
        "id": "0faf28bf"
      },
      "source": [
        "# Delta"
      ]
    },
    {
      "cell_type": "code",
      "execution_count": null,
      "id": "7b906f5c",
      "metadata": {
        "id": "7b906f5c",
        "scrolled": true
      },
      "outputs": [],
      "source": [
        "print(\"SVM:\",', '.join(feature_svm_delta), \"\\nNumber of connections:\", len(feature_svm_delta))\n",
        "print(\"\\nLDA:\",', '.join(feature_lda_delta), \"\\nNumber of connections:\", len(feature_lda_delta))\n",
        "print(\"\\nRF:\",', '.join(feature_rf_delta), \"\\nNumber of connections:\", len(feature_rf_delta))\n",
        "print(\"\\nDT:\",', '.join(feature_dt_delta), \"\\nNumber of connections:\", len(feature_dt_delta))"
      ]
    },
    {
      "cell_type": "code",
      "execution_count": null,
      "id": "da8efde8",
      "metadata": {
        "id": "da8efde8"
      },
      "outputs": [],
      "source": [
        "set.intersection(*map(set,[feature_svm_delta,feature_lda_delta,feature_rf_delta,feature_dt_delta]))"
      ]
    },
    {
      "cell_type": "markdown",
      "id": "9ff6baa2",
      "metadata": {
        "id": "9ff6baa2"
      },
      "source": [
        "# Theta"
      ]
    },
    {
      "cell_type": "code",
      "execution_count": null,
      "id": "8d56c171",
      "metadata": {
        "id": "8d56c171"
      },
      "outputs": [],
      "source": [
        "print(\"SVM:\",', '.join(feature_svm_theta), \"\\nNumber of connections:\", len(feature_svm_theta))\n",
        "print(\"\\nLDA:\",', '.join(feature_lda_theta), \"\\nNumber of connections:\", len(feature_lda_theta))\n",
        "print(\"\\nRF:\",', '.join(feature_rf_theta), \"\\nNumber of connections:\", len(feature_rf_theta))\n",
        "print(\"\\nDT:\",', '.join(feature_dt_theta), \"\\nNumber of connections:\", len(feature_dt_theta))"
      ]
    },
    {
      "cell_type": "code",
      "execution_count": null,
      "id": "efbadade",
      "metadata": {
        "id": "efbadade"
      },
      "outputs": [],
      "source": [
        "set.intersection(*map(set,[feature_svm_theta,feature_lda_theta,feature_rf_theta,feature_dt_theta]))"
      ]
    },
    {
      "cell_type": "markdown",
      "id": "ac7037f2",
      "metadata": {
        "id": "ac7037f2"
      },
      "source": [
        "# Alpha"
      ]
    },
    {
      "cell_type": "code",
      "execution_count": null,
      "id": "2c613bbe",
      "metadata": {
        "id": "2c613bbe"
      },
      "outputs": [],
      "source": [
        "print(\"SVM:\",', '.join(feature_svm_alpha), \"\\nNumber of connections:\", len(feature_svm_alpha))\n",
        "print(\"\\nLDA:\",', '.join(feature_lda_alpha), \"\\nNumber of connections:\", len(feature_lda_alpha))\n",
        "print(\"\\nRF:\",', '.join(feature_rf_alpha), \"\\nNumber of connections:\", len(feature_rf_alpha))\n",
        "print(\"\\nDT:\",', '.join(feature_dt_alpha), \"\\nNumber of connections:\", len(feature_dt_alpha))"
      ]
    },
    {
      "cell_type": "code",
      "execution_count": null,
      "id": "aa8bc527",
      "metadata": {
        "id": "aa8bc527"
      },
      "outputs": [],
      "source": [
        "set.intersection(*map(set,[feature_svm_alpha,feature_lda_alpha,feature_rf_alpha,feature_dt_alpha]))"
      ]
    },
    {
      "cell_type": "markdown",
      "id": "542fe473",
      "metadata": {
        "id": "542fe473"
      },
      "source": [
        "# Beta"
      ]
    },
    {
      "cell_type": "code",
      "execution_count": null,
      "id": "2a34e16a",
      "metadata": {
        "id": "2a34e16a"
      },
      "outputs": [],
      "source": [
        "print(\"SVM:\",', '.join(feature_svm_beta), \"\\nNumber of connections:\", len(feature_svm_beta))\n",
        "print(\"\\nLDA:\",', '.join(feature_lda_beta), \"\\nNumber of connections:\", len(feature_lda_beta))\n",
        "print(\"\\nRF:\",', '.join(feature_rf_beta), \"\\nNumber of connections:\", len(feature_rf_beta))\n",
        "print(\"\\nDT:\",', '.join(feature_dt_beta), \"\\nNumber of connections:\", len(feature_dt_beta))"
      ]
    },
    {
      "cell_type": "code",
      "execution_count": null,
      "id": "8df3090e",
      "metadata": {
        "id": "8df3090e"
      },
      "outputs": [],
      "source": [
        "set.intersection(*map(set,[feature_svm_beta,feature_lda_beta,feature_rf_beta,feature_dt_beta]))"
      ]
    },
    {
      "cell_type": "markdown",
      "id": "05907d2d",
      "metadata": {
        "id": "05907d2d"
      },
      "source": [
        "# Gamma"
      ]
    },
    {
      "cell_type": "code",
      "execution_count": null,
      "id": "b8c8333a",
      "metadata": {
        "id": "b8c8333a"
      },
      "outputs": [],
      "source": [
        "print(\"SVM:\",', '.join(feature_svm_gamma), \"\\nNumber of connections:\", len(feature_svm_gamma))\n",
        "print(\"\\nLDA:\",', '.join(feature_lda_gamma), \"\\nNumber of connections:\", len(feature_lda_gamma))\n",
        "print(\"\\nRF:\",', '.join(feature_rf_gamma), \"\\nNumber of connections:\", len(feature_rf_gamma))\n",
        "print(\"\\nDT:\",', '.join(feature_dt_gamma), \"\\nNumber of connections:\", len(feature_dt_gamma))"
      ]
    },
    {
      "cell_type": "code",
      "execution_count": null,
      "id": "568d7c90",
      "metadata": {
        "id": "568d7c90"
      },
      "outputs": [],
      "source": [
        "set.intersection(*map(set,[feature_svm_gamma,feature_lda_gamma,feature_rf_gamma,feature_dt_gamma]))"
      ]
    },
    {
      "cell_type": "markdown",
      "id": "6ec70f67",
      "metadata": {
        "id": "6ec70f67"
      },
      "source": [
        "# Top150"
      ]
    },
    {
      "cell_type": "code",
      "execution_count": null,
      "id": "d3970c22",
      "metadata": {
        "id": "d3970c22"
      },
      "outputs": [],
      "source": [
        "print(\"SVM:\",', '.join(feature_svm_top150), \"\\nNumber of connections:\", len(feature_svm_top150))\n",
        "print(\"\\nLDA:\",', '.join(feature_lda_top150), \"\\nNumber of connections:\", len(feature_lda_top150))\n",
        "print(\"\\nRF:\",', '.join(feature_rf_top150), \"\\nNumber of connections:\", len(feature_rf_top150))\n",
        "print(\"\\nDT:\",', '.join(feature_dt_top150), \"\\nNumber of connections:\", len(feature_dt_top150))"
      ]
    },
    {
      "cell_type": "code",
      "execution_count": null,
      "id": "a973df50",
      "metadata": {
        "id": "a973df50"
      },
      "outputs": [],
      "source": [
        "set.intersection(*map(set,[feature_svm_top150,feature_rf_top150]))"
      ]
    },
    {
      "cell_type": "markdown",
      "id": "RsK58-Qot8CT",
      "metadata": {
        "id": "RsK58-Qot8CT"
      },
      "source": [
        "# ?"
      ]
    },
    {
      "cell_type": "code",
      "execution_count": 83,
      "id": "aa691485",
      "metadata": {
        "id": "aa691485"
      },
      "outputs": [],
      "source": [
        "df_selected_feature=pd.DataFrame(feature_svm_top150)\n",
        "df_selected_feature[\"From\"]=df_selected_feature[0].apply(lambda x:(x.split(' ')[0]).split(\"=>\")[0])\n",
        "df_selected_feature[\"To\"]=df_selected_feature[0].apply(lambda x:(x.split(' ')[0]).split(\"=>\")[1])\n",
        "df_selected_feature['connection']=df_selected_feature[0].apply(lambda x:x.split(' ')[0])\n",
        "df_selected_feature['band']=df_selected_feature[0].apply(lambda x:x.split(' ')[1])\n",
        "del df_selected_feature[0]"
      ]
    },
    {
      "cell_type": "code",
      "execution_count": null,
      "id": "ae616a83",
      "metadata": {
        "id": "ae616a83"
      },
      "outputs": [],
      "source": [
        "df_selected_feature"
      ]
    },
    {
      "cell_type": "code",
      "execution_count": null,
      "id": "4ac9344d",
      "metadata": {
        "id": "4ac9344d",
        "scrolled": true
      },
      "outputs": [],
      "source": [
        "df_selected_feature.groupby('To').count().sort_values('band',ascending=False)"
      ]
    },
    {
      "cell_type": "code",
      "execution_count": null,
      "id": "252bbe6a",
      "metadata": {
        "id": "252bbe6a"
      },
      "outputs": [],
      "source": [
        "df_selected_feature.groupby('From').count().sort_values('band',ascending=False)"
      ]
    },
    {
      "cell_type": "code",
      "execution_count": null,
      "id": "198f6e3b",
      "metadata": {
        "id": "198f6e3b"
      },
      "outputs": [],
      "source": [
        "df_selected_feature.groupby('band').count().sort_values('To',ascending=False)"
      ]
    }
  ],
  "metadata": {
    "colab": {
      "collapsed_sections": [
        "NyQ8kgmXrFPX",
        "e1d3H4VmQOmQ",
        "llnrzqYbq8fa",
        "c6a02682",
        "bfbf0a10",
        "898c7f83",
        "d2d2d1b4",
        "cc528283",
        "65c58a3d"
      ],
      "provenance": []
    },
    "kernelspec": {
      "display_name": "Python 3",
      "name": "python3"
    },
    "language_info": {
      "codemirror_mode": {
        "name": "ipython",
        "version": 3
      },
      "file_extension": ".py",
      "mimetype": "text/x-python",
      "name": "python",
      "nbconvert_exporter": "python",
      "pygments_lexer": "ipython3",
      "version": "3.9.18"
    }
  },
  "nbformat": 4,
  "nbformat_minor": 5
}
